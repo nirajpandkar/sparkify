{
 "cells": [
  {
   "cell_type": "markdown",
   "metadata": {},
   "source": [
    "# Sparkify Project Workspace\n",
    "This workspace contains a tiny subset (128MB) of the full dataset available (12GB). Feel free to use this workspace to build your project, or to explore a smaller subset with Spark before deploying your cluster on the cloud. Instructions for setting up your Spark cluster is included in the last lesson of the Extracurricular Spark Course content.\n",
    "\n",
    "You can follow the steps below to guide your data analysis and model building portion of this project."
   ]
  },
  {
   "cell_type": "code",
   "execution_count": 1,
   "metadata": {},
   "outputs": [],
   "source": [
    "# import libraries\n",
    "import re\n",
    "\n",
    "from pyspark.sql import SparkSession\n",
    "from pyspark.sql.types import StringType, LongType\n",
    "from pyspark.sql.functions import col, sum, countDistinct, udf, max, min, isnull, datediff\n",
    "from pyspark.ml.feature import VectorAssembler\n",
    "from pyspark.mllib.evaluation import MulticlassMetrics\n",
    "\n",
    "from pyspark.ml.tuning import CrossValidator, ParamGridBuilder\n",
    "from pyspark.ml.evaluation import BinaryClassificationEvaluator\n",
    "from pyspark.ml.classification import LogisticRegression\n",
    "\n",
    "from pyspark.ml.classification import DecisionTreeClassifier, RandomForestClassifier, GBTClassifier\n",
    "\n",
    "import pandas as pd\n",
    "from matplotlib import pyplot as plt\n",
    "import seaborn as sns"
   ]
  },
  {
   "cell_type": "code",
   "execution_count": 2,
   "metadata": {},
   "outputs": [],
   "source": [
    "# create a Spark session\n",
    "spark = SparkSession.builder.appName(\"sparkify\").getOrCreate()"
   ]
  },
  {
   "cell_type": "markdown",
   "metadata": {},
   "source": [
    "# Load and Clean Dataset"
   ]
  },
  {
   "cell_type": "code",
   "execution_count": 3,
   "metadata": {},
   "outputs": [],
   "source": [
    "path = \"medium-sparkify-event-data.json\"\n",
    "df = spark.read.json(path)"
   ]
  },
  {
   "cell_type": "code",
   "execution_count": 4,
   "metadata": {},
   "outputs": [
    {
     "name": "stdout",
     "output_type": "stream",
     "text": [
      "root\n",
      " |-- artist: string (nullable = true)\n",
      " |-- auth: string (nullable = true)\n",
      " |-- firstName: string (nullable = true)\n",
      " |-- gender: string (nullable = true)\n",
      " |-- itemInSession: long (nullable = true)\n",
      " |-- lastName: string (nullable = true)\n",
      " |-- length: double (nullable = true)\n",
      " |-- level: string (nullable = true)\n",
      " |-- location: string (nullable = true)\n",
      " |-- method: string (nullable = true)\n",
      " |-- page: string (nullable = true)\n",
      " |-- registration: long (nullable = true)\n",
      " |-- sessionId: long (nullable = true)\n",
      " |-- song: string (nullable = true)\n",
      " |-- status: long (nullable = true)\n",
      " |-- ts: long (nullable = true)\n",
      " |-- userAgent: string (nullable = true)\n",
      " |-- userId: string (nullable = true)\n",
      "\n"
     ]
    }
   ],
   "source": [
    "df.printSchema()"
   ]
  },
  {
   "cell_type": "markdown",
   "metadata": {},
   "source": [
    "#### Let's look at the variables to get a good understanding of the data and missing values if any"
   ]
  },
  {
   "cell_type": "markdown",
   "metadata": {},
   "source": [
    "[Stackoverflow](https://stackoverflow.com/a/44413456/4411757)"
   ]
  },
  {
   "cell_type": "code",
   "execution_count": 5,
   "metadata": {},
   "outputs": [
    {
     "data": {
      "text/html": [
       "<div>\n",
       "<style scoped>\n",
       "    .dataframe tbody tr th:only-of-type {\n",
       "        vertical-align: middle;\n",
       "    }\n",
       "\n",
       "    .dataframe tbody tr th {\n",
       "        vertical-align: top;\n",
       "    }\n",
       "\n",
       "    .dataframe thead th {\n",
       "        text-align: right;\n",
       "    }\n",
       "</style>\n",
       "<table border=\"1\" class=\"dataframe\">\n",
       "  <thead>\n",
       "    <tr style=\"text-align: right;\">\n",
       "      <th></th>\n",
       "      <th>0</th>\n",
       "    </tr>\n",
       "  </thead>\n",
       "  <tbody>\n",
       "    <tr>\n",
       "      <th>artist</th>\n",
       "      <td>110828</td>\n",
       "    </tr>\n",
       "    <tr>\n",
       "      <th>auth</th>\n",
       "      <td>0</td>\n",
       "    </tr>\n",
       "    <tr>\n",
       "      <th>firstName</th>\n",
       "      <td>15700</td>\n",
       "    </tr>\n",
       "    <tr>\n",
       "      <th>gender</th>\n",
       "      <td>15700</td>\n",
       "    </tr>\n",
       "    <tr>\n",
       "      <th>itemInSession</th>\n",
       "      <td>0</td>\n",
       "    </tr>\n",
       "    <tr>\n",
       "      <th>lastName</th>\n",
       "      <td>15700</td>\n",
       "    </tr>\n",
       "    <tr>\n",
       "      <th>length</th>\n",
       "      <td>110828</td>\n",
       "    </tr>\n",
       "    <tr>\n",
       "      <th>level</th>\n",
       "      <td>0</td>\n",
       "    </tr>\n",
       "    <tr>\n",
       "      <th>location</th>\n",
       "      <td>15700</td>\n",
       "    </tr>\n",
       "    <tr>\n",
       "      <th>method</th>\n",
       "      <td>0</td>\n",
       "    </tr>\n",
       "    <tr>\n",
       "      <th>page</th>\n",
       "      <td>0</td>\n",
       "    </tr>\n",
       "    <tr>\n",
       "      <th>registration</th>\n",
       "      <td>15700</td>\n",
       "    </tr>\n",
       "    <tr>\n",
       "      <th>sessionId</th>\n",
       "      <td>0</td>\n",
       "    </tr>\n",
       "    <tr>\n",
       "      <th>song</th>\n",
       "      <td>110828</td>\n",
       "    </tr>\n",
       "    <tr>\n",
       "      <th>status</th>\n",
       "      <td>0</td>\n",
       "    </tr>\n",
       "    <tr>\n",
       "      <th>ts</th>\n",
       "      <td>0</td>\n",
       "    </tr>\n",
       "    <tr>\n",
       "      <th>userAgent</th>\n",
       "      <td>15700</td>\n",
       "    </tr>\n",
       "    <tr>\n",
       "      <th>userId</th>\n",
       "      <td>0</td>\n",
       "    </tr>\n",
       "  </tbody>\n",
       "</table>\n",
       "</div>"
      ],
      "text/plain": [
       "                    0\n",
       "artist         110828\n",
       "auth                0\n",
       "firstName       15700\n",
       "gender          15700\n",
       "itemInSession       0\n",
       "lastName        15700\n",
       "length         110828\n",
       "level               0\n",
       "location        15700\n",
       "method              0\n",
       "page                0\n",
       "registration    15700\n",
       "sessionId           0\n",
       "song           110828\n",
       "status              0\n",
       "ts                  0\n",
       "userAgent       15700\n",
       "userId              0"
      ]
     },
     "execution_count": 5,
     "metadata": {},
     "output_type": "execute_result"
    }
   ],
   "source": [
    "df.select(*(sum(col(c).isNull().cast(\"int\")).alias(c) for c in df.columns)).toPandas().T"
   ]
  },
  {
   "cell_type": "markdown",
   "metadata": {},
   "source": [
    "* From the above counts, we can observe that if a song isn't present (is null), there obviously won't be an artist associated. Similarly for length of the song.\n",
    "* The same missing counts for firstName, lastName and gender would indicate that the corresponding info has not been disclosed by the users. Mostly users who are not logged in."
   ]
  },
  {
   "cell_type": "markdown",
   "metadata": {},
   "source": [
    "## Exploration of empty User Ids"
   ]
  },
  {
   "cell_type": "code",
   "execution_count": 6,
   "metadata": {},
   "outputs": [
    {
     "name": "stdout",
     "output_type": "stream",
     "text": [
      "+------+\n",
      "|userId|\n",
      "+------+\n",
      "|      |\n",
      "|      |\n",
      "|      |\n",
      "|      |\n",
      "|      |\n",
      "+------+\n",
      "only showing top 5 rows\n",
      "\n"
     ]
    }
   ],
   "source": [
    "df.filter(isnull(col(\"firstName\"))).select(\"userId\").show(5)"
   ]
  },
  {
   "cell_type": "code",
   "execution_count": 7,
   "metadata": {},
   "outputs": [
    {
     "name": "stdout",
     "output_type": "stream",
     "text": [
      "+----------+\n",
      "|      auth|\n",
      "+----------+\n",
      "|Logged Out|\n",
      "|     Guest|\n",
      "+----------+\n",
      "\n"
     ]
    }
   ],
   "source": [
    "df.filter(df.userId == \"\").select(\"auth\").distinct().show()"
   ]
  },
  {
   "cell_type": "markdown",
   "metadata": {},
   "source": [
    "Empty users correspond to either logged out users or guests who don't have an account yet. We can eliminate these records for our purpose."
   ]
  },
  {
   "cell_type": "code",
   "execution_count": 8,
   "metadata": {},
   "outputs": [],
   "source": [
    "df = df.filter(df.userId != \"\")"
   ]
  },
  {
   "cell_type": "markdown",
   "metadata": {},
   "source": [
    "### UserId"
   ]
  },
  {
   "cell_type": "code",
   "execution_count": 9,
   "metadata": {},
   "outputs": [
    {
     "name": "stdout",
     "output_type": "stream",
     "text": [
      "There are 448 distinct users in the dataset\n"
     ]
    }
   ],
   "source": [
    "print(\"There are {} distinct users in the dataset\".format(df.select(\"UserId\").distinct().count()))"
   ]
  },
  {
   "cell_type": "markdown",
   "metadata": {},
   "source": [
    "### Page"
   ]
  },
  {
   "cell_type": "code",
   "execution_count": 10,
   "metadata": {},
   "outputs": [
    {
     "data": {
      "text/html": [
       "<div>\n",
       "<style scoped>\n",
       "    .dataframe tbody tr th:only-of-type {\n",
       "        vertical-align: middle;\n",
       "    }\n",
       "\n",
       "    .dataframe tbody tr th {\n",
       "        vertical-align: top;\n",
       "    }\n",
       "\n",
       "    .dataframe thead th {\n",
       "        text-align: right;\n",
       "    }\n",
       "</style>\n",
       "<table border=\"1\" class=\"dataframe\">\n",
       "  <thead>\n",
       "    <tr style=\"text-align: right;\">\n",
       "      <th></th>\n",
       "      <th>page</th>\n",
       "      <th>count</th>\n",
       "    </tr>\n",
       "  </thead>\n",
       "  <tbody>\n",
       "    <tr>\n",
       "      <th>0</th>\n",
       "      <td>NextSong</td>\n",
       "      <td>432877</td>\n",
       "    </tr>\n",
       "    <tr>\n",
       "      <th>1</th>\n",
       "      <td>Thumbs Up</td>\n",
       "      <td>23826</td>\n",
       "    </tr>\n",
       "    <tr>\n",
       "      <th>2</th>\n",
       "      <td>Home</td>\n",
       "      <td>19089</td>\n",
       "    </tr>\n",
       "    <tr>\n",
       "      <th>3</th>\n",
       "      <td>Add to Playlist</td>\n",
       "      <td>12349</td>\n",
       "    </tr>\n",
       "    <tr>\n",
       "      <th>4</th>\n",
       "      <td>Add Friend</td>\n",
       "      <td>8087</td>\n",
       "    </tr>\n",
       "    <tr>\n",
       "      <th>5</th>\n",
       "      <td>Roll Advert</td>\n",
       "      <td>7773</td>\n",
       "    </tr>\n",
       "    <tr>\n",
       "      <th>6</th>\n",
       "      <td>Logout</td>\n",
       "      <td>5990</td>\n",
       "    </tr>\n",
       "    <tr>\n",
       "      <th>7</th>\n",
       "      <td>Thumbs Down</td>\n",
       "      <td>4911</td>\n",
       "    </tr>\n",
       "    <tr>\n",
       "      <th>8</th>\n",
       "      <td>Downgrade</td>\n",
       "      <td>3811</td>\n",
       "    </tr>\n",
       "    <tr>\n",
       "      <th>9</th>\n",
       "      <td>Settings</td>\n",
       "      <td>2964</td>\n",
       "    </tr>\n",
       "    <tr>\n",
       "      <th>10</th>\n",
       "      <td>Help</td>\n",
       "      <td>2644</td>\n",
       "    </tr>\n",
       "    <tr>\n",
       "      <th>11</th>\n",
       "      <td>About</td>\n",
       "      <td>1026</td>\n",
       "    </tr>\n",
       "    <tr>\n",
       "      <th>12</th>\n",
       "      <td>Upgrade</td>\n",
       "      <td>968</td>\n",
       "    </tr>\n",
       "    <tr>\n",
       "      <th>13</th>\n",
       "      <td>Save Settings</td>\n",
       "      <td>585</td>\n",
       "    </tr>\n",
       "    <tr>\n",
       "      <th>14</th>\n",
       "      <td>Error</td>\n",
       "      <td>503</td>\n",
       "    </tr>\n",
       "    <tr>\n",
       "      <th>15</th>\n",
       "      <td>Submit Upgrade</td>\n",
       "      <td>287</td>\n",
       "    </tr>\n",
       "    <tr>\n",
       "      <th>16</th>\n",
       "      <td>Submit Downgrade</td>\n",
       "      <td>117</td>\n",
       "    </tr>\n",
       "    <tr>\n",
       "      <th>17</th>\n",
       "      <td>Cancel</td>\n",
       "      <td>99</td>\n",
       "    </tr>\n",
       "    <tr>\n",
       "      <th>18</th>\n",
       "      <td>Cancellation Confirmation</td>\n",
       "      <td>99</td>\n",
       "    </tr>\n",
       "  </tbody>\n",
       "</table>\n",
       "</div>"
      ],
      "text/plain": [
       "                         page   count\n",
       "0                    NextSong  432877\n",
       "1                   Thumbs Up   23826\n",
       "2                        Home   19089\n",
       "3             Add to Playlist   12349\n",
       "4                  Add Friend    8087\n",
       "5                 Roll Advert    7773\n",
       "6                      Logout    5990\n",
       "7                 Thumbs Down    4911\n",
       "8                   Downgrade    3811\n",
       "9                    Settings    2964\n",
       "10                       Help    2644\n",
       "11                      About    1026\n",
       "12                    Upgrade     968\n",
       "13              Save Settings     585\n",
       "14                      Error     503\n",
       "15             Submit Upgrade     287\n",
       "16           Submit Downgrade     117\n",
       "17                     Cancel      99\n",
       "18  Cancellation Confirmation      99"
      ]
     },
     "execution_count": 10,
     "metadata": {},
     "output_type": "execute_result"
    }
   ],
   "source": [
    "df.groupBy(\"page\").count().sort(col(\"count\").desc()).toPandas()"
   ]
  },
  {
   "cell_type": "markdown",
   "metadata": {},
   "source": [
    "* There's a high chance that number of Thumbs down could translate into cancellation of subscription.\n",
    "* Cancellation of subscription could be a metric for churned users."
   ]
  },
  {
   "cell_type": "code",
   "execution_count": 11,
   "metadata": {},
   "outputs": [
    {
     "name": "stdout",
     "output_type": "stream",
     "text": [
      "+------+\n",
      "|UserId|\n",
      "+------+\n",
      "+------+\n",
      "\n"
     ]
    }
   ],
   "source": [
    "df_register = df.filter(col(\"page\")==\"Register\").select(\"UserId\")\n",
    "df_register.show(10)"
   ]
  },
  {
   "cell_type": "markdown",
   "metadata": {},
   "source": [
    "### Artist"
   ]
  },
  {
   "cell_type": "code",
   "execution_count": 12,
   "metadata": {},
   "outputs": [
    {
     "name": "stdout",
     "output_type": "stream",
     "text": [
      "There are 21248 distinct artists in the dataset\n",
      "Their frequency in the dataset is as follows - \n",
      "+--------------------+-----+\n",
      "|              artist|count|\n",
      "+--------------------+-----+\n",
      "|                null|95128|\n",
      "|       Kings Of Leon| 3497|\n",
      "|            Coldplay| 3439|\n",
      "|Florence + The Ma...| 2314|\n",
      "|                Muse| 2194|\n",
      "|       Dwight Yoakam| 2187|\n",
      "|      The Black Keys| 2160|\n",
      "|            BjÃÂ¶rk| 2150|\n",
      "|       Justin Bieber| 2096|\n",
      "|        Jack Johnson| 2049|\n",
      "+--------------------+-----+\n",
      "only showing top 10 rows\n",
      "\n"
     ]
    }
   ],
   "source": [
    "print(\"There are {} distinct artists in the dataset\".format(df.select(\"artist\").distinct().count()))\n",
    "print(\"Their frequency in the dataset is as follows - \")\n",
    "df.groupBy(\"artist\").count().sort(col(\"count\").desc()).show(10)"
   ]
  },
  {
   "cell_type": "markdown",
   "metadata": {},
   "source": [
    "### Auth"
   ]
  },
  {
   "cell_type": "code",
   "execution_count": 13,
   "metadata": {},
   "outputs": [
    {
     "name": "stdout",
     "output_type": "stream",
     "text": [
      "+---------+------+\n",
      "|     auth| count|\n",
      "+---------+------+\n",
      "|Logged In|527906|\n",
      "|Cancelled|    99|\n",
      "+---------+------+\n",
      "\n"
     ]
    }
   ],
   "source": [
    "df.groupBy(\"auth\").count().sort(col(\"count\").desc()).show()"
   ]
  },
  {
   "cell_type": "markdown",
   "metadata": {},
   "source": [
    "We can probably remove Guest and Logged Out entries since they won't contribute towards churn anyways. The other three auth are what we care about."
   ]
  },
  {
   "cell_type": "markdown",
   "metadata": {},
   "source": [
    "Guest and Logged out entries have been removed when we filtered out empty users."
   ]
  },
  {
   "cell_type": "markdown",
   "metadata": {},
   "source": [
    "### Level"
   ]
  },
  {
   "cell_type": "code",
   "execution_count": 14,
   "metadata": {},
   "outputs": [
    {
     "name": "stdout",
     "output_type": "stream",
     "text": [
      "+-----+------+\n",
      "|level| count|\n",
      "+-----+------+\n",
      "| paid|418044|\n",
      "| free|109961|\n",
      "+-----+------+\n",
      "\n"
     ]
    }
   ],
   "source": [
    "df.groupBy(\"level\").count().sort(col(\"count\").desc()).show()"
   ]
  },
  {
   "cell_type": "code",
   "execution_count": 15,
   "metadata": {},
   "outputs": [
    {
     "name": "stdout",
     "output_type": "stream",
     "text": [
      "+-----+----------+\n",
      "|level|count_user|\n",
      "+-----+----------+\n",
      "| free|       370|\n",
      "| paid|       321|\n",
      "+-----+----------+\n",
      "\n"
     ]
    }
   ],
   "source": [
    "df.groupBy(\"level\").agg(countDistinct(\"UserId\").alias(\"count_user\")).sort(col(\"count_user\").desc()).show()"
   ]
  },
  {
   "cell_type": "markdown",
   "metadata": {},
   "source": [
    "* There are almost as many free users as there are paid users in the dataset. It'll be interesting to see a trend in churn possibility in paid vs free users.\n",
    "* Free users are generally shown ads in between which should either motivate them to upgrade or cancel their subscription if not satisfied."
   ]
  },
  {
   "cell_type": "markdown",
   "metadata": {},
   "source": [
    "### itemInSession and sessionId"
   ]
  },
  {
   "cell_type": "code",
   "execution_count": 16,
   "metadata": {
    "scrolled": true
   },
   "outputs": [
    {
     "data": {
      "text/html": [
       "<div>\n",
       "<style scoped>\n",
       "    .dataframe tbody tr th:only-of-type {\n",
       "        vertical-align: middle;\n",
       "    }\n",
       "\n",
       "    .dataframe tbody tr th {\n",
       "        vertical-align: top;\n",
       "    }\n",
       "\n",
       "    .dataframe thead th {\n",
       "        text-align: right;\n",
       "    }\n",
       "</style>\n",
       "<table border=\"1\" class=\"dataframe\">\n",
       "  <thead>\n",
       "    <tr style=\"text-align: right;\">\n",
       "      <th></th>\n",
       "      <th>UserId</th>\n",
       "      <th>itemInSession</th>\n",
       "      <th>sessionId</th>\n",
       "      <th>page</th>\n",
       "    </tr>\n",
       "  </thead>\n",
       "  <tbody>\n",
       "    <tr>\n",
       "      <th>0</th>\n",
       "      <td>293</td>\n",
       "      <td>1</td>\n",
       "      <td>4221</td>\n",
       "      <td>Home</td>\n",
       "    </tr>\n",
       "    <tr>\n",
       "      <th>1</th>\n",
       "      <td>293</td>\n",
       "      <td>2</td>\n",
       "      <td>4221</td>\n",
       "      <td>NextSong</td>\n",
       "    </tr>\n",
       "    <tr>\n",
       "      <th>2</th>\n",
       "      <td>293</td>\n",
       "      <td>3</td>\n",
       "      <td>4221</td>\n",
       "      <td>NextSong</td>\n",
       "    </tr>\n",
       "    <tr>\n",
       "      <th>3</th>\n",
       "      <td>293</td>\n",
       "      <td>4</td>\n",
       "      <td>4221</td>\n",
       "      <td>NextSong</td>\n",
       "    </tr>\n",
       "    <tr>\n",
       "      <th>4</th>\n",
       "      <td>293</td>\n",
       "      <td>5</td>\n",
       "      <td>4221</td>\n",
       "      <td>NextSong</td>\n",
       "    </tr>\n",
       "    <tr>\n",
       "      <th>5</th>\n",
       "      <td>293</td>\n",
       "      <td>6</td>\n",
       "      <td>4221</td>\n",
       "      <td>NextSong</td>\n",
       "    </tr>\n",
       "    <tr>\n",
       "      <th>6</th>\n",
       "      <td>293</td>\n",
       "      <td>7</td>\n",
       "      <td>4221</td>\n",
       "      <td>NextSong</td>\n",
       "    </tr>\n",
       "    <tr>\n",
       "      <th>7</th>\n",
       "      <td>293</td>\n",
       "      <td>8</td>\n",
       "      <td>4221</td>\n",
       "      <td>Help</td>\n",
       "    </tr>\n",
       "    <tr>\n",
       "      <th>8</th>\n",
       "      <td>293</td>\n",
       "      <td>9</td>\n",
       "      <td>4221</td>\n",
       "      <td>NextSong</td>\n",
       "    </tr>\n",
       "    <tr>\n",
       "      <th>9</th>\n",
       "      <td>293</td>\n",
       "      <td>10</td>\n",
       "      <td>4221</td>\n",
       "      <td>NextSong</td>\n",
       "    </tr>\n",
       "    <tr>\n",
       "      <th>10</th>\n",
       "      <td>293</td>\n",
       "      <td>11</td>\n",
       "      <td>4221</td>\n",
       "      <td>NextSong</td>\n",
       "    </tr>\n",
       "    <tr>\n",
       "      <th>11</th>\n",
       "      <td>293</td>\n",
       "      <td>12</td>\n",
       "      <td>4221</td>\n",
       "      <td>NextSong</td>\n",
       "    </tr>\n",
       "    <tr>\n",
       "      <th>12</th>\n",
       "      <td>293</td>\n",
       "      <td>13</td>\n",
       "      <td>4221</td>\n",
       "      <td>NextSong</td>\n",
       "    </tr>\n",
       "    <tr>\n",
       "      <th>13</th>\n",
       "      <td>293</td>\n",
       "      <td>14</td>\n",
       "      <td>4221</td>\n",
       "      <td>NextSong</td>\n",
       "    </tr>\n",
       "    <tr>\n",
       "      <th>14</th>\n",
       "      <td>293</td>\n",
       "      <td>15</td>\n",
       "      <td>4221</td>\n",
       "      <td>Thumbs Up</td>\n",
       "    </tr>\n",
       "    <tr>\n",
       "      <th>15</th>\n",
       "      <td>293</td>\n",
       "      <td>16</td>\n",
       "      <td>4221</td>\n",
       "      <td>Add to Playlist</td>\n",
       "    </tr>\n",
       "    <tr>\n",
       "      <th>16</th>\n",
       "      <td>293</td>\n",
       "      <td>17</td>\n",
       "      <td>4221</td>\n",
       "      <td>NextSong</td>\n",
       "    </tr>\n",
       "    <tr>\n",
       "      <th>17</th>\n",
       "      <td>293</td>\n",
       "      <td>18</td>\n",
       "      <td>4221</td>\n",
       "      <td>NextSong</td>\n",
       "    </tr>\n",
       "    <tr>\n",
       "      <th>18</th>\n",
       "      <td>293</td>\n",
       "      <td>19</td>\n",
       "      <td>4221</td>\n",
       "      <td>NextSong</td>\n",
       "    </tr>\n",
       "    <tr>\n",
       "      <th>19</th>\n",
       "      <td>293</td>\n",
       "      <td>20</td>\n",
       "      <td>4221</td>\n",
       "      <td>NextSong</td>\n",
       "    </tr>\n",
       "    <tr>\n",
       "      <th>20</th>\n",
       "      <td>293</td>\n",
       "      <td>21</td>\n",
       "      <td>4221</td>\n",
       "      <td>NextSong</td>\n",
       "    </tr>\n",
       "    <tr>\n",
       "      <th>21</th>\n",
       "      <td>293</td>\n",
       "      <td>22</td>\n",
       "      <td>4221</td>\n",
       "      <td>Add to Playlist</td>\n",
       "    </tr>\n",
       "    <tr>\n",
       "      <th>22</th>\n",
       "      <td>293</td>\n",
       "      <td>23</td>\n",
       "      <td>4221</td>\n",
       "      <td>NextSong</td>\n",
       "    </tr>\n",
       "    <tr>\n",
       "      <th>23</th>\n",
       "      <td>293</td>\n",
       "      <td>24</td>\n",
       "      <td>4221</td>\n",
       "      <td>NextSong</td>\n",
       "    </tr>\n",
       "    <tr>\n",
       "      <th>24</th>\n",
       "      <td>293</td>\n",
       "      <td>25</td>\n",
       "      <td>4221</td>\n",
       "      <td>NextSong</td>\n",
       "    </tr>\n",
       "    <tr>\n",
       "      <th>25</th>\n",
       "      <td>293</td>\n",
       "      <td>26</td>\n",
       "      <td>4221</td>\n",
       "      <td>NextSong</td>\n",
       "    </tr>\n",
       "    <tr>\n",
       "      <th>26</th>\n",
       "      <td>293</td>\n",
       "      <td>27</td>\n",
       "      <td>4221</td>\n",
       "      <td>NextSong</td>\n",
       "    </tr>\n",
       "    <tr>\n",
       "      <th>27</th>\n",
       "      <td>293</td>\n",
       "      <td>28</td>\n",
       "      <td>4221</td>\n",
       "      <td>NextSong</td>\n",
       "    </tr>\n",
       "    <tr>\n",
       "      <th>28</th>\n",
       "      <td>293</td>\n",
       "      <td>29</td>\n",
       "      <td>4221</td>\n",
       "      <td>NextSong</td>\n",
       "    </tr>\n",
       "    <tr>\n",
       "      <th>29</th>\n",
       "      <td>293</td>\n",
       "      <td>30</td>\n",
       "      <td>4221</td>\n",
       "      <td>NextSong</td>\n",
       "    </tr>\n",
       "    <tr>\n",
       "      <th>...</th>\n",
       "      <td>...</td>\n",
       "      <td>...</td>\n",
       "      <td>...</td>\n",
       "      <td>...</td>\n",
       "    </tr>\n",
       "    <tr>\n",
       "      <th>46</th>\n",
       "      <td>293</td>\n",
       "      <td>47</td>\n",
       "      <td>4221</td>\n",
       "      <td>NextSong</td>\n",
       "    </tr>\n",
       "    <tr>\n",
       "      <th>47</th>\n",
       "      <td>293</td>\n",
       "      <td>48</td>\n",
       "      <td>4221</td>\n",
       "      <td>NextSong</td>\n",
       "    </tr>\n",
       "    <tr>\n",
       "      <th>48</th>\n",
       "      <td>293</td>\n",
       "      <td>49</td>\n",
       "      <td>4221</td>\n",
       "      <td>NextSong</td>\n",
       "    </tr>\n",
       "    <tr>\n",
       "      <th>49</th>\n",
       "      <td>293</td>\n",
       "      <td>50</td>\n",
       "      <td>4221</td>\n",
       "      <td>NextSong</td>\n",
       "    </tr>\n",
       "    <tr>\n",
       "      <th>50</th>\n",
       "      <td>293</td>\n",
       "      <td>51</td>\n",
       "      <td>4221</td>\n",
       "      <td>NextSong</td>\n",
       "    </tr>\n",
       "    <tr>\n",
       "      <th>51</th>\n",
       "      <td>293</td>\n",
       "      <td>52</td>\n",
       "      <td>4221</td>\n",
       "      <td>NextSong</td>\n",
       "    </tr>\n",
       "    <tr>\n",
       "      <th>52</th>\n",
       "      <td>293</td>\n",
       "      <td>53</td>\n",
       "      <td>4221</td>\n",
       "      <td>NextSong</td>\n",
       "    </tr>\n",
       "    <tr>\n",
       "      <th>53</th>\n",
       "      <td>293</td>\n",
       "      <td>54</td>\n",
       "      <td>4221</td>\n",
       "      <td>NextSong</td>\n",
       "    </tr>\n",
       "    <tr>\n",
       "      <th>54</th>\n",
       "      <td>293</td>\n",
       "      <td>55</td>\n",
       "      <td>4221</td>\n",
       "      <td>NextSong</td>\n",
       "    </tr>\n",
       "    <tr>\n",
       "      <th>55</th>\n",
       "      <td>293</td>\n",
       "      <td>56</td>\n",
       "      <td>4221</td>\n",
       "      <td>NextSong</td>\n",
       "    </tr>\n",
       "    <tr>\n",
       "      <th>56</th>\n",
       "      <td>293</td>\n",
       "      <td>57</td>\n",
       "      <td>4221</td>\n",
       "      <td>Downgrade</td>\n",
       "    </tr>\n",
       "    <tr>\n",
       "      <th>57</th>\n",
       "      <td>293</td>\n",
       "      <td>58</td>\n",
       "      <td>4221</td>\n",
       "      <td>NextSong</td>\n",
       "    </tr>\n",
       "    <tr>\n",
       "      <th>58</th>\n",
       "      <td>293</td>\n",
       "      <td>59</td>\n",
       "      <td>4221</td>\n",
       "      <td>NextSong</td>\n",
       "    </tr>\n",
       "    <tr>\n",
       "      <th>59</th>\n",
       "      <td>293</td>\n",
       "      <td>60</td>\n",
       "      <td>4221</td>\n",
       "      <td>NextSong</td>\n",
       "    </tr>\n",
       "    <tr>\n",
       "      <th>60</th>\n",
       "      <td>293</td>\n",
       "      <td>61</td>\n",
       "      <td>4221</td>\n",
       "      <td>Thumbs Up</td>\n",
       "    </tr>\n",
       "    <tr>\n",
       "      <th>61</th>\n",
       "      <td>293</td>\n",
       "      <td>62</td>\n",
       "      <td>4221</td>\n",
       "      <td>NextSong</td>\n",
       "    </tr>\n",
       "    <tr>\n",
       "      <th>62</th>\n",
       "      <td>293</td>\n",
       "      <td>63</td>\n",
       "      <td>4221</td>\n",
       "      <td>Home</td>\n",
       "    </tr>\n",
       "    <tr>\n",
       "      <th>63</th>\n",
       "      <td>293</td>\n",
       "      <td>64</td>\n",
       "      <td>4221</td>\n",
       "      <td>NextSong</td>\n",
       "    </tr>\n",
       "    <tr>\n",
       "      <th>64</th>\n",
       "      <td>293</td>\n",
       "      <td>65</td>\n",
       "      <td>4221</td>\n",
       "      <td>NextSong</td>\n",
       "    </tr>\n",
       "    <tr>\n",
       "      <th>65</th>\n",
       "      <td>293</td>\n",
       "      <td>66</td>\n",
       "      <td>4221</td>\n",
       "      <td>NextSong</td>\n",
       "    </tr>\n",
       "    <tr>\n",
       "      <th>66</th>\n",
       "      <td>293</td>\n",
       "      <td>67</td>\n",
       "      <td>4221</td>\n",
       "      <td>NextSong</td>\n",
       "    </tr>\n",
       "    <tr>\n",
       "      <th>67</th>\n",
       "      <td>293</td>\n",
       "      <td>68</td>\n",
       "      <td>4221</td>\n",
       "      <td>Downgrade</td>\n",
       "    </tr>\n",
       "    <tr>\n",
       "      <th>68</th>\n",
       "      <td>293</td>\n",
       "      <td>69</td>\n",
       "      <td>4221</td>\n",
       "      <td>NextSong</td>\n",
       "    </tr>\n",
       "    <tr>\n",
       "      <th>69</th>\n",
       "      <td>293</td>\n",
       "      <td>70</td>\n",
       "      <td>4221</td>\n",
       "      <td>Downgrade</td>\n",
       "    </tr>\n",
       "    <tr>\n",
       "      <th>70</th>\n",
       "      <td>293</td>\n",
       "      <td>71</td>\n",
       "      <td>4221</td>\n",
       "      <td>NextSong</td>\n",
       "    </tr>\n",
       "    <tr>\n",
       "      <th>71</th>\n",
       "      <td>293</td>\n",
       "      <td>72</td>\n",
       "      <td>4221</td>\n",
       "      <td>NextSong</td>\n",
       "    </tr>\n",
       "    <tr>\n",
       "      <th>72</th>\n",
       "      <td>293</td>\n",
       "      <td>73</td>\n",
       "      <td>4221</td>\n",
       "      <td>Thumbs Down</td>\n",
       "    </tr>\n",
       "    <tr>\n",
       "      <th>73</th>\n",
       "      <td>293</td>\n",
       "      <td>74</td>\n",
       "      <td>4221</td>\n",
       "      <td>Downgrade</td>\n",
       "    </tr>\n",
       "    <tr>\n",
       "      <th>74</th>\n",
       "      <td>293</td>\n",
       "      <td>75</td>\n",
       "      <td>4221</td>\n",
       "      <td>Cancel</td>\n",
       "    </tr>\n",
       "    <tr>\n",
       "      <th>75</th>\n",
       "      <td>293</td>\n",
       "      <td>76</td>\n",
       "      <td>4221</td>\n",
       "      <td>Cancellation Confirmation</td>\n",
       "    </tr>\n",
       "  </tbody>\n",
       "</table>\n",
       "<p>76 rows × 4 columns</p>\n",
       "</div>"
      ],
      "text/plain": [
       "   UserId  itemInSession  sessionId                       page\n",
       "0     293              1       4221                       Home\n",
       "1     293              2       4221                   NextSong\n",
       "2     293              3       4221                   NextSong\n",
       "3     293              4       4221                   NextSong\n",
       "4     293              5       4221                   NextSong\n",
       "5     293              6       4221                   NextSong\n",
       "6     293              7       4221                   NextSong\n",
       "7     293              8       4221                       Help\n",
       "8     293              9       4221                   NextSong\n",
       "9     293             10       4221                   NextSong\n",
       "10    293             11       4221                   NextSong\n",
       "11    293             12       4221                   NextSong\n",
       "12    293             13       4221                   NextSong\n",
       "13    293             14       4221                   NextSong\n",
       "14    293             15       4221                  Thumbs Up\n",
       "15    293             16       4221            Add to Playlist\n",
       "16    293             17       4221                   NextSong\n",
       "17    293             18       4221                   NextSong\n",
       "18    293             19       4221                   NextSong\n",
       "19    293             20       4221                   NextSong\n",
       "20    293             21       4221                   NextSong\n",
       "21    293             22       4221            Add to Playlist\n",
       "22    293             23       4221                   NextSong\n",
       "23    293             24       4221                   NextSong\n",
       "24    293             25       4221                   NextSong\n",
       "25    293             26       4221                   NextSong\n",
       "26    293             27       4221                   NextSong\n",
       "27    293             28       4221                   NextSong\n",
       "28    293             29       4221                   NextSong\n",
       "29    293             30       4221                   NextSong\n",
       "..    ...            ...        ...                        ...\n",
       "46    293             47       4221                   NextSong\n",
       "47    293             48       4221                   NextSong\n",
       "48    293             49       4221                   NextSong\n",
       "49    293             50       4221                   NextSong\n",
       "50    293             51       4221                   NextSong\n",
       "51    293             52       4221                   NextSong\n",
       "52    293             53       4221                   NextSong\n",
       "53    293             54       4221                   NextSong\n",
       "54    293             55       4221                   NextSong\n",
       "55    293             56       4221                   NextSong\n",
       "56    293             57       4221                  Downgrade\n",
       "57    293             58       4221                   NextSong\n",
       "58    293             59       4221                   NextSong\n",
       "59    293             60       4221                   NextSong\n",
       "60    293             61       4221                  Thumbs Up\n",
       "61    293             62       4221                   NextSong\n",
       "62    293             63       4221                       Home\n",
       "63    293             64       4221                   NextSong\n",
       "64    293             65       4221                   NextSong\n",
       "65    293             66       4221                   NextSong\n",
       "66    293             67       4221                   NextSong\n",
       "67    293             68       4221                  Downgrade\n",
       "68    293             69       4221                   NextSong\n",
       "69    293             70       4221                  Downgrade\n",
       "70    293             71       4221                   NextSong\n",
       "71    293             72       4221                   NextSong\n",
       "72    293             73       4221                Thumbs Down\n",
       "73    293             74       4221                  Downgrade\n",
       "74    293             75       4221                     Cancel\n",
       "75    293             76       4221  Cancellation Confirmation\n",
       "\n",
       "[76 rows x 4 columns]"
      ]
     },
     "execution_count": 16,
     "metadata": {},
     "output_type": "execute_result"
    }
   ],
   "source": [
    "# Random user id\n",
    "user_id = df.sample(False, 0.5).limit(1).select('UserId').collect()[0]['UserId']\n",
    "# Results filtered on a particular user based on ascending order of timestamp \n",
    "df.filter((col(\"UserId\") == 293) & (col(\"sessionId\") == 4221)).select([\"UserId\", \"itemInSession\", \"sessionId\", \"page\"]).sort(col(\"ts\")).toPandas()"
   ]
  },
  {
   "cell_type": "markdown",
   "metadata": {},
   "source": [
    "* 'itemInSession' just seems to be a serial numbering of the actions taken in a session. Doesn't seem useful unless some sequential analysis on the corresponding action in 'page' is done.\n",
    "* Thought distinct 'sessionId' can be useful to count the number of times user comes back to the application to interact. Churned users should probably have less number of sessions as against non-churned users."
   ]
  },
  {
   "cell_type": "markdown",
   "metadata": {},
   "source": [
    "### userAgent"
   ]
  },
  {
   "cell_type": "markdown",
   "metadata": {},
   "source": [
    "[Writing an UDF function](https://gist.github.com/zoltanctoth/2deccd69e3d1cde1dd78)"
   ]
  },
  {
   "cell_type": "code",
   "execution_count": 17,
   "metadata": {},
   "outputs": [],
   "source": [
    "device_udf = udf(lambda x: str(re.findall(r'\\((.*?)\\)', x)[0].split(\";\")[0].split()[0]) if x is not None else None, StringType())"
   ]
  },
  {
   "cell_type": "code",
   "execution_count": 18,
   "metadata": {},
   "outputs": [],
   "source": [
    "df = df.withColumn(\"device\", device_udf(df.userAgent))"
   ]
  },
  {
   "cell_type": "code",
   "execution_count": 19,
   "metadata": {},
   "outputs": [
    {
     "name": "stdout",
     "output_type": "stream",
     "text": [
      "+----------+----------+\n",
      "|    device|count_user|\n",
      "+----------+----------+\n",
      "|   Windows|       209|\n",
      "| Macintosh|       173|\n",
      "|       X11|        26|\n",
      "|    iPhone|        18|\n",
      "|compatible|        13|\n",
      "|      iPad|         9|\n",
      "+----------+----------+\n",
      "\n"
     ]
    }
   ],
   "source": [
    "df.groupBy(\"device\").agg(countDistinct(\"UserId\").alias(\"count_user\")).sort(col(\"count_user\").desc()).show()"
   ]
  },
  {
   "cell_type": "markdown",
   "metadata": {},
   "source": [
    "We can check whether the interface GUI contributes in churned users with this information."
   ]
  },
  {
   "cell_type": "markdown",
   "metadata": {},
   "source": [
    "### ts (timestamp) and registration"
   ]
  },
  {
   "cell_type": "markdown",
   "metadata": {},
   "source": [
    "Let's view registration and ts for a user 293"
   ]
  },
  {
   "cell_type": "code",
   "execution_count": 20,
   "metadata": {},
   "outputs": [
    {
     "name": "stdout",
     "output_type": "stream",
     "text": [
      "+-------------+-------------+---------------+\n",
      "| registration|           ts|           page|\n",
      "+-------------+-------------+---------------+\n",
      "|1532063507000|1538352011000|       NextSong|\n",
      "|1532063507000|1538352608000|       NextSong|\n",
      "|1532063507000|1538352788000|       NextSong|\n",
      "|1532063507000|1538352789000|      Thumbs Up|\n",
      "|1532063507000|1538353056000|       NextSong|\n",
      "|1532063507000|1538353288000|       NextSong|\n",
      "|1532063507000|1538353527000|       NextSong|\n",
      "|1532063507000|1538353716000|       NextSong|\n",
      "|1532063507000|1538354011000|       NextSong|\n",
      "|1532063507000|1538354251000|       NextSong|\n",
      "|1532063507000|1538354431000|       NextSong|\n",
      "|1532063507000|1538354770000|       NextSong|\n",
      "|1532063507000|1538355003000|       NextSong|\n",
      "|1532063507000|1538355004000|         Logout|\n",
      "|1532063507000|1538355201000|           Home|\n",
      "|1532063507000|1538355202000|     Add Friend|\n",
      "|1532063507000|1538355235000|       NextSong|\n",
      "|1532063507000|1538355444000|       NextSong|\n",
      "|1532063507000|1538355470000|Add to Playlist|\n",
      "|1532063507000|1538355611000|       NextSong|\n",
      "+-------------+-------------+---------------+\n",
      "only showing top 20 rows\n",
      "\n"
     ]
    }
   ],
   "source": [
    "df.filter(col(\"UserId\") == 293).select([\"registration\", \"ts\", \"page\"]).sort(col(\"ts\")).show()"
   ]
  },
  {
   "cell_type": "markdown",
   "metadata": {},
   "source": [
    "**\"Unix timestamp no pretty. Me want normal datetime.\"** - Probably a person alive before 1st Jan 1970"
   ]
  },
  {
   "cell_type": "code",
   "execution_count": 21,
   "metadata": {},
   "outputs": [],
   "source": [
    "ts_dt_udf = udf(lambda x: x//1000, LongType())"
   ]
  },
  {
   "cell_type": "code",
   "execution_count": 15,
   "metadata": {},
   "outputs": [],
   "source": [
    "ts_dt_udf = udf(lambda x: x//1000, LongType())\n",
    "df = df.withColumn(\"registration_dt\", ts_dt_udf(df.registration).cast(\"timestamp\"))\n",
    "df = df.withColumn(\"timestamp_dt\", ts_dt_udf(df.ts).cast(\"timestamp\"))"
   ]
  },
  {
   "cell_type": "code",
   "execution_count": 23,
   "metadata": {},
   "outputs": [
    {
     "name": "stdout",
     "output_type": "stream",
     "text": [
      "+-------------------+-------------------+---------------+\n",
      "|    registration_dt|       timestamp_dt|           page|\n",
      "+-------------------+-------------------+---------------+\n",
      "|2018-07-20 10:41:47|2018-10-01 05:30:11|       NextSong|\n",
      "|2018-07-20 10:41:47|2018-10-01 05:40:08|       NextSong|\n",
      "|2018-07-20 10:41:47|2018-10-01 05:43:08|       NextSong|\n",
      "|2018-07-20 10:41:47|2018-10-01 05:43:09|      Thumbs Up|\n",
      "|2018-07-20 10:41:47|2018-10-01 05:47:36|       NextSong|\n",
      "|2018-07-20 10:41:47|2018-10-01 05:51:28|       NextSong|\n",
      "|2018-07-20 10:41:47|2018-10-01 05:55:27|       NextSong|\n",
      "|2018-07-20 10:41:47|2018-10-01 05:58:36|       NextSong|\n",
      "|2018-07-20 10:41:47|2018-10-01 06:03:31|       NextSong|\n",
      "|2018-07-20 10:41:47|2018-10-01 06:07:31|       NextSong|\n",
      "|2018-07-20 10:41:47|2018-10-01 06:10:31|       NextSong|\n",
      "|2018-07-20 10:41:47|2018-10-01 06:16:10|       NextSong|\n",
      "|2018-07-20 10:41:47|2018-10-01 06:20:03|       NextSong|\n",
      "|2018-07-20 10:41:47|2018-10-01 06:20:04|         Logout|\n",
      "|2018-07-20 10:41:47|2018-10-01 06:23:21|           Home|\n",
      "|2018-07-20 10:41:47|2018-10-01 06:23:22|     Add Friend|\n",
      "|2018-07-20 10:41:47|2018-10-01 06:23:55|       NextSong|\n",
      "|2018-07-20 10:41:47|2018-10-01 06:27:24|       NextSong|\n",
      "|2018-07-20 10:41:47|2018-10-01 06:27:50|Add to Playlist|\n",
      "|2018-07-20 10:41:47|2018-10-01 06:30:11|       NextSong|\n",
      "+-------------------+-------------------+---------------+\n",
      "only showing top 20 rows\n",
      "\n"
     ]
    }
   ],
   "source": [
    "df.filter(col(\"UserId\") == 293).select([\"registration_dt\", \"timestamp_dt\", \"page\"]).sort(col(\"timestamp_dt\")).show()"
   ]
  },
  {
   "cell_type": "code",
   "execution_count": 24,
   "metadata": {},
   "outputs": [
    {
     "name": "stdout",
     "output_type": "stream",
     "text": [
      "+-------------------+-------------------+\n",
      "|  min(timestamp_dt)|  max(timestamp_dt)|\n",
      "+-------------------+-------------------+\n",
      "|2018-10-01 05:30:11|2018-12-01 05:31:06|\n",
      "+-------------------+-------------------+\n",
      "\n"
     ]
    }
   ],
   "source": [
    "# Timeframe of the dataset we have at hand\n",
    "df.agg(min(\"timestamp_dt\"), max(\"timestamp_dt\")).show()"
   ]
  },
  {
   "cell_type": "code",
   "execution_count": 25,
   "metadata": {},
   "outputs": [
    {
     "name": "stdout",
     "output_type": "stream",
     "text": [
      "+--------------------+--------------------+\n",
      "|min(registration_dt)|max(registration_dt)|\n",
      "+--------------------+--------------------+\n",
      "| 2017-11-05 09:26:33| 2018-11-24 21:07:54|\n",
      "+--------------------+--------------------+\n",
      "\n"
     ]
    }
   ],
   "source": [
    "# Timeframe of registrations\n",
    "df.agg(min(\"registration_dt\"), max(\"registration_dt\")).show()"
   ]
  },
  {
   "cell_type": "markdown",
   "metadata": {},
   "source": [
    "## Correlation scatter plot\n",
    "Let's see if the variables in the dataset are derivatives of each other and whether we can eliminate some."
   ]
  },
  {
   "cell_type": "code",
   "execution_count": 26,
   "metadata": {},
   "outputs": [
    {
     "data": {
      "text/plain": [
       "[('artist', 'string'),\n",
       " ('auth', 'string'),\n",
       " ('firstName', 'string'),\n",
       " ('gender', 'string'),\n",
       " ('itemInSession', 'bigint'),\n",
       " ('lastName', 'string'),\n",
       " ('length', 'double'),\n",
       " ('level', 'string'),\n",
       " ('location', 'string'),\n",
       " ('method', 'string'),\n",
       " ('page', 'string'),\n",
       " ('registration', 'bigint'),\n",
       " ('sessionId', 'bigint'),\n",
       " ('song', 'string'),\n",
       " ('status', 'bigint'),\n",
       " ('ts', 'bigint'),\n",
       " ('userAgent', 'string'),\n",
       " ('userId', 'string'),\n",
       " ('device', 'string'),\n",
       " ('registration_dt', 'timestamp'),\n",
       " ('timestamp_dt', 'timestamp')]"
      ]
     },
     "execution_count": 26,
     "metadata": {},
     "output_type": "execute_result"
    }
   ],
   "source": [
    "df.dtypes"
   ]
  },
  {
   "cell_type": "code",
   "execution_count": 27,
   "metadata": {},
   "outputs": [
    {
     "data": {
      "text/html": [
       "<style  type=\"text/css\" >\n",
       "    #T_688009b2_4873_11e9_a530_e0d55e2acff6row0_col0 {\n",
       "            background-color:  #023858;\n",
       "        }    #T_688009b2_4873_11e9_a530_e0d55e2acff6row0_col1 {\n",
       "            background-color:  #fbf4f9;\n",
       "        }    #T_688009b2_4873_11e9_a530_e0d55e2acff6row0_col2 {\n",
       "            background-color:  #e6e2ef;\n",
       "        }    #T_688009b2_4873_11e9_a530_e0d55e2acff6row0_col3 {\n",
       "            background-color:  #fef6fa;\n",
       "        }    #T_688009b2_4873_11e9_a530_e0d55e2acff6row0_col4 {\n",
       "            background-color:  #f6eff7;\n",
       "        }    #T_688009b2_4873_11e9_a530_e0d55e2acff6row1_col0 {\n",
       "            background-color:  #fef6fa;\n",
       "        }    #T_688009b2_4873_11e9_a530_e0d55e2acff6row1_col1 {\n",
       "            background-color:  #023858;\n",
       "        }    #T_688009b2_4873_11e9_a530_e0d55e2acff6row1_col2 {\n",
       "            background-color:  #fff7fb;\n",
       "        }    #T_688009b2_4873_11e9_a530_e0d55e2acff6row1_col3 {\n",
       "            background-color:  #fdf5fa;\n",
       "        }    #T_688009b2_4873_11e9_a530_e0d55e2acff6row1_col4 {\n",
       "            background-color:  #fef6fa;\n",
       "        }    #T_688009b2_4873_11e9_a530_e0d55e2acff6row2_col0 {\n",
       "            background-color:  #e8e4f0;\n",
       "        }    #T_688009b2_4873_11e9_a530_e0d55e2acff6row2_col1 {\n",
       "            background-color:  #fff7fb;\n",
       "        }    #T_688009b2_4873_11e9_a530_e0d55e2acff6row2_col2 {\n",
       "            background-color:  #023858;\n",
       "        }    #T_688009b2_4873_11e9_a530_e0d55e2acff6row2_col3 {\n",
       "            background-color:  #fff7fb;\n",
       "        }    #T_688009b2_4873_11e9_a530_e0d55e2acff6row2_col4 {\n",
       "            background-color:  #1c7fb8;\n",
       "        }    #T_688009b2_4873_11e9_a530_e0d55e2acff6row3_col0 {\n",
       "            background-color:  #fff7fb;\n",
       "        }    #T_688009b2_4873_11e9_a530_e0d55e2acff6row3_col1 {\n",
       "            background-color:  #fcf4fa;\n",
       "        }    #T_688009b2_4873_11e9_a530_e0d55e2acff6row3_col2 {\n",
       "            background-color:  #fef6fb;\n",
       "        }    #T_688009b2_4873_11e9_a530_e0d55e2acff6row3_col3 {\n",
       "            background-color:  #023858;\n",
       "        }    #T_688009b2_4873_11e9_a530_e0d55e2acff6row3_col4 {\n",
       "            background-color:  #fff7fb;\n",
       "        }    #T_688009b2_4873_11e9_a530_e0d55e2acff6row4_col0 {\n",
       "            background-color:  #f4eef6;\n",
       "        }    #T_688009b2_4873_11e9_a530_e0d55e2acff6row4_col1 {\n",
       "            background-color:  #faf3f9;\n",
       "        }    #T_688009b2_4873_11e9_a530_e0d55e2acff6row4_col2 {\n",
       "            background-color:  #197db7;\n",
       "        }    #T_688009b2_4873_11e9_a530_e0d55e2acff6row4_col3 {\n",
       "            background-color:  #fdf5fa;\n",
       "        }    #T_688009b2_4873_11e9_a530_e0d55e2acff6row4_col4 {\n",
       "            background-color:  #023858;\n",
       "        }</style>  \n",
       "<table id=\"T_688009b2_4873_11e9_a530_e0d55e2acff6\" > \n",
       "<thead>    <tr> \n",
       "        <th class=\"blank level0\" ></th> \n",
       "        <th class=\"col_heading level0 col0\" >itemInSession</th> \n",
       "        <th class=\"col_heading level0 col1\" >registration</th> \n",
       "        <th class=\"col_heading level0 col2\" >sessionId</th> \n",
       "        <th class=\"col_heading level0 col3\" >status</th> \n",
       "        <th class=\"col_heading level0 col4\" >ts</th> \n",
       "    </tr></thead> \n",
       "<tbody>    <tr> \n",
       "        <th id=\"T_688009b2_4873_11e9_a530_e0d55e2acff6level0_row0\" class=\"row_heading level0 row0\" >itemInSession</th> \n",
       "        <td id=\"T_688009b2_4873_11e9_a530_e0d55e2acff6row0_col0\" class=\"data row0 col0\" >1</td> \n",
       "        <td id=\"T_688009b2_4873_11e9_a530_e0d55e2acff6row0_col1\" class=\"data row0 col1\" >0.00271436</td> \n",
       "        <td id=\"T_688009b2_4873_11e9_a530_e0d55e2acff6row0_col2\" class=\"data row0 col2\" >0.136745</td> \n",
       "        <td id=\"T_688009b2_4873_11e9_a530_e0d55e2acff6row0_col3\" class=\"data row0 col3\" >-0.00886451</td> \n",
       "        <td id=\"T_688009b2_4873_11e9_a530_e0d55e2acff6row0_col4\" class=\"data row0 col4\" >0.0624342</td> \n",
       "    </tr>    <tr> \n",
       "        <th id=\"T_688009b2_4873_11e9_a530_e0d55e2acff6level0_row1\" class=\"row_heading level0 row1\" >registration</th> \n",
       "        <td id=\"T_688009b2_4873_11e9_a530_e0d55e2acff6row1_col0\" class=\"data row1 col0\" >0.00271436</td> \n",
       "        <td id=\"T_688009b2_4873_11e9_a530_e0d55e2acff6row1_col1\" class=\"data row1 col1\" >1</td> \n",
       "        <td id=\"T_688009b2_4873_11e9_a530_e0d55e2acff6row1_col2\" class=\"data row1 col2\" >-0.0225756</td> \n",
       "        <td id=\"T_688009b2_4873_11e9_a530_e0d55e2acff6row1_col3\" class=\"data row1 col3\" >-0.00175422</td> \n",
       "        <td id=\"T_688009b2_4873_11e9_a530_e0d55e2acff6row1_col4\" class=\"data row1 col4\" >0.0126053</td> \n",
       "    </tr>    <tr> \n",
       "        <th id=\"T_688009b2_4873_11e9_a530_e0d55e2acff6level0_row2\" class=\"row_heading level0 row2\" >sessionId</th> \n",
       "        <td id=\"T_688009b2_4873_11e9_a530_e0d55e2acff6row2_col0\" class=\"data row2 col0\" >0.136745</td> \n",
       "        <td id=\"T_688009b2_4873_11e9_a530_e0d55e2acff6row2_col1\" class=\"data row2 col1\" >-0.0225756</td> \n",
       "        <td id=\"T_688009b2_4873_11e9_a530_e0d55e2acff6row2_col2\" class=\"data row2 col2\" >1</td> \n",
       "        <td id=\"T_688009b2_4873_11e9_a530_e0d55e2acff6row2_col3\" class=\"data row2 col3\" >-0.0168679</td> \n",
       "        <td id=\"T_688009b2_4873_11e9_a530_e0d55e2acff6row2_col4\" class=\"data row2 col4\" >0.691652</td> \n",
       "    </tr>    <tr> \n",
       "        <th id=\"T_688009b2_4873_11e9_a530_e0d55e2acff6level0_row3\" class=\"row_heading level0 row3\" >status</th> \n",
       "        <td id=\"T_688009b2_4873_11e9_a530_e0d55e2acff6row3_col0\" class=\"data row3 col0\" >-0.00886451</td> \n",
       "        <td id=\"T_688009b2_4873_11e9_a530_e0d55e2acff6row3_col1\" class=\"data row3 col1\" >-0.00175422</td> \n",
       "        <td id=\"T_688009b2_4873_11e9_a530_e0d55e2acff6row3_col2\" class=\"data row3 col2\" >-0.0168679</td> \n",
       "        <td id=\"T_688009b2_4873_11e9_a530_e0d55e2acff6row3_col3\" class=\"data row3 col3\" >1</td> \n",
       "        <td id=\"T_688009b2_4873_11e9_a530_e0d55e2acff6row3_col4\" class=\"data row3 col4\" >0.00185171</td> \n",
       "    </tr>    <tr> \n",
       "        <th id=\"T_688009b2_4873_11e9_a530_e0d55e2acff6level0_row4\" class=\"row_heading level0 row4\" >ts</th> \n",
       "        <td id=\"T_688009b2_4873_11e9_a530_e0d55e2acff6row4_col0\" class=\"data row4 col0\" >0.0624342</td> \n",
       "        <td id=\"T_688009b2_4873_11e9_a530_e0d55e2acff6row4_col1\" class=\"data row4 col1\" >0.0126053</td> \n",
       "        <td id=\"T_688009b2_4873_11e9_a530_e0d55e2acff6row4_col2\" class=\"data row4 col2\" >0.691652</td> \n",
       "        <td id=\"T_688009b2_4873_11e9_a530_e0d55e2acff6row4_col3\" class=\"data row4 col3\" >0.00185171</td> \n",
       "        <td id=\"T_688009b2_4873_11e9_a530_e0d55e2acff6row4_col4\" class=\"data row4 col4\" >1</td> \n",
       "    </tr></tbody> \n",
       "</table> "
      ],
      "text/plain": [
       "<pandas.io.formats.style.Styler at 0x7f380d0015f8>"
      ]
     },
     "execution_count": 27,
     "metadata": {},
     "output_type": "execute_result"
    }
   ],
   "source": [
    "numeric_features = [t[0] for t in df.dtypes if t[1] == 'bigint']\n",
    "\n",
    "sampled_data = df.select(numeric_features).sample(False, 0.10).toPandas()\n",
    "sampled_data\n",
    "# axs = pd.scatter_matrix(sampled_data, figsize=(12, 12));\n",
    "corr = sampled_data.corr()\n",
    "corr.style.background_gradient()"
   ]
  },
  {
   "cell_type": "markdown",
   "metadata": {},
   "source": [
    "'ts' and 'sessionId' seem to have a correlation between them. Let's check that out."
   ]
  },
  {
   "cell_type": "code",
   "execution_count": 28,
   "metadata": {
    "scrolled": true
   },
   "outputs": [],
   "source": [
    "session_ts_df = df.select([\"timestamp_dt\", \"sessionId\"]).sort(col(\"timestamp_dt\")).toPandas()"
   ]
  },
  {
   "cell_type": "code",
   "execution_count": 29,
   "metadata": {},
   "outputs": [
    {
     "name": "stderr",
     "output_type": "stream",
     "text": [
      "/home/niraj/.virtualenvs/text/lib/python3.5/site-packages/scipy/stats/stats.py:1713: FutureWarning: Using a non-tuple sequence for multidimensional indexing is deprecated; use `arr[tuple(seq)]` instead of `arr[seq]`. In the future this will be interpreted as an array index, `arr[np.array(seq)]`, which will result either in an error or a different result.\n",
      "  return np.add.reduce(sorted[indexer] * weights, axis=axis) / sumval\n"
     ]
    },
    {
     "data": {
      "image/png": "[encoded data removed]",
      "text/plain": [
       "<Figure size 720x432 with 1 Axes>"
      ]
     },
     "metadata": {
      "needs_background": "light"
     },
     "output_type": "display_data"
    }
   ],
   "source": [
    "fig, ax = plt.subplots(figsize=(10,6))\n",
    "\n",
    "g = sns.lineplot(ax=ax, x=\"timestamp_dt\", y=\"sessionId\", data=session_ts_df)\n",
    "g.set_xticklabels(g.get_xticklabels(), rotation=30)\n",
    "plt.show()"
   ]
  },
  {
   "cell_type": "markdown",
   "metadata": {},
   "source": [
    "# Exploratory Data Analysis"
   ]
  },
  {
   "cell_type": "markdown",
   "metadata": {},
   "source": [
    "### Define Churn\n",
    "\n",
    "Once you've done some preliminary analysis, create a column `Churn` to use as the label for your model. I suggest using the `Cancellation Confirmation` events to define your churn, which happen for both paid and free users. As a bonus task, you can also look into the `Downgrade` events."
   ]
  },
  {
   "cell_type": "code",
   "execution_count": 30,
   "metadata": {},
   "outputs": [],
   "source": [
    "cancelled_users = df.filter(col(\"page\") == \"Cancellation Confirmation\").select(\"userId\").toPandas().userId.tolist()"
   ]
  },
  {
   "cell_type": "code",
   "execution_count": 31,
   "metadata": {},
   "outputs": [
    {
     "data": {
      "text/plain": [
       "['208',\n",
       " '231',\n",
       " '236',\n",
       " '156',\n",
       " '271',\n",
       " '200',\n",
       " '130',\n",
       " '123',\n",
       " '54',\n",
       " '39',\n",
       " '154',\n",
       " '132',\n",
       " '10',\n",
       " '296',\n",
       " '187',\n",
       " '51',\n",
       " '13',\n",
       " '32',\n",
       " '28',\n",
       " '198',\n",
       " '196',\n",
       " '172',\n",
       " '189',\n",
       " '234',\n",
       " '16',\n",
       " '214',\n",
       " '246',\n",
       " '88',\n",
       " '45',\n",
       " '61',\n",
       " '124',\n",
       " '223',\n",
       " '41',\n",
       " '221',\n",
       " '162',\n",
       " '131',\n",
       " '288',\n",
       " '265',\n",
       " '188',\n",
       " '120',\n",
       " '293',\n",
       " '126',\n",
       " '164',\n",
       " '11',\n",
       " '118',\n",
       " '89',\n",
       " '167',\n",
       " '34',\n",
       " '81',\n",
       " '18',\n",
       " '85',\n",
       " '140',\n",
       " '100001',\n",
       " '100013',\n",
       " '100030',\n",
       " '100032',\n",
       " '100044',\n",
       " '100036',\n",
       " '100023',\n",
       " '100005',\n",
       " '100049',\n",
       " '100018',\n",
       " '100047',\n",
       " '100010',\n",
       " '100004',\n",
       " '100038',\n",
       " '100045',\n",
       " '100014',\n",
       " '100028',\n",
       " '100016',\n",
       " '100042',\n",
       " '100041',\n",
       " '100040',\n",
       " '100025',\n",
       " '100012',\n",
       " '100003',\n",
       " '100048',\n",
       " '100043',\n",
       " '100017',\n",
       " '100024',\n",
       " '100051',\n",
       " '100011',\n",
       " '200016',\n",
       " '200037',\n",
       " '200041',\n",
       " '200002',\n",
       " '200013',\n",
       " '200021',\n",
       " '200008',\n",
       " '200027',\n",
       " '200050',\n",
       " '200028',\n",
       " '200024',\n",
       " '200045',\n",
       " '200023',\n",
       " '200039',\n",
       " '200020',\n",
       " '300004',\n",
       " '300047']"
      ]
     },
     "execution_count": 31,
     "metadata": {},
     "output_type": "execute_result"
    }
   ],
   "source": [
    "cancelled_users"
   ]
  },
  {
   "cell_type": "code",
   "execution_count": 32,
   "metadata": {},
   "outputs": [],
   "source": [
    "df = df.withColumn(\"churned\", df.userId.isin(cancelled_users))"
   ]
  },
  {
   "cell_type": "code",
   "execution_count": 33,
   "metadata": {},
   "outputs": [
    {
     "name": "stdout",
     "output_type": "stream",
     "text": [
      "+-------+----------------------+\n",
      "|churned|count(DISTINCT userId)|\n",
      "+-------+----------------------+\n",
      "|   true|                    99|\n",
      "|  false|                   349|\n",
      "+-------+----------------------+\n",
      "\n"
     ]
    }
   ],
   "source": [
    "df.groupBy(\"churned\").agg(countDistinct(\"userId\")).show()"
   ]
  },
  {
   "cell_type": "markdown",
   "metadata": {},
   "source": [
    "### Explore Data\n",
    "Once you've defined churn, perform some exploratory data analysis to observe the behavior for users who stayed vs users who churned. You can start by exploring aggregates on these two groups of users, observing how much of a specific action they experienced per a certain time unit or number of songs played."
   ]
  },
  {
   "cell_type": "markdown",
   "metadata": {},
   "source": [
    "#### Time since registration until last action timestamp"
   ]
  },
  {
   "cell_type": "code",
   "execution_count": 34,
   "metadata": {},
   "outputs": [],
   "source": [
    "user_ages = df.select([\"userId\", \"churned\", datediff(\"timestamp_dt\", \"registration_dt\")]).groupBy([\"userId\", \"churned\"]).max()"
   ]
  },
  {
   "cell_type": "code",
   "execution_count": 35,
   "metadata": {},
   "outputs": [
    {
     "name": "stdout",
     "output_type": "stream",
     "text": [
      "+-------+-------------------------------------------------+\n",
      "|churned|avg(max(datediff(timestamp_dt, registration_dt)))|\n",
      "+-------+-------------------------------------------------+\n",
      "|   true|                                68.01010101010101|\n",
      "|  false|                                87.07449856733524|\n",
      "+-------+-------------------------------------------------+\n",
      "\n"
     ]
    }
   ],
   "source": [
    "user_ages.groupBy(\"churned\").mean().show()"
   ]
  },
  {
   "cell_type": "markdown",
   "metadata": {},
   "source": [
    "This shows that churned users used the sparkify app for less periods of times on an average than non-churned users."
   ]
  },
  {
   "cell_type": "markdown",
   "metadata": {},
   "source": [
    "#### Number of events/actions transpired in given users' timelines"
   ]
  },
  {
   "cell_type": "code",
   "execution_count": 36,
   "metadata": {},
   "outputs": [],
   "source": [
    "user_number_events = df.groupBy([\"userId\", \"churned\"]).count().alias(\"number_events\")"
   ]
  },
  {
   "cell_type": "code",
   "execution_count": null,
   "metadata": {},
   "outputs": [],
   "source": []
  },
  {
   "cell_type": "code",
   "execution_count": 37,
   "metadata": {},
   "outputs": [
    {
     "name": "stdout",
     "output_type": "stream",
     "text": [
      "+-------+------------------+\n",
      "|churned|        avg(count)|\n",
      "+-------+------------------+\n",
      "|   true|1046.9292929292928|\n",
      "|  false|1215.9283667621776|\n",
      "+-------+------------------+\n",
      "\n"
     ]
    }
   ],
   "source": [
    "user_number_events.groupBy(\"churned\").mean().show()"
   ]
  },
  {
   "cell_type": "markdown",
   "metadata": {},
   "source": [
    "On an average, churned users have less number of interactions than non-churned users. "
   ]
  },
  {
   "cell_type": "markdown",
   "metadata": {},
   "source": [
    "#### Number of thumbs down/thumbs up given by churned vs non-churned users"
   ]
  },
  {
   "cell_type": "code",
   "execution_count": 38,
   "metadata": {},
   "outputs": [],
   "source": [
    "users_thumbs_down = df.filter(col(\"page\") == \"Thumbs Down\").groupBy([\"churned\", \"userId\"]).count()"
   ]
  },
  {
   "cell_type": "code",
   "execution_count": 39,
   "metadata": {},
   "outputs": [
    {
     "name": "stdout",
     "output_type": "stream",
     "text": [
      "+-------+------------------+\n",
      "|churned|        avg(count)|\n",
      "+-------+------------------+\n",
      "|   true| 12.98876404494382|\n",
      "|  false|12.516666666666667|\n",
      "+-------+------------------+\n",
      "\n"
     ]
    }
   ],
   "source": [
    "users_thumbs_down.groupBy(\"churned\").mean().show()"
   ]
  },
  {
   "cell_type": "markdown",
   "metadata": {},
   "source": [
    "On an average, people who thumbs down more often indicate signs of churning."
   ]
  },
  {
   "cell_type": "code",
   "execution_count": 40,
   "metadata": {},
   "outputs": [],
   "source": [
    "users_thumbs_down = df.filter(col(\"page\") == \"Thumbs Up\").groupBy([\"churned\", \"userId\"]).count()"
   ]
  },
  {
   "cell_type": "code",
   "execution_count": 41,
   "metadata": {},
   "outputs": [
    {
     "name": "stdout",
     "output_type": "stream",
     "text": [
      "+-------+-----------------+\n",
      "|churned|       avg(count)|\n",
      "+-------+-----------------+\n",
      "|   true|43.87755102040816|\n",
      "|  false|57.26099706744868|\n",
      "+-------+-----------------+\n",
      "\n"
     ]
    }
   ],
   "source": [
    "users_thumbs_down.groupBy(\"churned\").mean().show()"
   ]
  },
  {
   "cell_type": "markdown",
   "metadata": {},
   "source": [
    "#### Number of sessions per user"
   ]
  },
  {
   "cell_type": "code",
   "execution_count": 42,
   "metadata": {},
   "outputs": [
    {
     "name": "stdout",
     "output_type": "stream",
     "text": [
      "+---------+-----+\n",
      "|sessionId|count|\n",
      "+---------+-----+\n",
      "|     4101|  433|\n",
      "|     2687|  296|\n",
      "|      443|  204|\n",
      "|     2063|  204|\n",
      "|     4211|  197|\n",
      "|     4480|  138|\n",
      "|     1361|   80|\n",
      "|     3437|   73|\n",
      "|     3360|   58|\n",
      "|     4774|   39|\n",
      "|     2943|   37|\n",
      "|     4252|   13|\n",
      "+---------+-----+\n",
      "\n"
     ]
    }
   ],
   "source": [
    "df.filter(col(\"userId\")==209).groupBy(\"sessionId\").count().sort(col(\"count\").desc()).show(100)"
   ]
  },
  {
   "cell_type": "code",
   "execution_count": 45,
   "metadata": {},
   "outputs": [],
   "source": [
    "user_number_sessions = df.groupBy([\"userId\", \"churned\"]).agg(countDistinct(\"sessionId\"))"
   ]
  },
  {
   "cell_type": "code",
   "execution_count": 46,
   "metadata": {},
   "outputs": [
    {
     "name": "stdout",
     "output_type": "stream",
     "text": [
      "+-------+------------------------------+\n",
      "|churned|avg(count(DISTINCT sessionId))|\n",
      "+-------+------------------------------+\n",
      "|   true|            12.090909090909092|\n",
      "|  false|            13.991404011461318|\n",
      "+-------+------------------------------+\n",
      "\n"
     ]
    }
   ],
   "source": [
    "user_number_sessions.groupBy(\"churned\").mean().show()"
   ]
  },
  {
   "cell_type": "markdown",
   "metadata": {},
   "source": [
    "#### Page counts distribution among users (Features done, visualization and exploration necessary)"
   ]
  },
  {
   "cell_type": "markdown",
   "metadata": {},
   "source": [
    "# Feature Engineering\n",
    "Once you've familiarized yourself with the data, build out the features you find promising to train your model on. To work with the full dataset, you can follow the following steps.\n",
    "- Write a script to extract the necessary features from the smaller subset of data\n",
    "- Ensure that your script is scalable, using the best practices discussed in Lesson 3\n",
    "- Try your script on the full data set, debugging your script if necessary\n",
    "\n",
    "If you are working in the classroom workspace, you can just extract features based on the small subset of data contained here. Be sure to transfer over this work to the larger dataset when you work on your Spark cluster."
   ]
  },
  {
   "cell_type": "markdown",
   "metadata": {},
   "source": [
    "**Note**: We will append all the relevant columns corresponding to each user"
   ]
  },
  {
   "cell_type": "code",
   "execution_count": 10,
   "metadata": {},
   "outputs": [],
   "source": [
    "feature_df = df.select(\"userId\").distinct()\n",
    "col_names = []"
   ]
  },
  {
   "cell_type": "markdown",
   "metadata": {},
   "source": [
    "### Session counts for each user"
   ]
  },
  {
   "cell_type": "code",
   "execution_count": 96,
   "metadata": {},
   "outputs": [
    {
     "name": "stdout",
     "output_type": "stream",
     "text": [
      "+------+-------------+\n",
      "|userId|session_count|\n",
      "+------+-------------+\n",
      "|200002|            5|\n",
      "|   296|            5|\n",
      "|100010|            2|\n",
      "|   125|            3|\n",
      "|     7|           15|\n",
      "|   124|           17|\n",
      "|    51|            5|\n",
      "|200037|            7|\n",
      "|   205|            5|\n",
      "|   169|            8|\n",
      "|   272|            2|\n",
      "|   282|           29|\n",
      "|    15|           18|\n",
      "|    54|            8|\n",
      "|   234|           26|\n",
      "|   232|           23|\n",
      "|200043|           12|\n",
      "|   155|            4|\n",
      "|100014|            4|\n",
      "|   154|            4|\n",
      "+------+-------------+\n",
      "only showing top 20 rows\n",
      "\n"
     ]
    }
   ],
   "source": [
    "session_counts = df.groupby('userId').agg(countDistinct('sessionId').alias('session_count'))\n",
    "session_counts.show()"
   ]
  },
  {
   "cell_type": "code",
   "execution_count": 97,
   "metadata": {},
   "outputs": [],
   "source": [
    "feature_df = feature_df.join(session_counts, on=\"userId\")\n",
    "col_names.append(\"session_count\")"
   ]
  },
  {
   "cell_type": "code",
   "execution_count": 98,
   "metadata": {},
   "outputs": [
    {
     "name": "stdout",
     "output_type": "stream",
     "text": [
      "+------+-------------+\n",
      "|userId|session_count|\n",
      "+------+-------------+\n",
      "|100010|            2|\n",
      "|200002|            5|\n",
      "|   296|            5|\n",
      "|   125|            3|\n",
      "|   124|           17|\n",
      "|    51|            5|\n",
      "|     7|           15|\n",
      "|200037|            7|\n",
      "|   169|            8|\n",
      "|   205|            5|\n",
      "|   272|            2|\n",
      "|    15|           18|\n",
      "|   232|           23|\n",
      "|   234|           26|\n",
      "|   282|           29|\n",
      "|    54|            8|\n",
      "|   155|            4|\n",
      "|200043|           12|\n",
      "|100014|            4|\n",
      "|   132|            2|\n",
      "+------+-------------+\n",
      "only showing top 20 rows\n",
      "\n"
     ]
    }
   ],
   "source": [
    "feature_df.show()"
   ]
  },
  {
   "cell_type": "markdown",
   "metadata": {},
   "source": [
    "### Counts of each event action (page) per user"
   ]
  },
  {
   "cell_type": "code",
   "execution_count": 99,
   "metadata": {},
   "outputs": [],
   "source": [
    "pages = df.select('page').distinct().sort('page')\n",
    "pages_list = [r.page for r in pages.collect()]\n",
    "page_counts = df.groupby('userId').pivot('page', pages_list).count()"
   ]
  },
  {
   "cell_type": "code",
   "execution_count": 100,
   "metadata": {},
   "outputs": [],
   "source": [
    "# Drop the \"Cancel\" page column\n",
    "page_counts = page_counts.drop(\"Cancel\")\n",
    "\n",
    "# Fill NaNs with 0 - This will inherently transform \"Cancellation Confirmation\" into \"churn\"\n",
    "page_counts = page_counts.fillna(value=0)\n",
    "\n",
    "# Rename Cancellation Confirmation column to churn\n",
    "page_counts = page_counts.withColumnRenamed(\"Cancellation Confirmation\", \"Churn\")"
   ]
  },
  {
   "cell_type": "code",
   "execution_count": 101,
   "metadata": {},
   "outputs": [
    {
     "data": {
      "text/html": [
       "<div>\n",
       "<style scoped>\n",
       "    .dataframe tbody tr th:only-of-type {\n",
       "        vertical-align: middle;\n",
       "    }\n",
       "\n",
       "    .dataframe tbody tr th {\n",
       "        vertical-align: top;\n",
       "    }\n",
       "\n",
       "    .dataframe thead th {\n",
       "        text-align: right;\n",
       "    }\n",
       "</style>\n",
       "<table border=\"1\" class=\"dataframe\">\n",
       "  <thead>\n",
       "    <tr style=\"text-align: right;\">\n",
       "      <th></th>\n",
       "      <th>userId</th>\n",
       "      <th>About</th>\n",
       "      <th>Add Friend</th>\n",
       "      <th>Add to Playlist</th>\n",
       "      <th>Churn</th>\n",
       "      <th>Downgrade</th>\n",
       "      <th>Error</th>\n",
       "      <th>Help</th>\n",
       "      <th>Home</th>\n",
       "      <th>Logout</th>\n",
       "      <th>NextSong</th>\n",
       "      <th>Roll Advert</th>\n",
       "      <th>Save Settings</th>\n",
       "      <th>Settings</th>\n",
       "      <th>Submit Downgrade</th>\n",
       "      <th>Submit Upgrade</th>\n",
       "      <th>Thumbs Down</th>\n",
       "      <th>Thumbs Up</th>\n",
       "      <th>Upgrade</th>\n",
       "    </tr>\n",
       "  </thead>\n",
       "  <tbody>\n",
       "    <tr>\n",
       "      <th>0</th>\n",
       "      <td>200002</td>\n",
       "      <td>1</td>\n",
       "      <td>2</td>\n",
       "      <td>6</td>\n",
       "      <td>1</td>\n",
       "      <td>3</td>\n",
       "      <td>0</td>\n",
       "      <td>1</td>\n",
       "      <td>23</td>\n",
       "      <td>11</td>\n",
       "      <td>310</td>\n",
       "      <td>11</td>\n",
       "      <td>0</td>\n",
       "      <td>2</td>\n",
       "      <td>0</td>\n",
       "      <td>1</td>\n",
       "      <td>5</td>\n",
       "      <td>15</td>\n",
       "      <td>2</td>\n",
       "    </tr>\n",
       "    <tr>\n",
       "      <th>1</th>\n",
       "      <td>100010</td>\n",
       "      <td>0</td>\n",
       "      <td>3</td>\n",
       "      <td>1</td>\n",
       "      <td>1</td>\n",
       "      <td>0</td>\n",
       "      <td>0</td>\n",
       "      <td>0</td>\n",
       "      <td>3</td>\n",
       "      <td>1</td>\n",
       "      <td>96</td>\n",
       "      <td>22</td>\n",
       "      <td>0</td>\n",
       "      <td>0</td>\n",
       "      <td>0</td>\n",
       "      <td>0</td>\n",
       "      <td>3</td>\n",
       "      <td>4</td>\n",
       "      <td>2</td>\n",
       "    </tr>\n",
       "    <tr>\n",
       "      <th>2</th>\n",
       "      <td>296</td>\n",
       "      <td>0</td>\n",
       "      <td>2</td>\n",
       "      <td>3</td>\n",
       "      <td>1</td>\n",
       "      <td>1</td>\n",
       "      <td>0</td>\n",
       "      <td>2</td>\n",
       "      <td>7</td>\n",
       "      <td>3</td>\n",
       "      <td>112</td>\n",
       "      <td>9</td>\n",
       "      <td>0</td>\n",
       "      <td>1</td>\n",
       "      <td>0</td>\n",
       "      <td>1</td>\n",
       "      <td>0</td>\n",
       "      <td>8</td>\n",
       "      <td>1</td>\n",
       "    </tr>\n",
       "    <tr>\n",
       "      <th>3</th>\n",
       "      <td>125</td>\n",
       "      <td>0</td>\n",
       "      <td>3</td>\n",
       "      <td>2</td>\n",
       "      <td>0</td>\n",
       "      <td>0</td>\n",
       "      <td>0</td>\n",
       "      <td>2</td>\n",
       "      <td>2</td>\n",
       "      <td>0</td>\n",
       "      <td>62</td>\n",
       "      <td>6</td>\n",
       "      <td>0</td>\n",
       "      <td>3</td>\n",
       "      <td>0</td>\n",
       "      <td>0</td>\n",
       "      <td>1</td>\n",
       "      <td>3</td>\n",
       "      <td>0</td>\n",
       "    </tr>\n",
       "    <tr>\n",
       "      <th>4</th>\n",
       "      <td>51</td>\n",
       "      <td>0</td>\n",
       "      <td>3</td>\n",
       "      <td>8</td>\n",
       "      <td>1</td>\n",
       "      <td>4</td>\n",
       "      <td>2</td>\n",
       "      <td>0</td>\n",
       "      <td>17</td>\n",
       "      <td>6</td>\n",
       "      <td>266</td>\n",
       "      <td>1</td>\n",
       "      <td>0</td>\n",
       "      <td>2</td>\n",
       "      <td>0</td>\n",
       "      <td>0</td>\n",
       "      <td>1</td>\n",
       "      <td>16</td>\n",
       "      <td>0</td>\n",
       "    </tr>\n",
       "  </tbody>\n",
       "</table>\n",
       "</div>"
      ],
      "text/plain": [
       "   userId  About  Add Friend  Add to Playlist  Churn  Downgrade  Error  Help  \\\n",
       "0  200002      1           2                6      1          3      0     1   \n",
       "1  100010      0           3                1      1          0      0     0   \n",
       "2     296      0           2                3      1          1      0     2   \n",
       "3     125      0           3                2      0          0      0     2   \n",
       "4      51      0           3                8      1          4      2     0   \n",
       "\n",
       "   Home  Logout  NextSong  Roll Advert  Save Settings  Settings  \\\n",
       "0    23      11       310           11              0         2   \n",
       "1     3       1        96           22              0         0   \n",
       "2     7       3       112            9              0         1   \n",
       "3     2       0        62            6              0         3   \n",
       "4    17       6       266            1              0         2   \n",
       "\n",
       "   Submit Downgrade  Submit Upgrade  Thumbs Down  Thumbs Up  Upgrade  \n",
       "0                 0               1            5         15        2  \n",
       "1                 0               0            3          4        2  \n",
       "2                 0               1            0          8        1  \n",
       "3                 0               0            1          3        0  \n",
       "4                 0               0            1         16        0  "
      ]
     },
     "execution_count": 101,
     "metadata": {},
     "output_type": "execute_result"
    }
   ],
   "source": [
    "page_counts.toPandas().head()"
   ]
  },
  {
   "cell_type": "code",
   "execution_count": 102,
   "metadata": {},
   "outputs": [],
   "source": [
    "# Join these feature columns to our feature dataframe\n",
    "feature_df = feature_df.join(page_counts, on=\"userId\")\n",
    "col_names.extend(list(page_counts.toPandas().columns))"
   ]
  },
  {
   "cell_type": "code",
   "execution_count": 137,
   "metadata": {},
   "outputs": [
    {
     "data": {
      "text/plain": [
       "[]"
      ]
     },
     "execution_count": 137,
     "metadata": {},
     "output_type": "execute_result"
    }
   ],
   "source": [
    "col_names"
   ]
  },
  {
   "cell_type": "markdown",
   "metadata": {},
   "source": [
    "### Time since registration"
   ]
  },
  {
   "cell_type": "code",
   "execution_count": 16,
   "metadata": {},
   "outputs": [],
   "source": [
    "user_ages = df.select([\"userId\", datediff(\"timestamp_dt\", \"registration_dt\")]).groupBy(\"userId\").max().select(\"userId\", col(\"max(datediff(timestamp_dt, registration_dt))\").alias(\"age\"))"
   ]
  },
  {
   "cell_type": "code",
   "execution_count": 111,
   "metadata": {},
   "outputs": [],
   "source": [
    "feature_df = feature_df.join(user_ages, on='userId')\n",
    "col_names.append(\"age\")"
   ]
  },
  {
   "cell_type": "markdown",
   "metadata": {},
   "source": [
    "### Number of events"
   ]
  },
  {
   "cell_type": "code",
   "execution_count": 18,
   "metadata": {},
   "outputs": [],
   "source": [
    "user_number_events = df.groupBy(\"userId\").count().select(\"userId\", col(\"count\").alias(\"num_events\"))\n",
    "feature_df = feature_df.join(user_number_events, on=\"userId\")\n",
    "col_names.append(\"num_events\")"
   ]
  },
  {
   "cell_type": "markdown",
   "metadata": {},
   "source": [
    "## Take a look at the feature columns and feature dataframe"
   ]
  },
  {
   "cell_type": "code",
   "execution_count": 149,
   "metadata": {},
   "outputs": [
    {
     "data": {
      "text/plain": [
       "[]"
      ]
     },
     "execution_count": 149,
     "metadata": {},
     "output_type": "execute_result"
    }
   ],
   "source": [
    "col_names"
   ]
  },
  {
   "cell_type": "code",
   "execution_count": 139,
   "metadata": {},
   "outputs": [
    {
     "name": "stdout",
     "output_type": "stream",
     "text": [
      "root\n",
      " |-- userId: string (nullable = true)\n",
      "\n"
     ]
    }
   ],
   "source": [
    "feature_df.printSchema()"
   ]
  },
  {
   "cell_type": "code",
   "execution_count": 134,
   "metadata": {
    "collapsed": true
   },
   "outputs": [
    {
     "ename": "IllegalArgumentException",
     "evalue": "'Output column features already exists.'",
     "output_type": "error",
     "traceback": [
      "\u001b[0;31m---------------------------------------------------------------------------\u001b[0m",
      "\u001b[0;31mPy4JJavaError\u001b[0m                             Traceback (most recent call last)",
      "\u001b[0;32m~/.virtualenvs/text/lib/python3.5/site-packages/pyspark/sql/utils.py\u001b[0m in \u001b[0;36mdeco\u001b[0;34m(*a, **kw)\u001b[0m\n\u001b[1;32m     62\u001b[0m         \u001b[0;32mtry\u001b[0m\u001b[0;34m:\u001b[0m\u001b[0;34m\u001b[0m\u001b[0m\n\u001b[0;32m---> 63\u001b[0;31m             \u001b[0;32mreturn\u001b[0m \u001b[0mf\u001b[0m\u001b[0;34m(\u001b[0m\u001b[0;34m*\u001b[0m\u001b[0ma\u001b[0m\u001b[0;34m,\u001b[0m \u001b[0;34m**\u001b[0m\u001b[0mkw\u001b[0m\u001b[0;34m)\u001b[0m\u001b[0;34m\u001b[0m\u001b[0m\n\u001b[0m\u001b[1;32m     64\u001b[0m         \u001b[0;32mexcept\u001b[0m \u001b[0mpy4j\u001b[0m\u001b[0;34m.\u001b[0m\u001b[0mprotocol\u001b[0m\u001b[0;34m.\u001b[0m\u001b[0mPy4JJavaError\u001b[0m \u001b[0;32mas\u001b[0m \u001b[0me\u001b[0m\u001b[0;34m:\u001b[0m\u001b[0;34m\u001b[0m\u001b[0m\n",
      "\u001b[0;32m~/.virtualenvs/text/lib/python3.5/site-packages/py4j/protocol.py\u001b[0m in \u001b[0;36mget_return_value\u001b[0;34m(answer, gateway_client, target_id, name)\u001b[0m\n\u001b[1;32m    327\u001b[0m                     \u001b[0;34m\"An error occurred while calling {0}{1}{2}.\\n\"\u001b[0m\u001b[0;34m.\u001b[0m\u001b[0;34m\u001b[0m\u001b[0m\n\u001b[0;32m--> 328\u001b[0;31m                     format(target_id, \".\", name), value)\n\u001b[0m\u001b[1;32m    329\u001b[0m             \u001b[0;32melse\u001b[0m\u001b[0;34m:\u001b[0m\u001b[0;34m\u001b[0m\u001b[0m\n",
      "\u001b[0;31mPy4JJavaError\u001b[0m: An error occurred while calling o1755.transform.\n: java.lang.IllegalArgumentException: Output column features already exists.\n\tat org.apache.spark.ml.feature.VectorAssembler.transformSchema(VectorAssembler.scala:172)\n\tat org.apache.spark.ml.PipelineStage.transformSchema(Pipeline.scala:74)\n\tat org.apache.spark.ml.feature.VectorAssembler.transform(VectorAssembler.scala:86)\n\tat sun.reflect.NativeMethodAccessorImpl.invoke0(Native Method)\n\tat sun.reflect.NativeMethodAccessorImpl.invoke(NativeMethodAccessorImpl.java:62)\n\tat sun.reflect.DelegatingMethodAccessorImpl.invoke(DelegatingMethodAccessorImpl.java:43)\n\tat java.lang.reflect.Method.invoke(Method.java:498)\n\tat py4j.reflection.MethodInvoker.invoke(MethodInvoker.java:244)\n\tat py4j.reflection.ReflectionEngine.invoke(ReflectionEngine.java:357)\n\tat py4j.Gateway.invoke(Gateway.java:282)\n\tat py4j.commands.AbstractCommand.invokeMethod(AbstractCommand.java:132)\n\tat py4j.commands.CallCommand.execute(CallCommand.java:79)\n\tat py4j.GatewayConnection.run(GatewayConnection.java:238)\n\tat java.lang.Thread.run(Thread.java:748)\n",
      "\nDuring handling of the above exception, another exception occurred:\n",
      "\u001b[0;31mIllegalArgumentException\u001b[0m                  Traceback (most recent call last)",
      "\u001b[0;32m<ipython-input-134-b9751fa13ed0>\u001b[0m in \u001b[0;36m<module>\u001b[0;34m\u001b[0m\n\u001b[1;32m      1\u001b[0m \u001b[0massembler\u001b[0m \u001b[0;34m=\u001b[0m \u001b[0mVectorAssembler\u001b[0m\u001b[0;34m(\u001b[0m\u001b[0minputCols\u001b[0m\u001b[0;34m=\u001b[0m\u001b[0mcol_names\u001b[0m\u001b[0;34m,\u001b[0m \u001b[0moutputCol\u001b[0m\u001b[0;34m=\u001b[0m\u001b[0;34m'features'\u001b[0m\u001b[0;34m)\u001b[0m\u001b[0;34m\u001b[0m\u001b[0m\n\u001b[0;32m----> 2\u001b[0;31m \u001b[0mfeature_df\u001b[0m \u001b[0;34m=\u001b[0m \u001b[0massembler\u001b[0m\u001b[0;34m.\u001b[0m\u001b[0mtransform\u001b[0m\u001b[0;34m(\u001b[0m\u001b[0mfeature_df\u001b[0m\u001b[0;34m)\u001b[0m\u001b[0;34m\u001b[0m\u001b[0m\n\u001b[0m",
      "\u001b[0;32m~/.virtualenvs/text/lib/python3.5/site-packages/pyspark/ml/base.py\u001b[0m in \u001b[0;36mtransform\u001b[0;34m(self, dataset, params)\u001b[0m\n\u001b[1;32m    171\u001b[0m                 \u001b[0;32mreturn\u001b[0m \u001b[0mself\u001b[0m\u001b[0;34m.\u001b[0m\u001b[0mcopy\u001b[0m\u001b[0;34m(\u001b[0m\u001b[0mparams\u001b[0m\u001b[0;34m)\u001b[0m\u001b[0;34m.\u001b[0m\u001b[0m_transform\u001b[0m\u001b[0;34m(\u001b[0m\u001b[0mdataset\u001b[0m\u001b[0;34m)\u001b[0m\u001b[0;34m\u001b[0m\u001b[0m\n\u001b[1;32m    172\u001b[0m             \u001b[0;32melse\u001b[0m\u001b[0;34m:\u001b[0m\u001b[0;34m\u001b[0m\u001b[0m\n\u001b[0;32m--> 173\u001b[0;31m                 \u001b[0;32mreturn\u001b[0m \u001b[0mself\u001b[0m\u001b[0;34m.\u001b[0m\u001b[0m_transform\u001b[0m\u001b[0;34m(\u001b[0m\u001b[0mdataset\u001b[0m\u001b[0;34m)\u001b[0m\u001b[0;34m\u001b[0m\u001b[0m\n\u001b[0m\u001b[1;32m    174\u001b[0m         \u001b[0;32melse\u001b[0m\u001b[0;34m:\u001b[0m\u001b[0;34m\u001b[0m\u001b[0m\n\u001b[1;32m    175\u001b[0m             \u001b[0;32mraise\u001b[0m \u001b[0mValueError\u001b[0m\u001b[0;34m(\u001b[0m\u001b[0;34m\"Params must be a param map but got %s.\"\u001b[0m \u001b[0;34m%\u001b[0m \u001b[0mtype\u001b[0m\u001b[0;34m(\u001b[0m\u001b[0mparams\u001b[0m\u001b[0;34m)\u001b[0m\u001b[0;34m)\u001b[0m\u001b[0;34m\u001b[0m\u001b[0m\n",
      "\u001b[0;32m~/.virtualenvs/text/lib/python3.5/site-packages/pyspark/ml/wrapper.py\u001b[0m in \u001b[0;36m_transform\u001b[0;34m(self, dataset)\u001b[0m\n\u001b[1;32m    310\u001b[0m     \u001b[0;32mdef\u001b[0m \u001b[0m_transform\u001b[0m\u001b[0;34m(\u001b[0m\u001b[0mself\u001b[0m\u001b[0;34m,\u001b[0m \u001b[0mdataset\u001b[0m\u001b[0;34m)\u001b[0m\u001b[0;34m:\u001b[0m\u001b[0;34m\u001b[0m\u001b[0m\n\u001b[1;32m    311\u001b[0m         \u001b[0mself\u001b[0m\u001b[0;34m.\u001b[0m\u001b[0m_transfer_params_to_java\u001b[0m\u001b[0;34m(\u001b[0m\u001b[0;34m)\u001b[0m\u001b[0;34m\u001b[0m\u001b[0m\n\u001b[0;32m--> 312\u001b[0;31m         \u001b[0;32mreturn\u001b[0m \u001b[0mDataFrame\u001b[0m\u001b[0;34m(\u001b[0m\u001b[0mself\u001b[0m\u001b[0;34m.\u001b[0m\u001b[0m_java_obj\u001b[0m\u001b[0;34m.\u001b[0m\u001b[0mtransform\u001b[0m\u001b[0;34m(\u001b[0m\u001b[0mdataset\u001b[0m\u001b[0;34m.\u001b[0m\u001b[0m_jdf\u001b[0m\u001b[0;34m)\u001b[0m\u001b[0;34m,\u001b[0m \u001b[0mdataset\u001b[0m\u001b[0;34m.\u001b[0m\u001b[0msql_ctx\u001b[0m\u001b[0;34m)\u001b[0m\u001b[0;34m\u001b[0m\u001b[0m\n\u001b[0m\u001b[1;32m    313\u001b[0m \u001b[0;34m\u001b[0m\u001b[0m\n\u001b[1;32m    314\u001b[0m \u001b[0;34m\u001b[0m\u001b[0m\n",
      "\u001b[0;32m~/.virtualenvs/text/lib/python3.5/site-packages/py4j/java_gateway.py\u001b[0m in \u001b[0;36m__call__\u001b[0;34m(self, *args)\u001b[0m\n\u001b[1;32m   1255\u001b[0m         \u001b[0manswer\u001b[0m \u001b[0;34m=\u001b[0m \u001b[0mself\u001b[0m\u001b[0;34m.\u001b[0m\u001b[0mgateway_client\u001b[0m\u001b[0;34m.\u001b[0m\u001b[0msend_command\u001b[0m\u001b[0;34m(\u001b[0m\u001b[0mcommand\u001b[0m\u001b[0;34m)\u001b[0m\u001b[0;34m\u001b[0m\u001b[0m\n\u001b[1;32m   1256\u001b[0m         return_value = get_return_value(\n\u001b[0;32m-> 1257\u001b[0;31m             answer, self.gateway_client, self.target_id, self.name)\n\u001b[0m\u001b[1;32m   1258\u001b[0m \u001b[0;34m\u001b[0m\u001b[0m\n\u001b[1;32m   1259\u001b[0m         \u001b[0;32mfor\u001b[0m \u001b[0mtemp_arg\u001b[0m \u001b[0;32min\u001b[0m \u001b[0mtemp_args\u001b[0m\u001b[0;34m:\u001b[0m\u001b[0;34m\u001b[0m\u001b[0m\n",
      "\u001b[0;32m~/.virtualenvs/text/lib/python3.5/site-packages/pyspark/sql/utils.py\u001b[0m in \u001b[0;36mdeco\u001b[0;34m(*a, **kw)\u001b[0m\n\u001b[1;32m     77\u001b[0m                 \u001b[0;32mraise\u001b[0m \u001b[0mQueryExecutionException\u001b[0m\u001b[0;34m(\u001b[0m\u001b[0ms\u001b[0m\u001b[0;34m.\u001b[0m\u001b[0msplit\u001b[0m\u001b[0;34m(\u001b[0m\u001b[0;34m': '\u001b[0m\u001b[0;34m,\u001b[0m \u001b[0;36m1\u001b[0m\u001b[0;34m)\u001b[0m\u001b[0;34m[\u001b[0m\u001b[0;36m1\u001b[0m\u001b[0;34m]\u001b[0m\u001b[0;34m,\u001b[0m \u001b[0mstackTrace\u001b[0m\u001b[0;34m)\u001b[0m\u001b[0;34m\u001b[0m\u001b[0m\n\u001b[1;32m     78\u001b[0m             \u001b[0;32mif\u001b[0m \u001b[0ms\u001b[0m\u001b[0;34m.\u001b[0m\u001b[0mstartswith\u001b[0m\u001b[0;34m(\u001b[0m\u001b[0;34m'java.lang.IllegalArgumentException: '\u001b[0m\u001b[0;34m)\u001b[0m\u001b[0;34m:\u001b[0m\u001b[0;34m\u001b[0m\u001b[0m\n\u001b[0;32m---> 79\u001b[0;31m                 \u001b[0;32mraise\u001b[0m \u001b[0mIllegalArgumentException\u001b[0m\u001b[0;34m(\u001b[0m\u001b[0ms\u001b[0m\u001b[0;34m.\u001b[0m\u001b[0msplit\u001b[0m\u001b[0;34m(\u001b[0m\u001b[0;34m': '\u001b[0m\u001b[0;34m,\u001b[0m \u001b[0;36m1\u001b[0m\u001b[0;34m)\u001b[0m\u001b[0;34m[\u001b[0m\u001b[0;36m1\u001b[0m\u001b[0;34m]\u001b[0m\u001b[0;34m,\u001b[0m \u001b[0mstackTrace\u001b[0m\u001b[0;34m)\u001b[0m\u001b[0;34m\u001b[0m\u001b[0m\n\u001b[0m\u001b[1;32m     80\u001b[0m             \u001b[0;32mraise\u001b[0m\u001b[0;34m\u001b[0m\u001b[0m\n\u001b[1;32m     81\u001b[0m     \u001b[0;32mreturn\u001b[0m \u001b[0mdeco\u001b[0m\u001b[0;34m\u001b[0m\u001b[0m\n",
      "\u001b[0;31mIllegalArgumentException\u001b[0m: 'Output column features already exists.'"
     ]
    }
   ],
   "source": [
    "assembler = VectorAssembler(inputCols=col_names, outputCol='features')\n",
    "feature_df = assembler.transform(feature_df)"
   ]
  },
  {
   "cell_type": "code",
   "execution_count": 31,
   "metadata": {},
   "outputs": [],
   "source": [
    "def extract_features(df):\n",
    "    \"\"\"\n",
    "    Create a vector Assembler of the features.\n",
    "    \"\"\"\n",
    "    feature_df = df.select(\"userId\").distinct()\n",
    "    col_names = []\n",
    "    \n",
    "    ts_dt_udf = udf(lambda x: x//1000, LongType())\n",
    "    df = df.withColumn(\"registration_dt\", ts_dt_udf(df.registration).cast(\"timestamp\"))\n",
    "    df = df.withColumn(\"timestamp_dt\", ts_dt_udf(df.ts).cast(\"timestamp\"))\n",
    "    \n",
    "    # Session Counts\n",
    "    session_counts = df.groupby('userId').agg(countDistinct('sessionId').alias('session_count'))\n",
    "    \n",
    "    feature_df = feature_df.join(session_counts, on=\"userId\")\n",
    "    col_names.append(\"session_count\")\n",
    "\n",
    "    \n",
    "    # Page Counts\n",
    "    pages = df.select('page').distinct().sort('page')\n",
    "    pages_list = [r.page for r in pages.collect()]\n",
    "    page_counts = df.groupby('userId').pivot('page', pages_list).count()\n",
    "    \n",
    "    # Drop the \"Cancel\" page column\n",
    "    # Fill NaNs with 0 - This will inherently transform \"Cancellation Confirmation\" column into \"label\" \n",
    "    # with 1 as churned and 0 as non churned\n",
    "    page_counts = page_counts.drop(\"Cancel\")\n",
    "    page_counts = page_counts.fillna(value=0)\n",
    "    page_counts = page_counts.withColumnRenamed(\"Cancellation Confirmation\", \"label\")\n",
    "    \n",
    "    # Join these feature columns to our feature dataframe\n",
    "    feature_df = feature_df.join(page_counts, on=\"userId\")\n",
    "    col_names.extend(list(page_counts.toPandas().columns))\n",
    "\n",
    "    \n",
    "    # Time since registration\n",
    "    user_ages = df.select([\"userId\", datediff(\"timestamp_dt\", \"registration_dt\")]).groupBy(\"userId\").max().select(\"userId\", col(\"max(datediff(timestamp_dt, registration_dt))\").alias(\"age\"))    \n",
    "    feature_df = feature_df.join(user_ages, on=\"userId\")\n",
    "    col_names.append(\"age\")\n",
    "    \n",
    "    # Total number of events \n",
    "    user_number_events = df.groupBy(\"userId\").count().select(\"userId\", col(\"count\").alias(\"num_events\"))\n",
    "    feature_df = feature_df.join(user_number_events, on=\"userId\")\n",
    "    col_names.append(\"num_events\")\n",
    "    \n",
    "    # Remove user_id string from input columns\n",
    "    col_names = list(set(col_names)-{'userId', 'label'})\n",
    "    # Assemble the vector\n",
    "    assembler = VectorAssembler(inputCols=col_names, outputCol='features')\n",
    "    \n",
    "    return assembler.transform(feature_df), col_names"
   ]
  },
  {
   "cell_type": "code",
   "execution_count": 32,
   "metadata": {},
   "outputs": [],
   "source": [
    "# Extract features\n",
    "feature_df, col_names = extract_features(df)"
   ]
  },
  {
   "cell_type": "code",
   "execution_count": 33,
   "metadata": {},
   "outputs": [
    {
     "data": {
      "text/plain": [
       "[Row(userId='100010', session_count=2, About=0, Add Friend=3, Add to Playlist=1, label=1, Downgrade=0, Error=0, Help=0, Home=3, Logout=1, NextSong=96, Roll Advert=22, Save Settings=0, Settings=0, Submit Downgrade=0, Submit Upgrade=0, Thumbs Down=3, Thumbs Up=4, Upgrade=2, age=14, num_events=137, features=DenseVector([3.0, 3.0, 0.0, 3.0, 0.0, 1.0, 22.0, 0.0, 1.0, 0.0, 0.0, 0.0, 96.0, 1.0, 2.0, 4.0, 0.0, 14.0, 137.0, 2.0, 0.0]))]"
      ]
     },
     "execution_count": 33,
     "metadata": {},
     "output_type": "execute_result"
    }
   ],
   "source": [
    "feature_df.head(1)"
   ]
  },
  {
   "cell_type": "code",
   "execution_count": 37,
   "metadata": {},
   "outputs": [
    {
     "data": {
      "text/plain": [
       "{'Add Friend',\n",
       " 'Add to Playlist',\n",
       " 'Downgrade',\n",
       " 'Error',\n",
       " 'Help',\n",
       " 'Home',\n",
       " 'Logout',\n",
       " 'NextSong',\n",
       " 'Roll Advert',\n",
       " 'Save Settings',\n",
       " 'Settings',\n",
       " 'Submit Downgrade',\n",
       " 'Submit Upgrade',\n",
       " 'Thumbs Down',\n",
       " 'Thumbs Up',\n",
       " 'Upgrade',\n",
       " 'age',\n",
       " 'num_events',\n",
       " 'session_count'}"
      ]
     },
     "execution_count": 37,
     "metadata": {},
     "output_type": "execute_result"
    }
   ],
   "source": [
    "set(col_names) - {'label', 'About'}"
   ]
  },
  {
   "cell_type": "markdown",
   "metadata": {},
   "source": [
    "# Modeling\n",
    "Split the full dataset into train, test, and validation sets. Test out several of the machine learning methods you learned. Evaluate the accuracy of the various models, tuning parameters as necessary. Determine your winning model based on test accuracy and report results on the validation set. Since the churned users are a fairly small subset, I suggest using F1 score as the metric to optimize."
   ]
  },
  {
   "cell_type": "code",
   "execution_count": 153,
   "metadata": {},
   "outputs": [
    {
     "name": "stdout",
     "output_type": "stream",
     "text": [
      "+-----+-----+\n",
      "|label|count|\n",
      "+-----+-----+\n",
      "|    0|  349|\n",
      "|    1|   99|\n",
      "+-----+-----+\n",
      "\n"
     ]
    }
   ],
   "source": [
    "feature_df.groupBy(\"label\").count().show()"
   ]
  },
  {
   "cell_type": "code",
   "execution_count": 154,
   "metadata": {},
   "outputs": [],
   "source": [
    "train, test = feature_df.randomSplit([0.8, 0.2], 42)"
   ]
  },
  {
   "cell_type": "code",
   "execution_count": 165,
   "metadata": {},
   "outputs": [
    {
     "name": "stdout",
     "output_type": "stream",
     "text": [
      "+-----+-----+\n",
      "|label|count|\n",
      "+-----+-----+\n",
      "|    0|  275|\n",
      "|    1|   87|\n",
      "+-----+-----+\n",
      "\n"
     ]
    }
   ],
   "source": [
    "train.groupBy(\"label\").count().show()"
   ]
  },
  {
   "cell_type": "code",
   "execution_count": 166,
   "metadata": {},
   "outputs": [
    {
     "name": "stdout",
     "output_type": "stream",
     "text": [
      "+-----+-----+\n",
      "|label|count|\n",
      "+-----+-----+\n",
      "|    0|   74|\n",
      "|    1|   12|\n",
      "+-----+-----+\n",
      "\n"
     ]
    }
   ],
   "source": [
    "test.groupBy(\"label\").count().show()"
   ]
  },
  {
   "cell_type": "code",
   "execution_count": 157,
   "metadata": {},
   "outputs": [],
   "source": [
    "lr =  LogisticRegression(maxIter=10, regParam=0.0, elasticNetParam=0)\n",
    "model = lr.fit(train)"
   ]
  },
  {
   "cell_type": "code",
   "execution_count": 158,
   "metadata": {},
   "outputs": [],
   "source": [
    "test_predictions = model.transform(test)"
   ]
  },
  {
   "cell_type": "code",
   "execution_count": 162,
   "metadata": {},
   "outputs": [
    {
     "ename": "AttributeError",
     "evalue": "'DataFrame' object has no attribute 'ctx'",
     "output_type": "error",
     "traceback": [
      "\u001b[0;31m---------------------------------------------------------------------------\u001b[0m",
      "\u001b[0;31mAttributeError\u001b[0m                            Traceback (most recent call last)",
      "\u001b[0;32m<ipython-input-162-aa45399ad0fd>\u001b[0m in \u001b[0;36m<module>\u001b[0;34m\u001b[0m\n\u001b[0;32m----> 1\u001b[0;31m \u001b[0mMulticlassMetrics\u001b[0m\u001b[0;34m(\u001b[0m\u001b[0mtest_predictions\u001b[0m\u001b[0;34m)\u001b[0m\u001b[0;34m\u001b[0m\u001b[0m\n\u001b[0m",
      "\u001b[0;32m~/.virtualenvs/text/lib/python3.5/site-packages/pyspark/mllib/evaluation.py\u001b[0m in \u001b[0;36m__init__\u001b[0;34m(self, predictionAndLabels)\u001b[0m\n\u001b[1;32m    198\u001b[0m \u001b[0;34m\u001b[0m\u001b[0m\n\u001b[1;32m    199\u001b[0m     \u001b[0;32mdef\u001b[0m \u001b[0m__init__\u001b[0m\u001b[0;34m(\u001b[0m\u001b[0mself\u001b[0m\u001b[0;34m,\u001b[0m \u001b[0mpredictionAndLabels\u001b[0m\u001b[0;34m)\u001b[0m\u001b[0;34m:\u001b[0m\u001b[0;34m\u001b[0m\u001b[0m\n\u001b[0;32m--> 200\u001b[0;31m         \u001b[0msc\u001b[0m \u001b[0;34m=\u001b[0m \u001b[0mpredictionAndLabels\u001b[0m\u001b[0;34m.\u001b[0m\u001b[0mctx\u001b[0m\u001b[0;34m\u001b[0m\u001b[0m\n\u001b[0m\u001b[1;32m    201\u001b[0m         \u001b[0msql_ctx\u001b[0m \u001b[0;34m=\u001b[0m \u001b[0mSQLContext\u001b[0m\u001b[0;34m.\u001b[0m\u001b[0mgetOrCreate\u001b[0m\u001b[0;34m(\u001b[0m\u001b[0msc\u001b[0m\u001b[0;34m)\u001b[0m\u001b[0;34m\u001b[0m\u001b[0m\n\u001b[1;32m    202\u001b[0m         df = sql_ctx.createDataFrame(predictionAndLabels, schema=StructType([\n",
      "\u001b[0;32m~/.virtualenvs/text/lib/python3.5/site-packages/pyspark/sql/dataframe.py\u001b[0m in \u001b[0;36m__getattr__\u001b[0;34m(self, name)\u001b[0m\n\u001b[1;32m   1298\u001b[0m         \u001b[0;32mif\u001b[0m \u001b[0mname\u001b[0m \u001b[0;32mnot\u001b[0m \u001b[0;32min\u001b[0m \u001b[0mself\u001b[0m\u001b[0;34m.\u001b[0m\u001b[0mcolumns\u001b[0m\u001b[0;34m:\u001b[0m\u001b[0;34m\u001b[0m\u001b[0m\n\u001b[1;32m   1299\u001b[0m             raise AttributeError(\n\u001b[0;32m-> 1300\u001b[0;31m                 \"'%s' object has no attribute '%s'\" % (self.__class__.__name__, name))\n\u001b[0m\u001b[1;32m   1301\u001b[0m         \u001b[0mjc\u001b[0m \u001b[0;34m=\u001b[0m \u001b[0mself\u001b[0m\u001b[0;34m.\u001b[0m\u001b[0m_jdf\u001b[0m\u001b[0;34m.\u001b[0m\u001b[0mapply\u001b[0m\u001b[0;34m(\u001b[0m\u001b[0mname\u001b[0m\u001b[0;34m)\u001b[0m\u001b[0;34m\u001b[0m\u001b[0m\n\u001b[1;32m   1302\u001b[0m         \u001b[0;32mreturn\u001b[0m \u001b[0mColumn\u001b[0m\u001b[0;34m(\u001b[0m\u001b[0mjc\u001b[0m\u001b[0;34m)\u001b[0m\u001b[0;34m\u001b[0m\u001b[0m\n",
      "\u001b[0;31mAttributeError\u001b[0m: 'DataFrame' object has no attribute 'ctx'"
     ]
    }
   ],
   "source": [
    "test_predictions"
   ]
  },
  {
   "cell_type": "code",
   "execution_count": 163,
   "metadata": {},
   "outputs": [],
   "source": [
    "def get_metrics(res):\n",
    "    \"\"\"Given a results vector returns accuracy and f1-score\"\"\"\n",
    "    total = res.count()\n",
    "    \n",
    "    tp = res.where((res.label==1) & (res.prediction==1)).count()\n",
    "    tn = res.where((res.label==0) & (res.prediction==0)).count()\n",
    "    \n",
    "    fp = res.where((res.label==0) & (res.prediction==1)).count()\n",
    "    fn = res.where((res.label==1) & (res.prediction==0)).count()\n",
    "        \n",
    "    accuracy = (1.0*tp + tn) / total\n",
    "    precision = 1.0*tp / (tp + fp)\n",
    "    recall = 1.0*tp / (tp + fn)\n",
    "    f1 = 2.0 * (precision * recall) / (precision + recall)\n",
    "    \n",
    "    print('Accuracy: ', round(accuracy, 2))\n",
    "    print('Precision: ', round(precision, 2))\n",
    "    print('Recall: ', round(recall, 2))\n",
    "    print('F1-Score: ', round(f1, 2))"
   ]
  },
  {
   "cell_type": "code",
   "execution_count": 164,
   "metadata": {},
   "outputs": [
    {
     "name": "stdout",
     "output_type": "stream",
     "text": [
      "Accuracy:  1.0\n",
      "Precision:  1.0\n",
      "Recall:  1.0\n",
      "F1-Score:  1.0\n"
     ]
    }
   ],
   "source": [
    "get_metrics(test_predictions)"
   ]
  },
  {
   "cell_type": "markdown",
   "metadata": {},
   "source": [
    "# Final Steps\n",
    "Clean up your code, adding comments and renaming variables to make the code easier to read and maintain. Refer to the Spark Project Overview page and Data Scientist Capstone Project Rubric to make sure you are including all components of the capstone project and meet all expectations. Remember, this includes thorough documentation in a README file in a Github repository, as well as a web app or blog post."
   ]
  },
  {
   "cell_type": "code",
   "execution_count": null,
   "metadata": {},
   "outputs": [],
   "source": []
  }
 ],
 "metadata": {
  "kernelspec": {
   "display_name": "Python 3",
   "language": "python",
   "name": "python3"
  },
  "language_info": {
   "codemirror_mode": {
    "name": "ipython",
    "version": 3
   },
   "file_extension": ".py",
   "mimetype": "text/x-python",
   "name": "python",
   "nbconvert_exporter": "python",
   "pygments_lexer": "ipython3",
   "version": "3.5.2"
  }
 },
 "nbformat": 4,
 "nbformat_minor": 2
}
