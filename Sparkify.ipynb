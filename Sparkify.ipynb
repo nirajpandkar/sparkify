{
 "cells": [
  {
   "cell_type": "markdown",
   "metadata": {},
   "source": [
    "# Sparkify Project Workspace\n",
    "This workspace contains a tiny subset (128MB) of the full dataset available (12GB). Feel free to use this workspace to build your project, or to explore a smaller subset with Spark before deploying your cluster on the cloud. Instructions for setting up your Spark cluster is included in the last lesson of the Extracurricular Spark Course content.\n",
    "\n",
    "You can follow the steps below to guide your data analysis and model building portion of this project."
   ]
  },
  {
   "cell_type": "code",
   "execution_count": 210,
   "metadata": {},
   "outputs": [],
   "source": [
    "# import libraries\n",
    "import re\n",
    "\n",
    "from pyspark.sql import SparkSession\n",
    "from pyspark.sql.types import StringType, LongType\n",
    "from pyspark.sql.functions import col, sum, countDistinct, udf, max, min, isnull, datediff\n",
    "from pyspark.ml.feature import VectorAssembler, StringIndexer, OneHotEncoderEstimator\n",
    "from pyspark.mllib.evaluation import MulticlassMetrics\n",
    "\n",
    "from pyspark.ml.tuning import CrossValidator, ParamGridBuilder\n",
    "from pyspark.ml.evaluation import BinaryClassificationEvaluator\n",
    "from pyspark.ml.classification import LogisticRegression\n",
    "\n",
    "from pyspark.ml.classification import DecisionTreeClassifier, RandomForestClassifier, GBTClassifier\n",
    "\n",
    "import pandas as pd\n",
    "import numpy as np\n",
    "from matplotlib import pyplot as plt\n",
    "import seaborn as sns"
   ]
  },
  {
   "cell_type": "code",
   "execution_count": 141,
   "metadata": {},
   "outputs": [],
   "source": [
    "# create a Spark session\n",
    "spark = SparkSession.builder.appName(\"sparkify\").getOrCreate()"
   ]
  },
  {
   "cell_type": "markdown",
   "metadata": {},
   "source": [
    "# Load and Clean Dataset"
   ]
  },
  {
   "cell_type": "code",
   "execution_count": 304,
   "metadata": {},
   "outputs": [],
   "source": [
    "path = \"medium-sparkify-event-data.json\"\n",
    "df = spark.read.json(path)"
   ]
  },
  {
   "cell_type": "code",
   "execution_count": 305,
   "metadata": {},
   "outputs": [
    {
     "data": {
      "text/plain": [
       "543705"
      ]
     },
     "execution_count": 305,
     "metadata": {},
     "output_type": "execute_result"
    }
   ],
   "source": [
    "df.count()"
   ]
  },
  {
   "cell_type": "code",
   "execution_count": 306,
   "metadata": {},
   "outputs": [
    {
     "name": "stdout",
     "output_type": "stream",
     "text": [
      "root\n",
      " |-- artist: string (nullable = true)\n",
      " |-- auth: string (nullable = true)\n",
      " |-- firstName: string (nullable = true)\n",
      " |-- gender: string (nullable = true)\n",
      " |-- itemInSession: long (nullable = true)\n",
      " |-- lastName: string (nullable = true)\n",
      " |-- length: double (nullable = true)\n",
      " |-- level: string (nullable = true)\n",
      " |-- location: string (nullable = true)\n",
      " |-- method: string (nullable = true)\n",
      " |-- page: string (nullable = true)\n",
      " |-- registration: long (nullable = true)\n",
      " |-- sessionId: long (nullable = true)\n",
      " |-- song: string (nullable = true)\n",
      " |-- status: long (nullable = true)\n",
      " |-- ts: long (nullable = true)\n",
      " |-- userAgent: string (nullable = true)\n",
      " |-- userId: string (nullable = true)\n",
      "\n"
     ]
    }
   ],
   "source": [
    "df.printSchema()"
   ]
  },
  {
   "cell_type": "markdown",
   "metadata": {},
   "source": [
    "#### Let's look at the variables to get a good understanding of the data and missing values if any"
   ]
  },
  {
   "cell_type": "markdown",
   "metadata": {},
   "source": [
    "[Stackoverflow](https://stackoverflow.com/a/44413456/4411757)"
   ]
  },
  {
   "cell_type": "code",
   "execution_count": 307,
   "metadata": {},
   "outputs": [
    {
     "data": {
      "text/html": [
       "<div>\n",
       "<style scoped>\n",
       "    .dataframe tbody tr th:only-of-type {\n",
       "        vertical-align: middle;\n",
       "    }\n",
       "\n",
       "    .dataframe tbody tr th {\n",
       "        vertical-align: top;\n",
       "    }\n",
       "\n",
       "    .dataframe thead th {\n",
       "        text-align: right;\n",
       "    }\n",
       "</style>\n",
       "<table border=\"1\" class=\"dataframe\">\n",
       "  <thead>\n",
       "    <tr style=\"text-align: right;\">\n",
       "      <th></th>\n",
       "      <th>0</th>\n",
       "    </tr>\n",
       "  </thead>\n",
       "  <tbody>\n",
       "    <tr>\n",
       "      <th>artist</th>\n",
       "      <td>110828</td>\n",
       "    </tr>\n",
       "    <tr>\n",
       "      <th>auth</th>\n",
       "      <td>0</td>\n",
       "    </tr>\n",
       "    <tr>\n",
       "      <th>firstName</th>\n",
       "      <td>15700</td>\n",
       "    </tr>\n",
       "    <tr>\n",
       "      <th>gender</th>\n",
       "      <td>15700</td>\n",
       "    </tr>\n",
       "    <tr>\n",
       "      <th>itemInSession</th>\n",
       "      <td>0</td>\n",
       "    </tr>\n",
       "    <tr>\n",
       "      <th>lastName</th>\n",
       "      <td>15700</td>\n",
       "    </tr>\n",
       "    <tr>\n",
       "      <th>length</th>\n",
       "      <td>110828</td>\n",
       "    </tr>\n",
       "    <tr>\n",
       "      <th>level</th>\n",
       "      <td>0</td>\n",
       "    </tr>\n",
       "    <tr>\n",
       "      <th>location</th>\n",
       "      <td>15700</td>\n",
       "    </tr>\n",
       "    <tr>\n",
       "      <th>method</th>\n",
       "      <td>0</td>\n",
       "    </tr>\n",
       "    <tr>\n",
       "      <th>page</th>\n",
       "      <td>0</td>\n",
       "    </tr>\n",
       "    <tr>\n",
       "      <th>registration</th>\n",
       "      <td>15700</td>\n",
       "    </tr>\n",
       "    <tr>\n",
       "      <th>sessionId</th>\n",
       "      <td>0</td>\n",
       "    </tr>\n",
       "    <tr>\n",
       "      <th>song</th>\n",
       "      <td>110828</td>\n",
       "    </tr>\n",
       "    <tr>\n",
       "      <th>status</th>\n",
       "      <td>0</td>\n",
       "    </tr>\n",
       "    <tr>\n",
       "      <th>ts</th>\n",
       "      <td>0</td>\n",
       "    </tr>\n",
       "    <tr>\n",
       "      <th>userAgent</th>\n",
       "      <td>15700</td>\n",
       "    </tr>\n",
       "    <tr>\n",
       "      <th>userId</th>\n",
       "      <td>0</td>\n",
       "    </tr>\n",
       "  </tbody>\n",
       "</table>\n",
       "</div>"
      ],
      "text/plain": [
       "                    0\n",
       "artist         110828\n",
       "auth                0\n",
       "firstName       15700\n",
       "gender          15700\n",
       "itemInSession       0\n",
       "lastName        15700\n",
       "length         110828\n",
       "level               0\n",
       "location        15700\n",
       "method              0\n",
       "page                0\n",
       "registration    15700\n",
       "sessionId           0\n",
       "song           110828\n",
       "status              0\n",
       "ts                  0\n",
       "userAgent       15700\n",
       "userId              0"
      ]
     },
     "execution_count": 307,
     "metadata": {},
     "output_type": "execute_result"
    }
   ],
   "source": [
    "df.select(*(sum(col(c).isNull().cast(\"int\")).alias(c) for c in df.columns)).toPandas().T"
   ]
  },
  {
   "cell_type": "markdown",
   "metadata": {},
   "source": [
    "* From the above counts, we can observe that if a song isn't present (is null), there obviously won't be an artist associated. Similarly for length of the song.\n",
    "* The same missing counts for firstName, lastName and gender would indicate that the corresponding info has not been disclosed by the users. Mostly users who are not logged in."
   ]
  },
  {
   "cell_type": "markdown",
   "metadata": {},
   "source": [
    "## Exploration of empty User Ids"
   ]
  },
  {
   "cell_type": "code",
   "execution_count": 308,
   "metadata": {},
   "outputs": [
    {
     "name": "stdout",
     "output_type": "stream",
     "text": [
      "+------+\n",
      "|userId|\n",
      "+------+\n",
      "|      |\n",
      "|      |\n",
      "|      |\n",
      "|      |\n",
      "|      |\n",
      "+------+\n",
      "only showing top 5 rows\n",
      "\n"
     ]
    }
   ],
   "source": [
    "df.filter(isnull(col(\"firstName\"))).select(\"userId\").show(5)"
   ]
  },
  {
   "cell_type": "code",
   "execution_count": 309,
   "metadata": {},
   "outputs": [
    {
     "name": "stdout",
     "output_type": "stream",
     "text": [
      "+----------+\n",
      "|      auth|\n",
      "+----------+\n",
      "|Logged Out|\n",
      "|     Guest|\n",
      "+----------+\n",
      "\n"
     ]
    }
   ],
   "source": [
    "df.filter(df.userId == \"\").select(\"auth\").distinct().show()"
   ]
  },
  {
   "cell_type": "markdown",
   "metadata": {},
   "source": [
    "Empty users correspond to either logged out users or guests who don't have an account yet. We can eliminate these records for our purpose."
   ]
  },
  {
   "cell_type": "code",
   "execution_count": 310,
   "metadata": {},
   "outputs": [],
   "source": [
    "df = df.filter(df.userId != \"\")"
   ]
  },
  {
   "cell_type": "markdown",
   "metadata": {},
   "source": [
    "### UserId"
   ]
  },
  {
   "cell_type": "code",
   "execution_count": 311,
   "metadata": {},
   "outputs": [
    {
     "name": "stdout",
     "output_type": "stream",
     "text": [
      "There are 448 distinct users in the dataset\n"
     ]
    }
   ],
   "source": [
    "print(\"There are {} distinct users in the dataset\".format(df.select(\"UserId\").distinct().count()))"
   ]
  },
  {
   "cell_type": "markdown",
   "metadata": {},
   "source": [
    "### Page"
   ]
  },
  {
   "cell_type": "code",
   "execution_count": 312,
   "metadata": {},
   "outputs": [
    {
     "data": {
      "text/html": [
       "<div>\n",
       "<style scoped>\n",
       "    .dataframe tbody tr th:only-of-type {\n",
       "        vertical-align: middle;\n",
       "    }\n",
       "\n",
       "    .dataframe tbody tr th {\n",
       "        vertical-align: top;\n",
       "    }\n",
       "\n",
       "    .dataframe thead th {\n",
       "        text-align: right;\n",
       "    }\n",
       "</style>\n",
       "<table border=\"1\" class=\"dataframe\">\n",
       "  <thead>\n",
       "    <tr style=\"text-align: right;\">\n",
       "      <th></th>\n",
       "      <th>page</th>\n",
       "      <th>count</th>\n",
       "    </tr>\n",
       "  </thead>\n",
       "  <tbody>\n",
       "    <tr>\n",
       "      <th>0</th>\n",
       "      <td>NextSong</td>\n",
       "      <td>432877</td>\n",
       "    </tr>\n",
       "    <tr>\n",
       "      <th>1</th>\n",
       "      <td>Thumbs Up</td>\n",
       "      <td>23826</td>\n",
       "    </tr>\n",
       "    <tr>\n",
       "      <th>2</th>\n",
       "      <td>Home</td>\n",
       "      <td>19089</td>\n",
       "    </tr>\n",
       "    <tr>\n",
       "      <th>3</th>\n",
       "      <td>Add to Playlist</td>\n",
       "      <td>12349</td>\n",
       "    </tr>\n",
       "    <tr>\n",
       "      <th>4</th>\n",
       "      <td>Add Friend</td>\n",
       "      <td>8087</td>\n",
       "    </tr>\n",
       "    <tr>\n",
       "      <th>5</th>\n",
       "      <td>Roll Advert</td>\n",
       "      <td>7773</td>\n",
       "    </tr>\n",
       "    <tr>\n",
       "      <th>6</th>\n",
       "      <td>Logout</td>\n",
       "      <td>5990</td>\n",
       "    </tr>\n",
       "    <tr>\n",
       "      <th>7</th>\n",
       "      <td>Thumbs Down</td>\n",
       "      <td>4911</td>\n",
       "    </tr>\n",
       "    <tr>\n",
       "      <th>8</th>\n",
       "      <td>Downgrade</td>\n",
       "      <td>3811</td>\n",
       "    </tr>\n",
       "    <tr>\n",
       "      <th>9</th>\n",
       "      <td>Settings</td>\n",
       "      <td>2964</td>\n",
       "    </tr>\n",
       "    <tr>\n",
       "      <th>10</th>\n",
       "      <td>Help</td>\n",
       "      <td>2644</td>\n",
       "    </tr>\n",
       "    <tr>\n",
       "      <th>11</th>\n",
       "      <td>About</td>\n",
       "      <td>1026</td>\n",
       "    </tr>\n",
       "    <tr>\n",
       "      <th>12</th>\n",
       "      <td>Upgrade</td>\n",
       "      <td>968</td>\n",
       "    </tr>\n",
       "    <tr>\n",
       "      <th>13</th>\n",
       "      <td>Save Settings</td>\n",
       "      <td>585</td>\n",
       "    </tr>\n",
       "    <tr>\n",
       "      <th>14</th>\n",
       "      <td>Error</td>\n",
       "      <td>503</td>\n",
       "    </tr>\n",
       "    <tr>\n",
       "      <th>15</th>\n",
       "      <td>Submit Upgrade</td>\n",
       "      <td>287</td>\n",
       "    </tr>\n",
       "    <tr>\n",
       "      <th>16</th>\n",
       "      <td>Submit Downgrade</td>\n",
       "      <td>117</td>\n",
       "    </tr>\n",
       "    <tr>\n",
       "      <th>17</th>\n",
       "      <td>Cancel</td>\n",
       "      <td>99</td>\n",
       "    </tr>\n",
       "    <tr>\n",
       "      <th>18</th>\n",
       "      <td>Cancellation Confirmation</td>\n",
       "      <td>99</td>\n",
       "    </tr>\n",
       "  </tbody>\n",
       "</table>\n",
       "</div>"
      ],
      "text/plain": [
       "                         page   count\n",
       "0                    NextSong  432877\n",
       "1                   Thumbs Up   23826\n",
       "2                        Home   19089\n",
       "3             Add to Playlist   12349\n",
       "4                  Add Friend    8087\n",
       "5                 Roll Advert    7773\n",
       "6                      Logout    5990\n",
       "7                 Thumbs Down    4911\n",
       "8                   Downgrade    3811\n",
       "9                    Settings    2964\n",
       "10                       Help    2644\n",
       "11                      About    1026\n",
       "12                    Upgrade     968\n",
       "13              Save Settings     585\n",
       "14                      Error     503\n",
       "15             Submit Upgrade     287\n",
       "16           Submit Downgrade     117\n",
       "17                     Cancel      99\n",
       "18  Cancellation Confirmation      99"
      ]
     },
     "execution_count": 312,
     "metadata": {},
     "output_type": "execute_result"
    }
   ],
   "source": [
    "df.groupBy(\"page\").count().sort(col(\"count\").desc()).toPandas()"
   ]
  },
  {
   "cell_type": "markdown",
   "metadata": {},
   "source": [
    "* There's a high chance that number of Thumbs down could translate into cancellation of subscription.\n",
    "* Cancellation of subscription could be a metric for churned users."
   ]
  },
  {
   "cell_type": "code",
   "execution_count": 313,
   "metadata": {},
   "outputs": [
    {
     "name": "stdout",
     "output_type": "stream",
     "text": [
      "+------+\n",
      "|UserId|\n",
      "+------+\n",
      "+------+\n",
      "\n"
     ]
    }
   ],
   "source": [
    "df_register = df.filter(col(\"page\")==\"Register\").select(\"UserId\")\n",
    "df_register.show(10)"
   ]
  },
  {
   "cell_type": "markdown",
   "metadata": {},
   "source": [
    "### Artist"
   ]
  },
  {
   "cell_type": "code",
   "execution_count": 314,
   "metadata": {},
   "outputs": [
    {
     "name": "stdout",
     "output_type": "stream",
     "text": [
      "There are 21248 distinct artists in the dataset\n",
      "Their frequency in the dataset is as follows - \n",
      "+--------------------+-----+\n",
      "|              artist|count|\n",
      "+--------------------+-----+\n",
      "|                null|95128|\n",
      "|       Kings Of Leon| 3497|\n",
      "|            Coldplay| 3439|\n",
      "|Florence + The Ma...| 2314|\n",
      "|                Muse| 2194|\n",
      "|       Dwight Yoakam| 2187|\n",
      "|      The Black Keys| 2160|\n",
      "|            BjÃÂ¶rk| 2150|\n",
      "|       Justin Bieber| 2096|\n",
      "|        Jack Johnson| 2049|\n",
      "+--------------------+-----+\n",
      "only showing top 10 rows\n",
      "\n"
     ]
    }
   ],
   "source": [
    "print(\"There are {} distinct artists in the dataset\".format(df.select(\"artist\").distinct().count()))\n",
    "print(\"Their frequency in the dataset is as follows - \")\n",
    "df.groupBy(\"artist\").count().sort(col(\"count\").desc()).show(10)"
   ]
  },
  {
   "cell_type": "markdown",
   "metadata": {},
   "source": [
    "### Auth"
   ]
  },
  {
   "cell_type": "code",
   "execution_count": 315,
   "metadata": {},
   "outputs": [
    {
     "name": "stdout",
     "output_type": "stream",
     "text": [
      "+---------+------+\n",
      "|     auth| count|\n",
      "+---------+------+\n",
      "|Logged In|527906|\n",
      "|Cancelled|    99|\n",
      "+---------+------+\n",
      "\n"
     ]
    }
   ],
   "source": [
    "df.groupBy(\"auth\").count().sort(col(\"count\").desc()).show()"
   ]
  },
  {
   "cell_type": "markdown",
   "metadata": {},
   "source": [
    "We can probably remove Guest and Logged Out entries since they won't contribute towards churn anyways. The other three auth are what we care about."
   ]
  },
  {
   "cell_type": "markdown",
   "metadata": {},
   "source": [
    "Guest and Logged out entries have been removed when we filtered out empty users."
   ]
  },
  {
   "cell_type": "markdown",
   "metadata": {},
   "source": [
    "### Level"
   ]
  },
  {
   "cell_type": "code",
   "execution_count": 316,
   "metadata": {},
   "outputs": [
    {
     "name": "stdout",
     "output_type": "stream",
     "text": [
      "+-----+------+\n",
      "|level| count|\n",
      "+-----+------+\n",
      "| paid|418044|\n",
      "| free|109961|\n",
      "+-----+------+\n",
      "\n"
     ]
    }
   ],
   "source": [
    "df.groupBy(\"level\").count().sort(col(\"count\").desc()).show()"
   ]
  },
  {
   "cell_type": "code",
   "execution_count": 317,
   "metadata": {},
   "outputs": [
    {
     "name": "stdout",
     "output_type": "stream",
     "text": [
      "+-----+----------+\n",
      "|level|count_user|\n",
      "+-----+----------+\n",
      "| free|       370|\n",
      "| paid|       321|\n",
      "+-----+----------+\n",
      "\n"
     ]
    }
   ],
   "source": [
    "df.groupBy(\"level\").agg(countDistinct(\"UserId\").alias(\"count_user\")).sort(col(\"count_user\").desc()).show()"
   ]
  },
  {
   "cell_type": "markdown",
   "metadata": {},
   "source": [
    "* There are almost as many free users as there are paid users in the dataset. It'll be interesting to see a trend in churn possibility in paid vs free users.\n",
    "* Free users are generally shown ads in between which should either motivate them to upgrade or cancel their subscription if not satisfied."
   ]
  },
  {
   "cell_type": "markdown",
   "metadata": {},
   "source": [
    "### itemInSession and sessionId"
   ]
  },
  {
   "cell_type": "code",
   "execution_count": 318,
   "metadata": {
    "scrolled": true
   },
   "outputs": [
    {
     "data": {
      "text/html": [
       "<div>\n",
       "<style scoped>\n",
       "    .dataframe tbody tr th:only-of-type {\n",
       "        vertical-align: middle;\n",
       "    }\n",
       "\n",
       "    .dataframe tbody tr th {\n",
       "        vertical-align: top;\n",
       "    }\n",
       "\n",
       "    .dataframe thead th {\n",
       "        text-align: right;\n",
       "    }\n",
       "</style>\n",
       "<table border=\"1\" class=\"dataframe\">\n",
       "  <thead>\n",
       "    <tr style=\"text-align: right;\">\n",
       "      <th></th>\n",
       "      <th>UserId</th>\n",
       "      <th>itemInSession</th>\n",
       "      <th>sessionId</th>\n",
       "      <th>page</th>\n",
       "    </tr>\n",
       "  </thead>\n",
       "  <tbody>\n",
       "    <tr>\n",
       "      <th>0</th>\n",
       "      <td>163</td>\n",
       "      <td>266</td>\n",
       "      <td>162</td>\n",
       "      <td>NextSong</td>\n",
       "    </tr>\n",
       "    <tr>\n",
       "      <th>1</th>\n",
       "      <td>163</td>\n",
       "      <td>267</td>\n",
       "      <td>162</td>\n",
       "      <td>NextSong</td>\n",
       "    </tr>\n",
       "    <tr>\n",
       "      <th>2</th>\n",
       "      <td>163</td>\n",
       "      <td>268</td>\n",
       "      <td>162</td>\n",
       "      <td>Downgrade</td>\n",
       "    </tr>\n",
       "    <tr>\n",
       "      <th>3</th>\n",
       "      <td>163</td>\n",
       "      <td>269</td>\n",
       "      <td>162</td>\n",
       "      <td>NextSong</td>\n",
       "    </tr>\n",
       "    <tr>\n",
       "      <th>4</th>\n",
       "      <td>163</td>\n",
       "      <td>270</td>\n",
       "      <td>162</td>\n",
       "      <td>NextSong</td>\n",
       "    </tr>\n",
       "    <tr>\n",
       "      <th>5</th>\n",
       "      <td>163</td>\n",
       "      <td>271</td>\n",
       "      <td>162</td>\n",
       "      <td>NextSong</td>\n",
       "    </tr>\n",
       "    <tr>\n",
       "      <th>6</th>\n",
       "      <td>163</td>\n",
       "      <td>272</td>\n",
       "      <td>162</td>\n",
       "      <td>NextSong</td>\n",
       "    </tr>\n",
       "    <tr>\n",
       "      <th>7</th>\n",
       "      <td>163</td>\n",
       "      <td>273</td>\n",
       "      <td>162</td>\n",
       "      <td>NextSong</td>\n",
       "    </tr>\n",
       "    <tr>\n",
       "      <th>8</th>\n",
       "      <td>163</td>\n",
       "      <td>274</td>\n",
       "      <td>162</td>\n",
       "      <td>NextSong</td>\n",
       "    </tr>\n",
       "    <tr>\n",
       "      <th>9</th>\n",
       "      <td>163</td>\n",
       "      <td>275</td>\n",
       "      <td>162</td>\n",
       "      <td>NextSong</td>\n",
       "    </tr>\n",
       "    <tr>\n",
       "      <th>10</th>\n",
       "      <td>163</td>\n",
       "      <td>276</td>\n",
       "      <td>162</td>\n",
       "      <td>Thumbs Up</td>\n",
       "    </tr>\n",
       "    <tr>\n",
       "      <th>11</th>\n",
       "      <td>163</td>\n",
       "      <td>277</td>\n",
       "      <td>162</td>\n",
       "      <td>NextSong</td>\n",
       "    </tr>\n",
       "    <tr>\n",
       "      <th>12</th>\n",
       "      <td>163</td>\n",
       "      <td>278</td>\n",
       "      <td>162</td>\n",
       "      <td>NextSong</td>\n",
       "    </tr>\n",
       "    <tr>\n",
       "      <th>13</th>\n",
       "      <td>163</td>\n",
       "      <td>279</td>\n",
       "      <td>162</td>\n",
       "      <td>Home</td>\n",
       "    </tr>\n",
       "    <tr>\n",
       "      <th>14</th>\n",
       "      <td>163</td>\n",
       "      <td>280</td>\n",
       "      <td>162</td>\n",
       "      <td>NextSong</td>\n",
       "    </tr>\n",
       "    <tr>\n",
       "      <th>15</th>\n",
       "      <td>163</td>\n",
       "      <td>281</td>\n",
       "      <td>162</td>\n",
       "      <td>NextSong</td>\n",
       "    </tr>\n",
       "    <tr>\n",
       "      <th>16</th>\n",
       "      <td>163</td>\n",
       "      <td>282</td>\n",
       "      <td>162</td>\n",
       "      <td>NextSong</td>\n",
       "    </tr>\n",
       "    <tr>\n",
       "      <th>17</th>\n",
       "      <td>163</td>\n",
       "      <td>283</td>\n",
       "      <td>162</td>\n",
       "      <td>NextSong</td>\n",
       "    </tr>\n",
       "    <tr>\n",
       "      <th>18</th>\n",
       "      <td>163</td>\n",
       "      <td>284</td>\n",
       "      <td>162</td>\n",
       "      <td>NextSong</td>\n",
       "    </tr>\n",
       "    <tr>\n",
       "      <th>19</th>\n",
       "      <td>163</td>\n",
       "      <td>285</td>\n",
       "      <td>162</td>\n",
       "      <td>NextSong</td>\n",
       "    </tr>\n",
       "    <tr>\n",
       "      <th>20</th>\n",
       "      <td>163</td>\n",
       "      <td>286</td>\n",
       "      <td>162</td>\n",
       "      <td>NextSong</td>\n",
       "    </tr>\n",
       "    <tr>\n",
       "      <th>21</th>\n",
       "      <td>163</td>\n",
       "      <td>287</td>\n",
       "      <td>162</td>\n",
       "      <td>NextSong</td>\n",
       "    </tr>\n",
       "    <tr>\n",
       "      <th>22</th>\n",
       "      <td>163</td>\n",
       "      <td>288</td>\n",
       "      <td>162</td>\n",
       "      <td>NextSong</td>\n",
       "    </tr>\n",
       "    <tr>\n",
       "      <th>23</th>\n",
       "      <td>163</td>\n",
       "      <td>289</td>\n",
       "      <td>162</td>\n",
       "      <td>NextSong</td>\n",
       "    </tr>\n",
       "    <tr>\n",
       "      <th>24</th>\n",
       "      <td>163</td>\n",
       "      <td>290</td>\n",
       "      <td>162</td>\n",
       "      <td>NextSong</td>\n",
       "    </tr>\n",
       "    <tr>\n",
       "      <th>25</th>\n",
       "      <td>163</td>\n",
       "      <td>291</td>\n",
       "      <td>162</td>\n",
       "      <td>NextSong</td>\n",
       "    </tr>\n",
       "    <tr>\n",
       "      <th>26</th>\n",
       "      <td>163</td>\n",
       "      <td>292</td>\n",
       "      <td>162</td>\n",
       "      <td>NextSong</td>\n",
       "    </tr>\n",
       "    <tr>\n",
       "      <th>27</th>\n",
       "      <td>163</td>\n",
       "      <td>293</td>\n",
       "      <td>162</td>\n",
       "      <td>NextSong</td>\n",
       "    </tr>\n",
       "    <tr>\n",
       "      <th>28</th>\n",
       "      <td>163</td>\n",
       "      <td>294</td>\n",
       "      <td>162</td>\n",
       "      <td>NextSong</td>\n",
       "    </tr>\n",
       "    <tr>\n",
       "      <th>29</th>\n",
       "      <td>163</td>\n",
       "      <td>295</td>\n",
       "      <td>162</td>\n",
       "      <td>NextSong</td>\n",
       "    </tr>\n",
       "    <tr>\n",
       "      <th>30</th>\n",
       "      <td>163</td>\n",
       "      <td>296</td>\n",
       "      <td>162</td>\n",
       "      <td>Downgrade</td>\n",
       "    </tr>\n",
       "    <tr>\n",
       "      <th>31</th>\n",
       "      <td>163</td>\n",
       "      <td>297</td>\n",
       "      <td>162</td>\n",
       "      <td>Logout</td>\n",
       "    </tr>\n",
       "    <tr>\n",
       "      <th>32</th>\n",
       "      <td>163</td>\n",
       "      <td>300</td>\n",
       "      <td>162</td>\n",
       "      <td>Home</td>\n",
       "    </tr>\n",
       "    <tr>\n",
       "      <th>33</th>\n",
       "      <td>163</td>\n",
       "      <td>301</td>\n",
       "      <td>162</td>\n",
       "      <td>NextSong</td>\n",
       "    </tr>\n",
       "    <tr>\n",
       "      <th>34</th>\n",
       "      <td>163</td>\n",
       "      <td>302</td>\n",
       "      <td>162</td>\n",
       "      <td>NextSong</td>\n",
       "    </tr>\n",
       "    <tr>\n",
       "      <th>35</th>\n",
       "      <td>163</td>\n",
       "      <td>303</td>\n",
       "      <td>162</td>\n",
       "      <td>NextSong</td>\n",
       "    </tr>\n",
       "    <tr>\n",
       "      <th>36</th>\n",
       "      <td>163</td>\n",
       "      <td>304</td>\n",
       "      <td>162</td>\n",
       "      <td>NextSong</td>\n",
       "    </tr>\n",
       "    <tr>\n",
       "      <th>37</th>\n",
       "      <td>163</td>\n",
       "      <td>305</td>\n",
       "      <td>162</td>\n",
       "      <td>NextSong</td>\n",
       "    </tr>\n",
       "    <tr>\n",
       "      <th>38</th>\n",
       "      <td>163</td>\n",
       "      <td>306</td>\n",
       "      <td>162</td>\n",
       "      <td>NextSong</td>\n",
       "    </tr>\n",
       "    <tr>\n",
       "      <th>39</th>\n",
       "      <td>163</td>\n",
       "      <td>307</td>\n",
       "      <td>162</td>\n",
       "      <td>NextSong</td>\n",
       "    </tr>\n",
       "    <tr>\n",
       "      <th>40</th>\n",
       "      <td>163</td>\n",
       "      <td>308</td>\n",
       "      <td>162</td>\n",
       "      <td>NextSong</td>\n",
       "    </tr>\n",
       "    <tr>\n",
       "      <th>41</th>\n",
       "      <td>163</td>\n",
       "      <td>309</td>\n",
       "      <td>162</td>\n",
       "      <td>NextSong</td>\n",
       "    </tr>\n",
       "    <tr>\n",
       "      <th>42</th>\n",
       "      <td>163</td>\n",
       "      <td>310</td>\n",
       "      <td>162</td>\n",
       "      <td>NextSong</td>\n",
       "    </tr>\n",
       "    <tr>\n",
       "      <th>43</th>\n",
       "      <td>163</td>\n",
       "      <td>311</td>\n",
       "      <td>162</td>\n",
       "      <td>NextSong</td>\n",
       "    </tr>\n",
       "    <tr>\n",
       "      <th>44</th>\n",
       "      <td>163</td>\n",
       "      <td>312</td>\n",
       "      <td>162</td>\n",
       "      <td>NextSong</td>\n",
       "    </tr>\n",
       "    <tr>\n",
       "      <th>45</th>\n",
       "      <td>163</td>\n",
       "      <td>313</td>\n",
       "      <td>162</td>\n",
       "      <td>NextSong</td>\n",
       "    </tr>\n",
       "    <tr>\n",
       "      <th>46</th>\n",
       "      <td>163</td>\n",
       "      <td>314</td>\n",
       "      <td>162</td>\n",
       "      <td>Add to Playlist</td>\n",
       "    </tr>\n",
       "    <tr>\n",
       "      <th>47</th>\n",
       "      <td>163</td>\n",
       "      <td>315</td>\n",
       "      <td>162</td>\n",
       "      <td>NextSong</td>\n",
       "    </tr>\n",
       "    <tr>\n",
       "      <th>48</th>\n",
       "      <td>163</td>\n",
       "      <td>316</td>\n",
       "      <td>162</td>\n",
       "      <td>NextSong</td>\n",
       "    </tr>\n",
       "    <tr>\n",
       "      <th>49</th>\n",
       "      <td>163</td>\n",
       "      <td>317</td>\n",
       "      <td>162</td>\n",
       "      <td>NextSong</td>\n",
       "    </tr>\n",
       "  </tbody>\n",
       "</table>\n",
       "</div>"
      ],
      "text/plain": [
       "   UserId  itemInSession  sessionId             page\n",
       "0     163            266        162         NextSong\n",
       "1     163            267        162         NextSong\n",
       "2     163            268        162        Downgrade\n",
       "3     163            269        162         NextSong\n",
       "4     163            270        162         NextSong\n",
       "5     163            271        162         NextSong\n",
       "6     163            272        162         NextSong\n",
       "7     163            273        162         NextSong\n",
       "8     163            274        162         NextSong\n",
       "9     163            275        162         NextSong\n",
       "10    163            276        162        Thumbs Up\n",
       "11    163            277        162         NextSong\n",
       "12    163            278        162         NextSong\n",
       "13    163            279        162             Home\n",
       "14    163            280        162         NextSong\n",
       "15    163            281        162         NextSong\n",
       "16    163            282        162         NextSong\n",
       "17    163            283        162         NextSong\n",
       "18    163            284        162         NextSong\n",
       "19    163            285        162         NextSong\n",
       "20    163            286        162         NextSong\n",
       "21    163            287        162         NextSong\n",
       "22    163            288        162         NextSong\n",
       "23    163            289        162         NextSong\n",
       "24    163            290        162         NextSong\n",
       "25    163            291        162         NextSong\n",
       "26    163            292        162         NextSong\n",
       "27    163            293        162         NextSong\n",
       "28    163            294        162         NextSong\n",
       "29    163            295        162         NextSong\n",
       "30    163            296        162        Downgrade\n",
       "31    163            297        162           Logout\n",
       "32    163            300        162             Home\n",
       "33    163            301        162         NextSong\n",
       "34    163            302        162         NextSong\n",
       "35    163            303        162         NextSong\n",
       "36    163            304        162         NextSong\n",
       "37    163            305        162         NextSong\n",
       "38    163            306        162         NextSong\n",
       "39    163            307        162         NextSong\n",
       "40    163            308        162         NextSong\n",
       "41    163            309        162         NextSong\n",
       "42    163            310        162         NextSong\n",
       "43    163            311        162         NextSong\n",
       "44    163            312        162         NextSong\n",
       "45    163            313        162         NextSong\n",
       "46    163            314        162  Add to Playlist\n",
       "47    163            315        162         NextSong\n",
       "48    163            316        162         NextSong\n",
       "49    163            317        162         NextSong"
      ]
     },
     "execution_count": 318,
     "metadata": {},
     "output_type": "execute_result"
    }
   ],
   "source": [
    "# Random user id\n",
    "user_id = df.sample(False, 0.5).limit(1).select('UserId').collect()[0]['UserId']\n",
    "# Results filtered on a particular user based on ascending order of timestamp \n",
    "df.filter(col(\"UserId\") == user_id).select([\"UserId\", \"itemInSession\", \"sessionId\", \"page\"]).sort(col(\"ts\")).toPandas().head(50)"
   ]
  },
  {
   "cell_type": "markdown",
   "metadata": {},
   "source": [
    "* 'itemInSession' just seems to be a serial numbering of the actions taken in a session. Doesn't seem useful unless some sequential analysis on the corresponding action in 'page' is done.\n",
    "* Thought distinct 'sessionId' can be useful to count the number of times user comes back to the application to interact. Churned users should probably have less number of sessions as against non-churned users."
   ]
  },
  {
   "cell_type": "markdown",
   "metadata": {},
   "source": [
    "### userAgent"
   ]
  },
  {
   "cell_type": "markdown",
   "metadata": {},
   "source": [
    "[Writing an UDF function](https://gist.github.com/zoltanctoth/2deccd69e3d1cde1dd78)"
   ]
  },
  {
   "cell_type": "code",
   "execution_count": 319,
   "metadata": {},
   "outputs": [],
   "source": [
    "device_udf = udf(lambda x: str(re.findall(r'\\((.*?)\\)', x)[0].split(\";\")[0].split()[0]) if x is not None else None, StringType())"
   ]
  },
  {
   "cell_type": "code",
   "execution_count": 320,
   "metadata": {},
   "outputs": [],
   "source": [
    "df = df.withColumn(\"device\", device_udf(df.userAgent))"
   ]
  },
  {
   "cell_type": "code",
   "execution_count": 321,
   "metadata": {},
   "outputs": [],
   "source": [
    "df_device = df.groupBy(\"device\").agg(countDistinct(\"UserId\").alias(\"count_user\")).sort(col(\"count_user\").desc()).toPandas()"
   ]
  },
  {
   "cell_type": "code",
   "execution_count": 322,
   "metadata": {},
   "outputs": [
    {
     "data": {
      "image/png": "[encoded data removed]",
      "text/plain": [
       "<Figure size 720x432 with 1 Axes>"
      ]
     },
     "metadata": {
      "needs_background": "light"
     },
     "output_type": "display_data"
    }
   ],
   "source": [
    "fig, ax = plt.subplots(figsize=(10,6))\n",
    "\n",
    "g = sns.barplot(ax=ax, x=\"device\", y=\"count_user\", data=df_device)\n",
    "plt.show()"
   ]
  },
  {
   "cell_type": "markdown",
   "metadata": {},
   "source": [
    "We can check whether the interface platform contributes in churned users with this information."
   ]
  },
  {
   "cell_type": "markdown",
   "metadata": {},
   "source": [
    "### ts (timestamp) and registration"
   ]
  },
  {
   "cell_type": "markdown",
   "metadata": {},
   "source": [
    "Let's view registration and ts for a user 293"
   ]
  },
  {
   "cell_type": "code",
   "execution_count": 177,
   "metadata": {},
   "outputs": [
    {
     "name": "stdout",
     "output_type": "stream",
     "text": [
      "+-------------+-------------+---------------+\n",
      "| registration|           ts|           page|\n",
      "+-------------+-------------+---------------+\n",
      "|1532063507000|1538352011000|       NextSong|\n",
      "|1532063507000|1538352608000|       NextSong|\n",
      "|1532063507000|1538352788000|       NextSong|\n",
      "|1532063507000|1538352789000|      Thumbs Up|\n",
      "|1532063507000|1538353056000|       NextSong|\n",
      "|1532063507000|1538353288000|       NextSong|\n",
      "|1532063507000|1538353527000|       NextSong|\n",
      "|1532063507000|1538353716000|       NextSong|\n",
      "|1532063507000|1538354011000|       NextSong|\n",
      "|1532063507000|1538354251000|       NextSong|\n",
      "|1532063507000|1538354431000|       NextSong|\n",
      "|1532063507000|1538354770000|       NextSong|\n",
      "|1532063507000|1538355003000|       NextSong|\n",
      "|1532063507000|1538355004000|         Logout|\n",
      "|1532063507000|1538355201000|           Home|\n",
      "|1532063507000|1538355202000|     Add Friend|\n",
      "|1532063507000|1538355235000|       NextSong|\n",
      "|1532063507000|1538355444000|       NextSong|\n",
      "|1532063507000|1538355470000|Add to Playlist|\n",
      "|1532063507000|1538355611000|       NextSong|\n",
      "+-------------+-------------+---------------+\n",
      "only showing top 20 rows\n",
      "\n"
     ]
    }
   ],
   "source": [
    "df.filter(col(\"UserId\") == 293).select([\"registration\", \"ts\", \"page\"]).sort(col(\"ts\")).show()"
   ]
  },
  {
   "cell_type": "markdown",
   "metadata": {},
   "source": [
    "**\"Unix timestamp no pretty. Me want normal datetime.\"** - Probably a person alive before 1st Jan 1970"
   ]
  },
  {
   "cell_type": "code",
   "execution_count": 178,
   "metadata": {},
   "outputs": [],
   "source": [
    "ts_dt_udf = udf(lambda x: x//1000, LongType())"
   ]
  },
  {
   "cell_type": "code",
   "execution_count": 179,
   "metadata": {},
   "outputs": [],
   "source": [
    "ts_dt_udf = udf(lambda x: x//1000, LongType())\n",
    "df = df.withColumn(\"registration_dt\", ts_dt_udf(df.registration).cast(\"timestamp\"))\n",
    "df = df.withColumn(\"timestamp_dt\", ts_dt_udf(df.ts).cast(\"timestamp\"))"
   ]
  },
  {
   "cell_type": "code",
   "execution_count": 180,
   "metadata": {},
   "outputs": [
    {
     "name": "stdout",
     "output_type": "stream",
     "text": [
      "+-------------------+-------------------+---------------+\n",
      "|    registration_dt|       timestamp_dt|           page|\n",
      "+-------------------+-------------------+---------------+\n",
      "|2018-07-20 10:41:47|2018-10-01 05:30:11|       NextSong|\n",
      "|2018-07-20 10:41:47|2018-10-01 05:40:08|       NextSong|\n",
      "|2018-07-20 10:41:47|2018-10-01 05:43:08|       NextSong|\n",
      "|2018-07-20 10:41:47|2018-10-01 05:43:09|      Thumbs Up|\n",
      "|2018-07-20 10:41:47|2018-10-01 05:47:36|       NextSong|\n",
      "|2018-07-20 10:41:47|2018-10-01 05:51:28|       NextSong|\n",
      "|2018-07-20 10:41:47|2018-10-01 05:55:27|       NextSong|\n",
      "|2018-07-20 10:41:47|2018-10-01 05:58:36|       NextSong|\n",
      "|2018-07-20 10:41:47|2018-10-01 06:03:31|       NextSong|\n",
      "|2018-07-20 10:41:47|2018-10-01 06:07:31|       NextSong|\n",
      "|2018-07-20 10:41:47|2018-10-01 06:10:31|       NextSong|\n",
      "|2018-07-20 10:41:47|2018-10-01 06:16:10|       NextSong|\n",
      "|2018-07-20 10:41:47|2018-10-01 06:20:03|       NextSong|\n",
      "|2018-07-20 10:41:47|2018-10-01 06:20:04|         Logout|\n",
      "|2018-07-20 10:41:47|2018-10-01 06:23:21|           Home|\n",
      "|2018-07-20 10:41:47|2018-10-01 06:23:22|     Add Friend|\n",
      "|2018-07-20 10:41:47|2018-10-01 06:23:55|       NextSong|\n",
      "|2018-07-20 10:41:47|2018-10-01 06:27:24|       NextSong|\n",
      "|2018-07-20 10:41:47|2018-10-01 06:27:50|Add to Playlist|\n",
      "|2018-07-20 10:41:47|2018-10-01 06:30:11|       NextSong|\n",
      "+-------------------+-------------------+---------------+\n",
      "only showing top 20 rows\n",
      "\n"
     ]
    }
   ],
   "source": [
    "df.filter(col(\"UserId\") == 293).select([\"registration_dt\", \"timestamp_dt\", \"page\"]).sort(col(\"timestamp_dt\")).show()"
   ]
  },
  {
   "cell_type": "code",
   "execution_count": 181,
   "metadata": {},
   "outputs": [
    {
     "name": "stdout",
     "output_type": "stream",
     "text": [
      "+-------------------+-------------------+\n",
      "|  min(timestamp_dt)|  max(timestamp_dt)|\n",
      "+-------------------+-------------------+\n",
      "|2018-10-01 05:30:11|2018-12-01 05:31:06|\n",
      "+-------------------+-------------------+\n",
      "\n"
     ]
    }
   ],
   "source": [
    "# Timeframe of the dataset we have at hand\n",
    "df.agg(min(\"timestamp_dt\"), max(\"timestamp_dt\")).show()"
   ]
  },
  {
   "cell_type": "code",
   "execution_count": 182,
   "metadata": {},
   "outputs": [
    {
     "name": "stdout",
     "output_type": "stream",
     "text": [
      "+--------------------+--------------------+\n",
      "|min(registration_dt)|max(registration_dt)|\n",
      "+--------------------+--------------------+\n",
      "| 2017-11-05 09:26:33| 2018-11-24 21:07:54|\n",
      "+--------------------+--------------------+\n",
      "\n"
     ]
    }
   ],
   "source": [
    "# Timeframe of registrations\n",
    "df.agg(min(\"registration_dt\"), max(\"registration_dt\")).show()"
   ]
  },
  {
   "cell_type": "markdown",
   "metadata": {},
   "source": [
    "## Correlation scatter plot\n",
    "Let's see if the variables in the dataset are derivatives of each other and whether we can eliminate some."
   ]
  },
  {
   "cell_type": "code",
   "execution_count": 183,
   "metadata": {},
   "outputs": [
    {
     "data": {
      "text/plain": [
       "[('artist', 'string'),\n",
       " ('auth', 'string'),\n",
       " ('firstName', 'string'),\n",
       " ('gender', 'string'),\n",
       " ('itemInSession', 'bigint'),\n",
       " ('lastName', 'string'),\n",
       " ('length', 'double'),\n",
       " ('level', 'string'),\n",
       " ('location', 'string'),\n",
       " ('method', 'string'),\n",
       " ('page', 'string'),\n",
       " ('registration', 'bigint'),\n",
       " ('sessionId', 'bigint'),\n",
       " ('song', 'string'),\n",
       " ('status', 'bigint'),\n",
       " ('ts', 'bigint'),\n",
       " ('userAgent', 'string'),\n",
       " ('userId', 'string'),\n",
       " ('device', 'string'),\n",
       " ('registration_dt', 'timestamp'),\n",
       " ('timestamp_dt', 'timestamp')]"
      ]
     },
     "execution_count": 183,
     "metadata": {},
     "output_type": "execute_result"
    }
   ],
   "source": [
    "df.dtypes"
   ]
  },
  {
   "cell_type": "code",
   "execution_count": 184,
   "metadata": {},
   "outputs": [
    {
     "data": {
      "text/html": [
       "<style  type=\"text/css\" >\n",
       "    #T_85c095a6_4def_11e9_a763_e0d55e2acff6row0_col0 {\n",
       "            background-color:  #023858;\n",
       "        }    #T_85c095a6_4def_11e9_a763_e0d55e2acff6row0_col1 {\n",
       "            background-color:  #fbf4f9;\n",
       "        }    #T_85c095a6_4def_11e9_a763_e0d55e2acff6row0_col2 {\n",
       "            background-color:  #e5e1ef;\n",
       "        }    #T_85c095a6_4def_11e9_a763_e0d55e2acff6row0_col3 {\n",
       "            background-color:  #fdf5fa;\n",
       "        }    #T_85c095a6_4def_11e9_a763_e0d55e2acff6row0_col4 {\n",
       "            background-color:  #f5eef6;\n",
       "        }    #T_85c095a6_4def_11e9_a763_e0d55e2acff6row1_col0 {\n",
       "            background-color:  #fef6fa;\n",
       "        }    #T_85c095a6_4def_11e9_a763_e0d55e2acff6row1_col1 {\n",
       "            background-color:  #023858;\n",
       "        }    #T_85c095a6_4def_11e9_a763_e0d55e2acff6row1_col2 {\n",
       "            background-color:  #fff7fb;\n",
       "        }    #T_85c095a6_4def_11e9_a763_e0d55e2acff6row1_col3 {\n",
       "            background-color:  #fbf3f9;\n",
       "        }    #T_85c095a6_4def_11e9_a763_e0d55e2acff6row1_col4 {\n",
       "            background-color:  #fdf5fa;\n",
       "        }    #T_85c095a6_4def_11e9_a763_e0d55e2acff6row2_col0 {\n",
       "            background-color:  #e8e4f0;\n",
       "        }    #T_85c095a6_4def_11e9_a763_e0d55e2acff6row2_col1 {\n",
       "            background-color:  #fff7fb;\n",
       "        }    #T_85c095a6_4def_11e9_a763_e0d55e2acff6row2_col2 {\n",
       "            background-color:  #023858;\n",
       "        }    #T_85c095a6_4def_11e9_a763_e0d55e2acff6row2_col3 {\n",
       "            background-color:  #fff7fb;\n",
       "        }    #T_85c095a6_4def_11e9_a763_e0d55e2acff6row2_col4 {\n",
       "            background-color:  #1b7eb7;\n",
       "        }    #T_85c095a6_4def_11e9_a763_e0d55e2acff6row3_col0 {\n",
       "            background-color:  #fff7fb;\n",
       "        }    #T_85c095a6_4def_11e9_a763_e0d55e2acff6row3_col1 {\n",
       "            background-color:  #fbf3f9;\n",
       "        }    #T_85c095a6_4def_11e9_a763_e0d55e2acff6row3_col2 {\n",
       "            background-color:  #fff7fb;\n",
       "        }    #T_85c095a6_4def_11e9_a763_e0d55e2acff6row3_col3 {\n",
       "            background-color:  #023858;\n",
       "        }    #T_85c095a6_4def_11e9_a763_e0d55e2acff6row3_col4 {\n",
       "            background-color:  #fff7fb;\n",
       "        }    #T_85c095a6_4def_11e9_a763_e0d55e2acff6row4_col0 {\n",
       "            background-color:  #f4eef6;\n",
       "        }    #T_85c095a6_4def_11e9_a763_e0d55e2acff6row4_col1 {\n",
       "            background-color:  #faf3f9;\n",
       "        }    #T_85c095a6_4def_11e9_a763_e0d55e2acff6row4_col2 {\n",
       "            background-color:  #197db7;\n",
       "        }    #T_85c095a6_4def_11e9_a763_e0d55e2acff6row4_col3 {\n",
       "            background-color:  #fdf5fa;\n",
       "        }    #T_85c095a6_4def_11e9_a763_e0d55e2acff6row4_col4 {\n",
       "            background-color:  #023858;\n",
       "        }</style>  \n",
       "<table id=\"T_85c095a6_4def_11e9_a763_e0d55e2acff6\" > \n",
       "<thead>    <tr> \n",
       "        <th class=\"blank level0\" ></th> \n",
       "        <th class=\"col_heading level0 col0\" >itemInSession</th> \n",
       "        <th class=\"col_heading level0 col1\" >registration</th> \n",
       "        <th class=\"col_heading level0 col2\" >sessionId</th> \n",
       "        <th class=\"col_heading level0 col3\" >status</th> \n",
       "        <th class=\"col_heading level0 col4\" >ts</th> \n",
       "    </tr></thead> \n",
       "<tbody>    <tr> \n",
       "        <th id=\"T_85c095a6_4def_11e9_a763_e0d55e2acff6level0_row0\" class=\"row_heading level0 row0\" >itemInSession</th> \n",
       "        <td id=\"T_85c095a6_4def_11e9_a763_e0d55e2acff6row0_col0\" class=\"data row0 col0\" >1</td> \n",
       "        <td id=\"T_85c095a6_4def_11e9_a763_e0d55e2acff6row0_col1\" class=\"data row0 col1\" >0.00353557</td> \n",
       "        <td id=\"T_85c095a6_4def_11e9_a763_e0d55e2acff6row0_col2\" class=\"data row0 col2\" >0.13825</td> \n",
       "        <td id=\"T_85c095a6_4def_11e9_a763_e0d55e2acff6row0_col3\" class=\"data row0 col3\" >-0.00664991</td> \n",
       "        <td id=\"T_85c095a6_4def_11e9_a763_e0d55e2acff6row0_col4\" class=\"data row0 col4\" >0.0656965</td> \n",
       "    </tr>    <tr> \n",
       "        <th id=\"T_85c095a6_4def_11e9_a763_e0d55e2acff6level0_row1\" class=\"row_heading level0 row1\" >registration</th> \n",
       "        <td id=\"T_85c095a6_4def_11e9_a763_e0d55e2acff6row1_col0\" class=\"data row1 col0\" >0.00353557</td> \n",
       "        <td id=\"T_85c095a6_4def_11e9_a763_e0d55e2acff6row1_col1\" class=\"data row1 col1\" >1</td> \n",
       "        <td id=\"T_85c095a6_4def_11e9_a763_e0d55e2acff6row1_col2\" class=\"data row1 col2\" >-0.022061</td> \n",
       "        <td id=\"T_85c095a6_4def_11e9_a763_e0d55e2acff6row1_col3\" class=\"data row1 col3\" >0.00683762</td> \n",
       "        <td id=\"T_85c095a6_4def_11e9_a763_e0d55e2acff6row1_col4\" class=\"data row1 col4\" >0.010414</td> \n",
       "    </tr>    <tr> \n",
       "        <th id=\"T_85c095a6_4def_11e9_a763_e0d55e2acff6level0_row2\" class=\"row_heading level0 row2\" >sessionId</th> \n",
       "        <td id=\"T_85c095a6_4def_11e9_a763_e0d55e2acff6row2_col0\" class=\"data row2 col0\" >0.13825</td> \n",
       "        <td id=\"T_85c095a6_4def_11e9_a763_e0d55e2acff6row2_col1\" class=\"data row2 col1\" >-0.022061</td> \n",
       "        <td id=\"T_85c095a6_4def_11e9_a763_e0d55e2acff6row2_col2\" class=\"data row2 col2\" >1</td> \n",
       "        <td id=\"T_85c095a6_4def_11e9_a763_e0d55e2acff6row2_col3\" class=\"data row2 col3\" >-0.0235312</td> \n",
       "        <td id=\"T_85c095a6_4def_11e9_a763_e0d55e2acff6row2_col4\" class=\"data row2 col4\" >0.691641</td> \n",
       "    </tr>    <tr> \n",
       "        <th id=\"T_85c095a6_4def_11e9_a763_e0d55e2acff6level0_row3\" class=\"row_heading level0 row3\" >status</th> \n",
       "        <td id=\"T_85c095a6_4def_11e9_a763_e0d55e2acff6row3_col0\" class=\"data row3 col0\" >-0.00664991</td> \n",
       "        <td id=\"T_85c095a6_4def_11e9_a763_e0d55e2acff6row3_col1\" class=\"data row3 col1\" >0.00683762</td> \n",
       "        <td id=\"T_85c095a6_4def_11e9_a763_e0d55e2acff6row3_col2\" class=\"data row3 col2\" >-0.0235312</td> \n",
       "        <td id=\"T_85c095a6_4def_11e9_a763_e0d55e2acff6row3_col3\" class=\"data row3 col3\" >1</td> \n",
       "        <td id=\"T_85c095a6_4def_11e9_a763_e0d55e2acff6row3_col4\" class=\"data row3 col4\" >-0.00362669</td> \n",
       "    </tr>    <tr> \n",
       "        <th id=\"T_85c095a6_4def_11e9_a763_e0d55e2acff6level0_row4\" class=\"row_heading level0 row4\" >ts</th> \n",
       "        <td id=\"T_85c095a6_4def_11e9_a763_e0d55e2acff6row4_col0\" class=\"data row4 col0\" >0.0656965</td> \n",
       "        <td id=\"T_85c095a6_4def_11e9_a763_e0d55e2acff6row4_col1\" class=\"data row4 col1\" >0.010414</td> \n",
       "        <td id=\"T_85c095a6_4def_11e9_a763_e0d55e2acff6row4_col2\" class=\"data row4 col2\" >0.691641</td> \n",
       "        <td id=\"T_85c095a6_4def_11e9_a763_e0d55e2acff6row4_col3\" class=\"data row4 col3\" >-0.00362669</td> \n",
       "        <td id=\"T_85c095a6_4def_11e9_a763_e0d55e2acff6row4_col4\" class=\"data row4 col4\" >1</td> \n",
       "    </tr></tbody> \n",
       "</table> "
      ],
      "text/plain": [
       "<pandas.io.formats.style.Styler at 0x7fb8478e0cc0>"
      ]
     },
     "execution_count": 184,
     "metadata": {},
     "output_type": "execute_result"
    }
   ],
   "source": [
    "numeric_features = [t[0] for t in df.dtypes if t[1] == 'bigint']\n",
    "\n",
    "sampled_data = df.select(numeric_features).sample(False, 0.10).toPandas()\n",
    "sampled_data\n",
    "# axs = pd.scatter_matrix(sampled_data, figsize=(12, 12));\n",
    "corr = sampled_data.corr()\n",
    "corr.style.background_gradient()"
   ]
  },
  {
   "cell_type": "markdown",
   "metadata": {},
   "source": [
    "'ts' and 'sessionId' seem to have a correlation between them. Let's check that out."
   ]
  },
  {
   "cell_type": "code",
   "execution_count": 185,
   "metadata": {
    "scrolled": true
   },
   "outputs": [],
   "source": [
    "session_ts_df = df.select([\"timestamp_dt\", \"sessionId\"]).sort(col(\"timestamp_dt\")).toPandas()"
   ]
  },
  {
   "cell_type": "code",
   "execution_count": 186,
   "metadata": {},
   "outputs": [
    {
     "name": "stderr",
     "output_type": "stream",
     "text": [
      "/home/niraj/.virtualenvs/text/lib/python3.5/site-packages/scipy/stats/stats.py:1713: FutureWarning: Using a non-tuple sequence for multidimensional indexing is deprecated; use `arr[tuple(seq)]` instead of `arr[seq]`. In the future this will be interpreted as an array index, `arr[np.array(seq)]`, which will result either in an error or a different result.\n",
      "  return np.add.reduce(sorted[indexer] * weights, axis=axis) / sumval\n"
     ]
    },
    {
     "ename": "KeyboardInterrupt",
     "evalue": "",
     "output_type": "error",
     "traceback": [
      "\u001b[0;31m---------------------------------------------------------------------------\u001b[0m",
      "\u001b[0;31mKeyboardInterrupt\u001b[0m                         Traceback (most recent call last)",
      "\u001b[0;32m<ipython-input-186-b85dee7f2bd9>\u001b[0m in \u001b[0;36m<module>\u001b[0;34m\u001b[0m\n\u001b[1;32m      1\u001b[0m \u001b[0mfig\u001b[0m\u001b[0;34m,\u001b[0m \u001b[0max\u001b[0m \u001b[0;34m=\u001b[0m \u001b[0mplt\u001b[0m\u001b[0;34m.\u001b[0m\u001b[0msubplots\u001b[0m\u001b[0;34m(\u001b[0m\u001b[0mfigsize\u001b[0m\u001b[0;34m=\u001b[0m\u001b[0;34m(\u001b[0m\u001b[0;36m10\u001b[0m\u001b[0;34m,\u001b[0m\u001b[0;36m6\u001b[0m\u001b[0;34m)\u001b[0m\u001b[0;34m)\u001b[0m\u001b[0;34m\u001b[0m\u001b[0m\n\u001b[1;32m      2\u001b[0m \u001b[0;34m\u001b[0m\u001b[0m\n\u001b[0;32m----> 3\u001b[0;31m \u001b[0mg\u001b[0m \u001b[0;34m=\u001b[0m \u001b[0msns\u001b[0m\u001b[0;34m.\u001b[0m\u001b[0mlineplot\u001b[0m\u001b[0;34m(\u001b[0m\u001b[0max\u001b[0m\u001b[0;34m=\u001b[0m\u001b[0max\u001b[0m\u001b[0;34m,\u001b[0m \u001b[0mx\u001b[0m\u001b[0;34m=\u001b[0m\u001b[0;34m\"timestamp_dt\"\u001b[0m\u001b[0;34m,\u001b[0m \u001b[0my\u001b[0m\u001b[0;34m=\u001b[0m\u001b[0;34m\"sessionId\"\u001b[0m\u001b[0;34m,\u001b[0m \u001b[0mdata\u001b[0m\u001b[0;34m=\u001b[0m\u001b[0msession_ts_df\u001b[0m\u001b[0;34m)\u001b[0m\u001b[0;34m\u001b[0m\u001b[0m\n\u001b[0m\u001b[1;32m      4\u001b[0m \u001b[0mg\u001b[0m\u001b[0;34m.\u001b[0m\u001b[0mset_xticklabels\u001b[0m\u001b[0;34m(\u001b[0m\u001b[0mg\u001b[0m\u001b[0;34m.\u001b[0m\u001b[0mget_xticklabels\u001b[0m\u001b[0;34m(\u001b[0m\u001b[0;34m)\u001b[0m\u001b[0;34m,\u001b[0m \u001b[0mrotation\u001b[0m\u001b[0;34m=\u001b[0m\u001b[0;36m30\u001b[0m\u001b[0;34m)\u001b[0m\u001b[0;34m\u001b[0m\u001b[0m\n\u001b[1;32m      5\u001b[0m \u001b[0mplt\u001b[0m\u001b[0;34m.\u001b[0m\u001b[0mshow\u001b[0m\u001b[0;34m(\u001b[0m\u001b[0;34m)\u001b[0m\u001b[0;34m\u001b[0m\u001b[0m\n",
      "\u001b[0;32m~/.virtualenvs/text/lib/python3.5/site-packages/seaborn/relational.py\u001b[0m in \u001b[0;36mlineplot\u001b[0;34m(x, y, hue, size, style, data, palette, hue_order, hue_norm, sizes, size_order, size_norm, dashes, markers, style_order, units, estimator, ci, n_boot, sort, err_style, err_kws, legend, ax, **kwargs)\u001b[0m\n\u001b[1;32m   1082\u001b[0m         \u001b[0max\u001b[0m \u001b[0;34m=\u001b[0m \u001b[0mplt\u001b[0m\u001b[0;34m.\u001b[0m\u001b[0mgca\u001b[0m\u001b[0;34m(\u001b[0m\u001b[0;34m)\u001b[0m\u001b[0;34m\u001b[0m\u001b[0m\n\u001b[1;32m   1083\u001b[0m \u001b[0;34m\u001b[0m\u001b[0m\n\u001b[0;32m-> 1084\u001b[0;31m     \u001b[0mp\u001b[0m\u001b[0;34m.\u001b[0m\u001b[0mplot\u001b[0m\u001b[0;34m(\u001b[0m\u001b[0max\u001b[0m\u001b[0;34m,\u001b[0m \u001b[0mkwargs\u001b[0m\u001b[0;34m)\u001b[0m\u001b[0;34m\u001b[0m\u001b[0m\n\u001b[0m\u001b[1;32m   1085\u001b[0m \u001b[0;34m\u001b[0m\u001b[0m\n\u001b[1;32m   1086\u001b[0m     \u001b[0;32mreturn\u001b[0m \u001b[0max\u001b[0m\u001b[0;34m\u001b[0m\u001b[0m\n",
      "\u001b[0;32m~/.virtualenvs/text/lib/python3.5/site-packages/seaborn/relational.py\u001b[0m in \u001b[0;36mplot\u001b[0;34m(self, ax, kws)\u001b[0m\n\u001b[1;32m    773\u001b[0m                     \u001b[0merr\u001b[0m \u001b[0;34m=\u001b[0m \u001b[0;34m\"estimator must be None when specifying units\"\u001b[0m\u001b[0;34m\u001b[0m\u001b[0m\n\u001b[1;32m    774\u001b[0m                     \u001b[0;32mraise\u001b[0m \u001b[0mValueError\u001b[0m\u001b[0;34m(\u001b[0m\u001b[0merr\u001b[0m\u001b[0;34m)\u001b[0m\u001b[0;34m\u001b[0m\u001b[0m\n\u001b[0;32m--> 775\u001b[0;31m                 \u001b[0mx\u001b[0m\u001b[0;34m,\u001b[0m \u001b[0my\u001b[0m\u001b[0;34m,\u001b[0m \u001b[0my_ci\u001b[0m \u001b[0;34m=\u001b[0m \u001b[0mself\u001b[0m\u001b[0;34m.\u001b[0m\u001b[0maggregate\u001b[0m\u001b[0;34m(\u001b[0m\u001b[0my\u001b[0m\u001b[0;34m,\u001b[0m \u001b[0mx\u001b[0m\u001b[0;34m,\u001b[0m \u001b[0munits\u001b[0m\u001b[0;34m)\u001b[0m\u001b[0;34m\u001b[0m\u001b[0m\n\u001b[0m\u001b[1;32m    776\u001b[0m             \u001b[0;32melse\u001b[0m\u001b[0;34m:\u001b[0m\u001b[0;34m\u001b[0m\u001b[0m\n\u001b[1;32m    777\u001b[0m                 \u001b[0my_ci\u001b[0m \u001b[0;34m=\u001b[0m \u001b[0;32mNone\u001b[0m\u001b[0;34m\u001b[0m\u001b[0m\n",
      "\u001b[0;32m~/.virtualenvs/text/lib/python3.5/site-packages/seaborn/relational.py\u001b[0m in \u001b[0;36maggregate\u001b[0;34m(self, vals, grouper, units)\u001b[0m\n\u001b[1;32m    716\u001b[0m                                columns=[\"low\", \"high\"]).stack()\n\u001b[1;32m    717\u001b[0m         \u001b[0;32melse\u001b[0m\u001b[0;34m:\u001b[0m\u001b[0;34m\u001b[0m\u001b[0m\n\u001b[0;32m--> 718\u001b[0;31m             \u001b[0mcis\u001b[0m \u001b[0;34m=\u001b[0m \u001b[0mgrouped\u001b[0m\u001b[0;34m.\u001b[0m\u001b[0mapply\u001b[0m\u001b[0;34m(\u001b[0m\u001b[0mbootstrapped_cis\u001b[0m\u001b[0;34m)\u001b[0m\u001b[0;34m\u001b[0m\u001b[0m\n\u001b[0m\u001b[1;32m    719\u001b[0m \u001b[0;34m\u001b[0m\u001b[0m\n\u001b[1;32m    720\u001b[0m         \u001b[0;31m# Unpack the CIs into \"wide\" format for plotting\u001b[0m\u001b[0;34m\u001b[0m\u001b[0;34m\u001b[0m\u001b[0m\n",
      "\u001b[0;32m~/.virtualenvs/text/lib/python3.5/site-packages/pandas/core/groupby/groupby.py\u001b[0m in \u001b[0;36mapply\u001b[0;34m(self, func, *args, **kwargs)\u001b[0m\n\u001b[1;32m   3467\u001b[0m                       examples=_apply_docs['series_examples']))\n\u001b[1;32m   3468\u001b[0m     \u001b[0;32mdef\u001b[0m \u001b[0mapply\u001b[0m\u001b[0;34m(\u001b[0m\u001b[0mself\u001b[0m\u001b[0;34m,\u001b[0m \u001b[0mfunc\u001b[0m\u001b[0;34m,\u001b[0m \u001b[0;34m*\u001b[0m\u001b[0margs\u001b[0m\u001b[0;34m,\u001b[0m \u001b[0;34m**\u001b[0m\u001b[0mkwargs\u001b[0m\u001b[0;34m)\u001b[0m\u001b[0;34m:\u001b[0m\u001b[0;34m\u001b[0m\u001b[0m\n\u001b[0;32m-> 3469\u001b[0;31m         \u001b[0;32mreturn\u001b[0m \u001b[0msuper\u001b[0m\u001b[0;34m(\u001b[0m\u001b[0mSeriesGroupBy\u001b[0m\u001b[0;34m,\u001b[0m \u001b[0mself\u001b[0m\u001b[0;34m)\u001b[0m\u001b[0;34m.\u001b[0m\u001b[0mapply\u001b[0m\u001b[0;34m(\u001b[0m\u001b[0mfunc\u001b[0m\u001b[0;34m,\u001b[0m \u001b[0;34m*\u001b[0m\u001b[0margs\u001b[0m\u001b[0;34m,\u001b[0m \u001b[0;34m**\u001b[0m\u001b[0mkwargs\u001b[0m\u001b[0;34m)\u001b[0m\u001b[0;34m\u001b[0m\u001b[0m\n\u001b[0m\u001b[1;32m   3470\u001b[0m \u001b[0;34m\u001b[0m\u001b[0m\n\u001b[1;32m   3471\u001b[0m     \u001b[0;34m@\u001b[0m\u001b[0mAppender\u001b[0m\u001b[0;34m(\u001b[0m\u001b[0m_agg_doc\u001b[0m\u001b[0;34m)\u001b[0m\u001b[0;34m\u001b[0m\u001b[0m\n",
      "\u001b[0;32m~/.virtualenvs/text/lib/python3.5/site-packages/pandas/core/groupby/groupby.py\u001b[0m in \u001b[0;36mapply\u001b[0;34m(self, func, *args, **kwargs)\u001b[0m\n\u001b[1;32m    916\u001b[0m         \u001b[0;32mwith\u001b[0m \u001b[0moption_context\u001b[0m\u001b[0;34m(\u001b[0m\u001b[0;34m'mode.chained_assignment'\u001b[0m\u001b[0;34m,\u001b[0m \u001b[0;32mNone\u001b[0m\u001b[0;34m)\u001b[0m\u001b[0;34m:\u001b[0m\u001b[0;34m\u001b[0m\u001b[0m\n\u001b[1;32m    917\u001b[0m             \u001b[0;32mtry\u001b[0m\u001b[0;34m:\u001b[0m\u001b[0;34m\u001b[0m\u001b[0m\n\u001b[0;32m--> 918\u001b[0;31m                 \u001b[0mresult\u001b[0m \u001b[0;34m=\u001b[0m \u001b[0mself\u001b[0m\u001b[0;34m.\u001b[0m\u001b[0m_python_apply_general\u001b[0m\u001b[0;34m(\u001b[0m\u001b[0mf\u001b[0m\u001b[0;34m)\u001b[0m\u001b[0;34m\u001b[0m\u001b[0m\n\u001b[0m\u001b[1;32m    919\u001b[0m             \u001b[0;32mexcept\u001b[0m \u001b[0mException\u001b[0m\u001b[0;34m:\u001b[0m\u001b[0;34m\u001b[0m\u001b[0m\n\u001b[1;32m    920\u001b[0m \u001b[0;34m\u001b[0m\u001b[0m\n",
      "\u001b[0;32m~/.virtualenvs/text/lib/python3.5/site-packages/pandas/core/groupby/groupby.py\u001b[0m in \u001b[0;36m_python_apply_general\u001b[0;34m(self, f)\u001b[0m\n\u001b[1;32m    934\u001b[0m     \u001b[0;32mdef\u001b[0m \u001b[0m_python_apply_general\u001b[0m\u001b[0;34m(\u001b[0m\u001b[0mself\u001b[0m\u001b[0;34m,\u001b[0m \u001b[0mf\u001b[0m\u001b[0;34m)\u001b[0m\u001b[0;34m:\u001b[0m\u001b[0;34m\u001b[0m\u001b[0m\n\u001b[1;32m    935\u001b[0m         keys, values, mutated = self.grouper.apply(f, self._selected_obj,\n\u001b[0;32m--> 936\u001b[0;31m                                                    self.axis)\n\u001b[0m\u001b[1;32m    937\u001b[0m \u001b[0;34m\u001b[0m\u001b[0m\n\u001b[1;32m    938\u001b[0m         return self._wrap_applied_output(\n",
      "\u001b[0;32m~/.virtualenvs/text/lib/python3.5/site-packages/pandas/core/groupby/groupby.py\u001b[0m in \u001b[0;36mapply\u001b[0;34m(self, f, data, axis)\u001b[0m\n\u001b[1;32m   2271\u001b[0m             \u001b[0;31m# group might be modified\u001b[0m\u001b[0;34m\u001b[0m\u001b[0;34m\u001b[0m\u001b[0m\n\u001b[1;32m   2272\u001b[0m             \u001b[0mgroup_axes\u001b[0m \u001b[0;34m=\u001b[0m \u001b[0m_get_axes\u001b[0m\u001b[0;34m(\u001b[0m\u001b[0mgroup\u001b[0m\u001b[0;34m)\u001b[0m\u001b[0;34m\u001b[0m\u001b[0m\n\u001b[0;32m-> 2273\u001b[0;31m             \u001b[0mres\u001b[0m \u001b[0;34m=\u001b[0m \u001b[0mf\u001b[0m\u001b[0;34m(\u001b[0m\u001b[0mgroup\u001b[0m\u001b[0;34m)\u001b[0m\u001b[0;34m\u001b[0m\u001b[0m\n\u001b[0m\u001b[1;32m   2274\u001b[0m             \u001b[0;32mif\u001b[0m \u001b[0;32mnot\u001b[0m \u001b[0m_is_indexed_like\u001b[0m\u001b[0;34m(\u001b[0m\u001b[0mres\u001b[0m\u001b[0;34m,\u001b[0m \u001b[0mgroup_axes\u001b[0m\u001b[0;34m)\u001b[0m\u001b[0;34m:\u001b[0m\u001b[0;34m\u001b[0m\u001b[0m\n\u001b[1;32m   2275\u001b[0m                 \u001b[0mmutated\u001b[0m \u001b[0;34m=\u001b[0m \u001b[0;32mTrue\u001b[0m\u001b[0;34m\u001b[0m\u001b[0m\n",
      "\u001b[0;32m~/.virtualenvs/text/lib/python3.5/site-packages/seaborn/relational.py\u001b[0m in \u001b[0;36mbootstrapped_cis\u001b[0;34m(vals)\u001b[0m\n\u001b[1;32m    697\u001b[0m                 \u001b[0;32mreturn\u001b[0m \u001b[0mnull_ci\u001b[0m\u001b[0;34m\u001b[0m\u001b[0m\n\u001b[1;32m    698\u001b[0m \u001b[0;34m\u001b[0m\u001b[0m\n\u001b[0;32m--> 699\u001b[0;31m             \u001b[0mboots\u001b[0m \u001b[0;34m=\u001b[0m \u001b[0mbootstrap\u001b[0m\u001b[0;34m(\u001b[0m\u001b[0mvals\u001b[0m\u001b[0;34m,\u001b[0m \u001b[0mfunc\u001b[0m\u001b[0;34m=\u001b[0m\u001b[0mfunc\u001b[0m\u001b[0;34m,\u001b[0m \u001b[0mn_boot\u001b[0m\u001b[0;34m=\u001b[0m\u001b[0mn_boot\u001b[0m\u001b[0;34m)\u001b[0m\u001b[0;34m\u001b[0m\u001b[0m\n\u001b[0m\u001b[1;32m    700\u001b[0m             \u001b[0mcis\u001b[0m \u001b[0;34m=\u001b[0m \u001b[0mutils\u001b[0m\u001b[0;34m.\u001b[0m\u001b[0mci\u001b[0m\u001b[0;34m(\u001b[0m\u001b[0mboots\u001b[0m\u001b[0;34m,\u001b[0m \u001b[0mci\u001b[0m\u001b[0;34m)\u001b[0m\u001b[0;34m\u001b[0m\u001b[0m\n\u001b[1;32m    701\u001b[0m             \u001b[0;32mreturn\u001b[0m \u001b[0mpd\u001b[0m\u001b[0;34m.\u001b[0m\u001b[0mSeries\u001b[0m\u001b[0;34m(\u001b[0m\u001b[0mcis\u001b[0m\u001b[0;34m,\u001b[0m \u001b[0;34m[\u001b[0m\u001b[0;34m\"low\"\u001b[0m\u001b[0;34m,\u001b[0m \u001b[0;34m\"high\"\u001b[0m\u001b[0;34m]\u001b[0m\u001b[0;34m)\u001b[0m\u001b[0;34m\u001b[0m\u001b[0m\n",
      "\u001b[0;32m~/.virtualenvs/text/lib/python3.5/site-packages/seaborn/algorithms.py\u001b[0m in \u001b[0;36mbootstrap\u001b[0;34m(*args, **kwargs)\u001b[0m\n\u001b[1;32m     85\u001b[0m     \u001b[0;32mfor\u001b[0m \u001b[0mi\u001b[0m \u001b[0;32min\u001b[0m \u001b[0mrange\u001b[0m\u001b[0;34m(\u001b[0m\u001b[0mint\u001b[0m\u001b[0;34m(\u001b[0m\u001b[0mn_boot\u001b[0m\u001b[0;34m)\u001b[0m\u001b[0;34m)\u001b[0m\u001b[0;34m:\u001b[0m\u001b[0;34m\u001b[0m\u001b[0m\n\u001b[1;32m     86\u001b[0m         \u001b[0mresampler\u001b[0m \u001b[0;34m=\u001b[0m \u001b[0mrs\u001b[0m\u001b[0;34m.\u001b[0m\u001b[0mrandint\u001b[0m\u001b[0;34m(\u001b[0m\u001b[0;36m0\u001b[0m\u001b[0;34m,\u001b[0m \u001b[0mn\u001b[0m\u001b[0;34m,\u001b[0m \u001b[0mn\u001b[0m\u001b[0;34m)\u001b[0m\u001b[0;34m\u001b[0m\u001b[0m\n\u001b[0;32m---> 87\u001b[0;31m         \u001b[0msample\u001b[0m \u001b[0;34m=\u001b[0m \u001b[0;34m[\u001b[0m\u001b[0ma\u001b[0m\u001b[0;34m.\u001b[0m\u001b[0mtake\u001b[0m\u001b[0;34m(\u001b[0m\u001b[0mresampler\u001b[0m\u001b[0;34m,\u001b[0m \u001b[0maxis\u001b[0m\u001b[0;34m=\u001b[0m\u001b[0;36m0\u001b[0m\u001b[0;34m)\u001b[0m \u001b[0;32mfor\u001b[0m \u001b[0ma\u001b[0m \u001b[0;32min\u001b[0m \u001b[0margs\u001b[0m\u001b[0;34m]\u001b[0m\u001b[0;34m\u001b[0m\u001b[0m\n\u001b[0m\u001b[1;32m     88\u001b[0m         \u001b[0mboot_dist\u001b[0m\u001b[0;34m.\u001b[0m\u001b[0mappend\u001b[0m\u001b[0;34m(\u001b[0m\u001b[0mf\u001b[0m\u001b[0;34m(\u001b[0m\u001b[0;34m*\u001b[0m\u001b[0msample\u001b[0m\u001b[0;34m,\u001b[0m \u001b[0;34m**\u001b[0m\u001b[0mfunc_kwargs\u001b[0m\u001b[0;34m)\u001b[0m\u001b[0;34m)\u001b[0m\u001b[0;34m\u001b[0m\u001b[0m\n\u001b[1;32m     89\u001b[0m     \u001b[0;32mreturn\u001b[0m \u001b[0mnp\u001b[0m\u001b[0;34m.\u001b[0m\u001b[0marray\u001b[0m\u001b[0;34m(\u001b[0m\u001b[0mboot_dist\u001b[0m\u001b[0;34m)\u001b[0m\u001b[0;34m\u001b[0m\u001b[0m\n",
      "\u001b[0;32m~/.virtualenvs/text/lib/python3.5/site-packages/seaborn/algorithms.py\u001b[0m in \u001b[0;36m<listcomp>\u001b[0;34m(.0)\u001b[0m\n\u001b[1;32m     85\u001b[0m     \u001b[0;32mfor\u001b[0m \u001b[0mi\u001b[0m \u001b[0;32min\u001b[0m \u001b[0mrange\u001b[0m\u001b[0;34m(\u001b[0m\u001b[0mint\u001b[0m\u001b[0;34m(\u001b[0m\u001b[0mn_boot\u001b[0m\u001b[0;34m)\u001b[0m\u001b[0;34m)\u001b[0m\u001b[0;34m:\u001b[0m\u001b[0;34m\u001b[0m\u001b[0m\n\u001b[1;32m     86\u001b[0m         \u001b[0mresampler\u001b[0m \u001b[0;34m=\u001b[0m \u001b[0mrs\u001b[0m\u001b[0;34m.\u001b[0m\u001b[0mrandint\u001b[0m\u001b[0;34m(\u001b[0m\u001b[0;36m0\u001b[0m\u001b[0;34m,\u001b[0m \u001b[0mn\u001b[0m\u001b[0;34m,\u001b[0m \u001b[0mn\u001b[0m\u001b[0;34m)\u001b[0m\u001b[0;34m\u001b[0m\u001b[0m\n\u001b[0;32m---> 87\u001b[0;31m         \u001b[0msample\u001b[0m \u001b[0;34m=\u001b[0m \u001b[0;34m[\u001b[0m\u001b[0ma\u001b[0m\u001b[0;34m.\u001b[0m\u001b[0mtake\u001b[0m\u001b[0;34m(\u001b[0m\u001b[0mresampler\u001b[0m\u001b[0;34m,\u001b[0m \u001b[0maxis\u001b[0m\u001b[0;34m=\u001b[0m\u001b[0;36m0\u001b[0m\u001b[0;34m)\u001b[0m \u001b[0;32mfor\u001b[0m \u001b[0ma\u001b[0m \u001b[0;32min\u001b[0m \u001b[0margs\u001b[0m\u001b[0;34m]\u001b[0m\u001b[0;34m\u001b[0m\u001b[0m\n\u001b[0m\u001b[1;32m     88\u001b[0m         \u001b[0mboot_dist\u001b[0m\u001b[0;34m.\u001b[0m\u001b[0mappend\u001b[0m\u001b[0;34m(\u001b[0m\u001b[0mf\u001b[0m\u001b[0;34m(\u001b[0m\u001b[0;34m*\u001b[0m\u001b[0msample\u001b[0m\u001b[0;34m,\u001b[0m \u001b[0;34m**\u001b[0m\u001b[0mfunc_kwargs\u001b[0m\u001b[0;34m)\u001b[0m\u001b[0;34m)\u001b[0m\u001b[0;34m\u001b[0m\u001b[0m\n\u001b[1;32m     89\u001b[0m     \u001b[0;32mreturn\u001b[0m \u001b[0mnp\u001b[0m\u001b[0;34m.\u001b[0m\u001b[0marray\u001b[0m\u001b[0;34m(\u001b[0m\u001b[0mboot_dist\u001b[0m\u001b[0;34m)\u001b[0m\u001b[0;34m\u001b[0m\u001b[0m\n",
      "\u001b[0;31mKeyboardInterrupt\u001b[0m: "
     ]
    },
    {
     "data": {
      "image/png": "[encoded data removed]",
      "text/plain": [
       "<Figure size 720x432 with 1 Axes>"
      ]
     },
     "metadata": {
      "needs_background": "light"
     },
     "output_type": "display_data"
    }
   ],
   "source": [
    "fig, ax = plt.subplots(figsize=(10,6))\n",
    "\n",
    "g = sns.lineplot(ax=ax, x=\"timestamp_dt\", y=\"sessionId\", data=session_ts_df)\n",
    "g.set_xticklabels(g.get_xticklabels(), rotation=30)\n",
    "plt.show()"
   ]
  },
  {
   "cell_type": "markdown",
   "metadata": {},
   "source": [
    "Can't really speculate anything from this graph except there seems to be a pseudo linear relationship."
   ]
  },
  {
   "cell_type": "markdown",
   "metadata": {},
   "source": [
    "# Exploratory Data Analysis"
   ]
  },
  {
   "cell_type": "markdown",
   "metadata": {},
   "source": [
    "### Define Churn\n",
    "\n",
    "Once you've done some preliminary analysis, create a column `Churn` to use as the label for your model. I suggest using the `Cancellation Confirmation` events to define your churn, which happen for both paid and free users. As a bonus task, you can also look into the `Downgrade` events."
   ]
  },
  {
   "cell_type": "code",
   "execution_count": 188,
   "metadata": {},
   "outputs": [],
   "source": [
    "cancelled_users = df.filter(col(\"page\") == \"Cancellation Confirmation\").select(\"userId\").toPandas().userId.tolist()"
   ]
  },
  {
   "cell_type": "code",
   "execution_count": 190,
   "metadata": {},
   "outputs": [],
   "source": [
    "df = df.withColumn(\"churned\", df.userId.isin(cancelled_users))"
   ]
  },
  {
   "cell_type": "code",
   "execution_count": 191,
   "metadata": {},
   "outputs": [
    {
     "name": "stdout",
     "output_type": "stream",
     "text": [
      "+-------+----------------------+\n",
      "|churned|count(DISTINCT userId)|\n",
      "+-------+----------------------+\n",
      "|   true|                    99|\n",
      "|  false|                   349|\n",
      "+-------+----------------------+\n",
      "\n"
     ]
    }
   ],
   "source": [
    "df.groupBy(\"churned\").agg(countDistinct(\"userId\")).show()"
   ]
  },
  {
   "cell_type": "markdown",
   "metadata": {},
   "source": [
    "### Explore Data\n",
    "Once you've defined churn, perform some exploratory data analysis to observe the behavior for users who stayed vs users who churned. You can start by exploring aggregates on these two groups of users, observing how much of a specific action they experienced per a certain time unit or number of songs played."
   ]
  },
  {
   "cell_type": "markdown",
   "metadata": {},
   "source": [
    "#### Platform used"
   ]
  },
  {
   "cell_type": "code",
   "execution_count": 197,
   "metadata": {},
   "outputs": [],
   "source": [
    "df_device = df.groupBy(\"device\", \"churned\").agg(countDistinct(\"UserId\").alias(\"count_user\")).sort(col(\"count_user\").desc()).toPandas()"
   ]
  },
  {
   "cell_type": "code",
   "execution_count": 198,
   "metadata": {},
   "outputs": [
    {
     "data": {
      "image/png": "[encoded data removed]",
      "text/plain": [
       "<Figure size 720x432 with 1 Axes>"
      ]
     },
     "metadata": {
      "needs_background": "light"
     },
     "output_type": "display_data"
    }
   ],
   "source": [
    "fig, ax = plt.subplots(figsize=(10,6))\n",
    "\n",
    "g = sns.barplot(ax=ax, x=\"device\", y=\"count_user\", hue=\"churned\", data=df_device)\n",
    "plt.show()"
   ]
  },
  {
   "cell_type": "code",
   "execution_count": null,
   "metadata": {},
   "outputs": [],
   "source": []
  },
  {
   "cell_type": "markdown",
   "metadata": {},
   "source": [
    "We can observe that churned users are more than non churned users for iPhone. "
   ]
  },
  {
   "cell_type": "code",
   "execution_count": 291,
   "metadata": {},
   "outputs": [
    {
     "name": "stdout",
     "output_type": "stream",
     "text": [
      "root\n",
      " |-- artist: string (nullable = true)\n",
      " |-- auth: string (nullable = true)\n",
      " |-- firstName: string (nullable = true)\n",
      " |-- gender: string (nullable = true)\n",
      " |-- itemInSession: long (nullable = true)\n",
      " |-- lastName: string (nullable = true)\n",
      " |-- length: double (nullable = true)\n",
      " |-- level: string (nullable = true)\n",
      " |-- location: string (nullable = true)\n",
      " |-- method: string (nullable = true)\n",
      " |-- page: string (nullable = true)\n",
      " |-- registration: long (nullable = true)\n",
      " |-- sessionId: long (nullable = true)\n",
      " |-- song: string (nullable = true)\n",
      " |-- status: long (nullable = true)\n",
      " |-- ts: long (nullable = true)\n",
      " |-- userAgent: string (nullable = true)\n",
      " |-- userId: string (nullable = true)\n",
      " |-- device: string (nullable = true)\n",
      "\n"
     ]
    }
   ],
   "source": [
    "df.printSchema()"
   ]
  },
  {
   "cell_type": "code",
   "execution_count": 263,
   "metadata": {},
   "outputs": [],
   "source": [
    "df = df.drop(*[\"device_index\", \"device_classVec\"])"
   ]
  },
  {
   "cell_type": "code",
   "execution_count": 293,
   "metadata": {},
   "outputs": [],
   "source": [
    "df = df.select([\"userId\", \"device\"]).distinct()"
   ]
  },
  {
   "cell_type": "code",
   "execution_count": 296,
   "metadata": {},
   "outputs": [],
   "source": [
    "df = StringIndexer(inputCol = \"device\", outputCol=\"device_index\").fit(df).transform(df)\n",
    "df = OneHotEncoderEstimator(inputCols=[stringIndexer.getOutputCol()], outputCols=[\"device_classVec\"]).fit(df).transform(df)"
   ]
  },
  {
   "cell_type": "code",
   "execution_count": 234,
   "metadata": {},
   "outputs": [],
   "source": [
    "df = OneHotEncoderEstimator(inputCols=[stringIndexer.getOutputCol()], outputCols=[\"device_classVec\"]).fit(df).transform(df)"
   ]
  },
  {
   "cell_type": "code",
   "execution_count": 297,
   "metadata": {},
   "outputs": [
    {
     "data": {
      "text/html": [
       "<div>\n",
       "<style scoped>\n",
       "    .dataframe tbody tr th:only-of-type {\n",
       "        vertical-align: middle;\n",
       "    }\n",
       "\n",
       "    .dataframe tbody tr th {\n",
       "        vertical-align: top;\n",
       "    }\n",
       "\n",
       "    .dataframe thead th {\n",
       "        text-align: right;\n",
       "    }\n",
       "</style>\n",
       "<table border=\"1\" class=\"dataframe\">\n",
       "  <thead>\n",
       "    <tr style=\"text-align: right;\">\n",
       "      <th></th>\n",
       "      <th>userId</th>\n",
       "      <th>device</th>\n",
       "      <th>device_index</th>\n",
       "      <th>device_classVec</th>\n",
       "    </tr>\n",
       "  </thead>\n",
       "  <tbody>\n",
       "    <tr>\n",
       "      <th>0</th>\n",
       "      <td>200008</td>\n",
       "      <td>Windows</td>\n",
       "      <td>0.0</td>\n",
       "      <td>(1.0, 0.0, 0.0, 0.0, 0.0)</td>\n",
       "    </tr>\n",
       "    <tr>\n",
       "      <th>1</th>\n",
       "      <td>114</td>\n",
       "      <td>Windows</td>\n",
       "      <td>0.0</td>\n",
       "      <td>(1.0, 0.0, 0.0, 0.0, 0.0)</td>\n",
       "    </tr>\n",
       "    <tr>\n",
       "      <th>2</th>\n",
       "      <td>260</td>\n",
       "      <td>Windows</td>\n",
       "      <td>0.0</td>\n",
       "      <td>(1.0, 0.0, 0.0, 0.0, 0.0)</td>\n",
       "    </tr>\n",
       "    <tr>\n",
       "      <th>3</th>\n",
       "      <td>200025</td>\n",
       "      <td>Windows</td>\n",
       "      <td>0.0</td>\n",
       "      <td>(1.0, 0.0, 0.0, 0.0, 0.0)</td>\n",
       "    </tr>\n",
       "    <tr>\n",
       "      <th>4</th>\n",
       "      <td>166</td>\n",
       "      <td>Macintosh</td>\n",
       "      <td>1.0</td>\n",
       "      <td>(0.0, 1.0, 0.0, 0.0, 0.0)</td>\n",
       "    </tr>\n",
       "  </tbody>\n",
       "</table>\n",
       "</div>"
      ],
      "text/plain": [
       "   userId     device  device_index            device_classVec\n",
       "0  200008    Windows           0.0  (1.0, 0.0, 0.0, 0.0, 0.0)\n",
       "1     114    Windows           0.0  (1.0, 0.0, 0.0, 0.0, 0.0)\n",
       "2     260    Windows           0.0  (1.0, 0.0, 0.0, 0.0, 0.0)\n",
       "3  200025    Windows           0.0  (1.0, 0.0, 0.0, 0.0, 0.0)\n",
       "4     166  Macintosh           1.0  (0.0, 1.0, 0.0, 0.0, 0.0)"
      ]
     },
     "execution_count": 297,
     "metadata": {},
     "output_type": "execute_result"
    }
   ],
   "source": [
    "df.toPandas().head()"
   ]
  },
  {
   "cell_type": "markdown",
   "metadata": {},
   "source": [
    "#### Time since registration until last action timestamp"
   ]
  },
  {
   "cell_type": "code",
   "execution_count": 237,
   "metadata": {},
   "outputs": [],
   "source": [
    "user_ages = df.select([\"userId\", \"churned\", datediff(\"timestamp_dt\", \"registration_dt\")]).groupBy([\"userId\", \"churned\"]).max().select(\"churned\", col(\"max(datediff(timestamp_dt, registration_dt))\").alias(\"age\"))"
   ]
  },
  {
   "cell_type": "code",
   "execution_count": 238,
   "metadata": {},
   "outputs": [
    {
     "data": {
      "text/html": [
       "<div>\n",
       "<style scoped>\n",
       "    .dataframe tbody tr th:only-of-type {\n",
       "        vertical-align: middle;\n",
       "    }\n",
       "\n",
       "    .dataframe tbody tr th {\n",
       "        vertical-align: top;\n",
       "    }\n",
       "\n",
       "    .dataframe thead th {\n",
       "        text-align: right;\n",
       "    }\n",
       "</style>\n",
       "<table border=\"1\" class=\"dataframe\">\n",
       "  <thead>\n",
       "    <tr style=\"text-align: right;\">\n",
       "      <th></th>\n",
       "      <th>churned</th>\n",
       "      <th>avg(age)</th>\n",
       "    </tr>\n",
       "  </thead>\n",
       "  <tbody>\n",
       "    <tr>\n",
       "      <th>0</th>\n",
       "      <td>True</td>\n",
       "      <td>68.010101</td>\n",
       "    </tr>\n",
       "    <tr>\n",
       "      <th>1</th>\n",
       "      <td>False</td>\n",
       "      <td>87.074499</td>\n",
       "    </tr>\n",
       "  </tbody>\n",
       "</table>\n",
       "</div>"
      ],
      "text/plain": [
       "   churned   avg(age)\n",
       "0     True  68.010101\n",
       "1    False  87.074499"
      ]
     },
     "execution_count": 238,
     "metadata": {},
     "output_type": "execute_result"
    }
   ],
   "source": [
    "user_ages.groupBy(\"churned\").mean().toPandas()"
   ]
  },
  {
   "cell_type": "markdown",
   "metadata": {},
   "source": [
    "This shows that churned users used the sparkify app for less periods of times on an average than non-churned users."
   ]
  },
  {
   "cell_type": "markdown",
   "metadata": {},
   "source": [
    "#### Number of events/actions transpired in given users' timelines"
   ]
  },
  {
   "cell_type": "code",
   "execution_count": 239,
   "metadata": {},
   "outputs": [],
   "source": [
    "user_number_events = df.groupBy([\"userId\", \"churned\"]).count().select(\"churned\", col(\"count\").alias(\"number_events\"))"
   ]
  },
  {
   "cell_type": "code",
   "execution_count": 240,
   "metadata": {},
   "outputs": [
    {
     "data": {
      "text/html": [
       "<div>\n",
       "<style scoped>\n",
       "    .dataframe tbody tr th:only-of-type {\n",
       "        vertical-align: middle;\n",
       "    }\n",
       "\n",
       "    .dataframe tbody tr th {\n",
       "        vertical-align: top;\n",
       "    }\n",
       "\n",
       "    .dataframe thead th {\n",
       "        text-align: right;\n",
       "    }\n",
       "</style>\n",
       "<table border=\"1\" class=\"dataframe\">\n",
       "  <thead>\n",
       "    <tr style=\"text-align: right;\">\n",
       "      <th></th>\n",
       "      <th>churned</th>\n",
       "      <th>avg(number_events)</th>\n",
       "    </tr>\n",
       "  </thead>\n",
       "  <tbody>\n",
       "    <tr>\n",
       "      <th>0</th>\n",
       "      <td>True</td>\n",
       "      <td>1046.929293</td>\n",
       "    </tr>\n",
       "    <tr>\n",
       "      <th>1</th>\n",
       "      <td>False</td>\n",
       "      <td>1215.928367</td>\n",
       "    </tr>\n",
       "  </tbody>\n",
       "</table>\n",
       "</div>"
      ],
      "text/plain": [
       "   churned  avg(number_events)\n",
       "0     True         1046.929293\n",
       "1    False         1215.928367"
      ]
     },
     "execution_count": 240,
     "metadata": {},
     "output_type": "execute_result"
    }
   ],
   "source": [
    "user_number_events.groupBy(\"churned\").mean().toPandas()"
   ]
  },
  {
   "cell_type": "markdown",
   "metadata": {},
   "source": [
    "On an average, churned users have less number of interactions than non-churned users. "
   ]
  },
  {
   "cell_type": "markdown",
   "metadata": {},
   "source": [
    "#### Number of thumbs down/thumbs up given by churned vs non-churned users"
   ]
  },
  {
   "cell_type": "code",
   "execution_count": 241,
   "metadata": {},
   "outputs": [],
   "source": [
    "users_thumbs_down = df.filter(col(\"page\") == \"Thumbs Down\").groupBy([\"churned\", \"userId\"]).count()"
   ]
  },
  {
   "cell_type": "code",
   "execution_count": 242,
   "metadata": {},
   "outputs": [
    {
     "data": {
      "text/html": [
       "<div>\n",
       "<style scoped>\n",
       "    .dataframe tbody tr th:only-of-type {\n",
       "        vertical-align: middle;\n",
       "    }\n",
       "\n",
       "    .dataframe tbody tr th {\n",
       "        vertical-align: top;\n",
       "    }\n",
       "\n",
       "    .dataframe thead th {\n",
       "        text-align: right;\n",
       "    }\n",
       "</style>\n",
       "<table border=\"1\" class=\"dataframe\">\n",
       "  <thead>\n",
       "    <tr style=\"text-align: right;\">\n",
       "      <th></th>\n",
       "      <th>churned</th>\n",
       "      <th>avg(count)</th>\n",
       "    </tr>\n",
       "  </thead>\n",
       "  <tbody>\n",
       "    <tr>\n",
       "      <th>0</th>\n",
       "      <td>True</td>\n",
       "      <td>12.988764</td>\n",
       "    </tr>\n",
       "    <tr>\n",
       "      <th>1</th>\n",
       "      <td>False</td>\n",
       "      <td>12.516667</td>\n",
       "    </tr>\n",
       "  </tbody>\n",
       "</table>\n",
       "</div>"
      ],
      "text/plain": [
       "   churned  avg(count)\n",
       "0     True   12.988764\n",
       "1    False   12.516667"
      ]
     },
     "execution_count": 242,
     "metadata": {},
     "output_type": "execute_result"
    }
   ],
   "source": [
    "users_thumbs_down.groupBy(\"churned\").mean().toPandas()"
   ]
  },
  {
   "cell_type": "markdown",
   "metadata": {},
   "source": [
    "On an average, people who thumbs down more often indicate signs of churning."
   ]
  },
  {
   "cell_type": "code",
   "execution_count": 244,
   "metadata": {},
   "outputs": [],
   "source": [
    "users_thumbs_down = df.filter(col(\"page\") == \"Thumbs Up\").groupBy([\"churned\", \"userId\"]).count()"
   ]
  },
  {
   "cell_type": "code",
   "execution_count": 245,
   "metadata": {
    "scrolled": true
   },
   "outputs": [
    {
     "data": {
      "text/html": [
       "<div>\n",
       "<style scoped>\n",
       "    .dataframe tbody tr th:only-of-type {\n",
       "        vertical-align: middle;\n",
       "    }\n",
       "\n",
       "    .dataframe tbody tr th {\n",
       "        vertical-align: top;\n",
       "    }\n",
       "\n",
       "    .dataframe thead th {\n",
       "        text-align: right;\n",
       "    }\n",
       "</style>\n",
       "<table border=\"1\" class=\"dataframe\">\n",
       "  <thead>\n",
       "    <tr style=\"text-align: right;\">\n",
       "      <th></th>\n",
       "      <th>churned</th>\n",
       "      <th>avg(count)</th>\n",
       "    </tr>\n",
       "  </thead>\n",
       "  <tbody>\n",
       "    <tr>\n",
       "      <th>0</th>\n",
       "      <td>True</td>\n",
       "      <td>43.877551</td>\n",
       "    </tr>\n",
       "    <tr>\n",
       "      <th>1</th>\n",
       "      <td>False</td>\n",
       "      <td>57.260997</td>\n",
       "    </tr>\n",
       "  </tbody>\n",
       "</table>\n",
       "</div>"
      ],
      "text/plain": [
       "   churned  avg(count)\n",
       "0     True   43.877551\n",
       "1    False   57.260997"
      ]
     },
     "execution_count": 245,
     "metadata": {},
     "output_type": "execute_result"
    }
   ],
   "source": [
    "users_thumbs_down.groupBy(\"churned\").mean().toPandas()"
   ]
  },
  {
   "cell_type": "markdown",
   "metadata": {},
   "source": [
    "#### Number of sessions per user"
   ]
  },
  {
   "cell_type": "markdown",
   "metadata": {},
   "source": [
    "Let's take a look at one user's session shenanigans."
   ]
  },
  {
   "cell_type": "code",
   "execution_count": 43,
   "metadata": {},
   "outputs": [
    {
     "name": "stdout",
     "output_type": "stream",
     "text": [
      "+---------+-----+\n",
      "|sessionId|count|\n",
      "+---------+-----+\n",
      "|     4101|  433|\n",
      "|     2687|  296|\n",
      "|      443|  204|\n",
      "|     2063|  204|\n",
      "|     4211|  197|\n",
      "|     4480|  138|\n",
      "|     1361|   80|\n",
      "|     3437|   73|\n",
      "|     3360|   58|\n",
      "|     4774|   39|\n",
      "|     2943|   37|\n",
      "|     4252|   13|\n",
      "+---------+-----+\n",
      "\n"
     ]
    }
   ],
   "source": [
    "df.filter(col(\"userId\")==209).groupBy(\"sessionId\").count().sort(col(\"count\").desc()).show(100)"
   ]
  },
  {
   "cell_type": "code",
   "execution_count": 246,
   "metadata": {},
   "outputs": [],
   "source": [
    "user_number_sessions = df.groupBy([\"userId\", \"churned\"]).agg(countDistinct(\"sessionId\")).select(\"churned\", col(\"count(DISTINCT sessionId)\").alias(\"number of sessions\"))"
   ]
  },
  {
   "cell_type": "code",
   "execution_count": 247,
   "metadata": {},
   "outputs": [
    {
     "name": "stdout",
     "output_type": "stream",
     "text": [
      "+-------+------------------+\n",
      "|churned|number of sessions|\n",
      "+-------+------------------+\n",
      "|  false|                13|\n",
      "|  false|                 3|\n",
      "|  false|                12|\n",
      "|  false|                 5|\n",
      "|   true|                 2|\n",
      "|  false|                 2|\n",
      "|   true|                 3|\n",
      "|  false|                13|\n",
      "|  false|                 6|\n",
      "|   true|                 2|\n",
      "|   true|                20|\n",
      "|  false|                37|\n",
      "|   true|                26|\n",
      "|   true|                 6|\n",
      "|  false|                11|\n",
      "|  false|                 2|\n",
      "|   true|                22|\n",
      "|  false|                16|\n",
      "|  false|                18|\n",
      "|  false|                 3|\n",
      "+-------+------------------+\n",
      "only showing top 20 rows\n",
      "\n"
     ]
    }
   ],
   "source": [
    "user_number_sessions.show()"
   ]
  },
  {
   "cell_type": "code",
   "execution_count": 248,
   "metadata": {},
   "outputs": [
    {
     "data": {
      "text/html": [
       "<div>\n",
       "<style scoped>\n",
       "    .dataframe tbody tr th:only-of-type {\n",
       "        vertical-align: middle;\n",
       "    }\n",
       "\n",
       "    .dataframe tbody tr th {\n",
       "        vertical-align: top;\n",
       "    }\n",
       "\n",
       "    .dataframe thead th {\n",
       "        text-align: right;\n",
       "    }\n",
       "</style>\n",
       "<table border=\"1\" class=\"dataframe\">\n",
       "  <thead>\n",
       "    <tr style=\"text-align: right;\">\n",
       "      <th></th>\n",
       "      <th>churned</th>\n",
       "      <th>avg(number of sessions)</th>\n",
       "    </tr>\n",
       "  </thead>\n",
       "  <tbody>\n",
       "    <tr>\n",
       "      <th>0</th>\n",
       "      <td>True</td>\n",
       "      <td>12.090909</td>\n",
       "    </tr>\n",
       "    <tr>\n",
       "      <th>1</th>\n",
       "      <td>False</td>\n",
       "      <td>13.991404</td>\n",
       "    </tr>\n",
       "  </tbody>\n",
       "</table>\n",
       "</div>"
      ],
      "text/plain": [
       "   churned  avg(number of sessions)\n",
       "0     True                12.090909\n",
       "1    False                13.991404"
      ]
     },
     "execution_count": 248,
     "metadata": {},
     "output_type": "execute_result"
    }
   ],
   "source": [
    "user_number_sessions.groupBy(\"churned\").mean().toPandas()"
   ]
  },
  {
   "cell_type": "markdown",
   "metadata": {},
   "source": [
    "#### Page counts distribution among users (Features done, visualization and exploration necessary)"
   ]
  },
  {
   "cell_type": "code",
   "execution_count": 249,
   "metadata": {},
   "outputs": [],
   "source": [
    "pages = df.select('page').distinct().sort('page')\n",
    "pages_list = [r.page for r in pages.collect()]\n",
    "page_counts = df.groupby('userId').pivot('page', pages_list).count()"
   ]
  },
  {
   "cell_type": "code",
   "execution_count": 250,
   "metadata": {},
   "outputs": [],
   "source": [
    "df_page = df.groupBy([\"churned\", \"page\"]).count().toPandas()"
   ]
  },
  {
   "cell_type": "code",
   "execution_count": 251,
   "metadata": {},
   "outputs": [],
   "source": [
    "df_page[\"log_count\"] = np.log(df_page[\"count\"])"
   ]
  },
  {
   "cell_type": "code",
   "execution_count": 252,
   "metadata": {},
   "outputs": [
    {
     "data": {
      "text/html": [
       "<div>\n",
       "<style scoped>\n",
       "    .dataframe tbody tr th:only-of-type {\n",
       "        vertical-align: middle;\n",
       "    }\n",
       "\n",
       "    .dataframe tbody tr th {\n",
       "        vertical-align: top;\n",
       "    }\n",
       "\n",
       "    .dataframe thead th {\n",
       "        text-align: right;\n",
       "    }\n",
       "</style>\n",
       "<table border=\"1\" class=\"dataframe\">\n",
       "  <thead>\n",
       "    <tr style=\"text-align: right;\">\n",
       "      <th></th>\n",
       "      <th>churned</th>\n",
       "      <th>page</th>\n",
       "      <th>count</th>\n",
       "      <th>log_count</th>\n",
       "    </tr>\n",
       "  </thead>\n",
       "  <tbody>\n",
       "    <tr>\n",
       "      <th>0</th>\n",
       "      <td>False</td>\n",
       "      <td>Save Settings</td>\n",
       "      <td>481</td>\n",
       "      <td>6.175867</td>\n",
       "    </tr>\n",
       "    <tr>\n",
       "      <th>1</th>\n",
       "      <td>True</td>\n",
       "      <td>Logout</td>\n",
       "      <td>1184</td>\n",
       "      <td>7.076654</td>\n",
       "    </tr>\n",
       "    <tr>\n",
       "      <th>2</th>\n",
       "      <td>False</td>\n",
       "      <td>Submit Downgrade</td>\n",
       "      <td>88</td>\n",
       "      <td>4.477337</td>\n",
       "    </tr>\n",
       "    <tr>\n",
       "      <th>3</th>\n",
       "      <td>False</td>\n",
       "      <td>NextSong</td>\n",
       "      <td>348518</td>\n",
       "      <td>12.761445</td>\n",
       "    </tr>\n",
       "    <tr>\n",
       "      <th>4</th>\n",
       "      <td>True</td>\n",
       "      <td>Save Settings</td>\n",
       "      <td>104</td>\n",
       "      <td>4.644391</td>\n",
       "    </tr>\n",
       "  </tbody>\n",
       "</table>\n",
       "</div>"
      ],
      "text/plain": [
       "   churned              page   count  log_count\n",
       "0    False     Save Settings     481   6.175867\n",
       "1     True            Logout    1184   7.076654\n",
       "2    False  Submit Downgrade      88   4.477337\n",
       "3    False          NextSong  348518  12.761445\n",
       "4     True     Save Settings     104   4.644391"
      ]
     },
     "execution_count": 252,
     "metadata": {},
     "output_type": "execute_result"
    }
   ],
   "source": [
    "df_page.head()"
   ]
  },
  {
   "cell_type": "code",
   "execution_count": 253,
   "metadata": {},
   "outputs": [],
   "source": [
    "df_page = df_page[~df_page.page.isin(['Cancellation Confirmation', 'Cancel'])]"
   ]
  },
  {
   "cell_type": "code",
   "execution_count": 254,
   "metadata": {},
   "outputs": [
    {
     "data": {
      "text/plain": [
       "(array([ 0,  1,  2,  3,  4,  5,  6,  7,  8,  9, 10, 11, 12, 13, 14, 15, 16]),\n",
       " <a list of 17 Text xticklabel objects>)"
      ]
     },
     "execution_count": 254,
     "metadata": {},
     "output_type": "execute_result"
    },
    {
     "data": {
      "image/png": "[encoded data removed]",
      "text/plain": [
       "<Figure size 720x432 with 1 Axes>"
      ]
     },
     "metadata": {
      "needs_background": "light"
     },
     "output_type": "display_data"
    }
   ],
   "source": [
    "plt.figure(figsize=(10, 6))\n",
    "sns.barplot(x='page',\n",
    "            y='log_count',\n",
    "            hue='churned',\n",
    "            data=df_page)\n",
    "plt.xticks(rotation=30, ha=\"right\")"
   ]
  },
  {
   "cell_type": "markdown",
   "metadata": {},
   "source": [
    "Visually the difference between churned and non churned users is less for 'Roll Advert' page which is understandable. It seems that free users are majority of churned users."
   ]
  },
  {
   "cell_type": "markdown",
   "metadata": {},
   "source": [
    "# Feature Engineering\n",
    "Once you've familiarized yourself with the data, build out the features you find promising to train your model on. To work with the full dataset, you can follow the following steps.\n",
    "- Write a script to extract the necessary features from the smaller subset of data\n",
    "- Ensure that your script is scalable, using the best practices discussed in Lesson 3\n",
    "- Try your script on the full data set, debugging your script if necessary\n",
    "\n",
    "If you are working in the classroom workspace, you can just extract features based on the small subset of data contained here. Be sure to transfer over this work to the larger dataset when you work on your Spark cluster."
   ]
  },
  {
   "cell_type": "markdown",
   "metadata": {},
   "source": [
    "**Note**: We will append all the relevant columns corresponding to each user"
   ]
  },
  {
   "cell_type": "code",
   "execution_count": 301,
   "metadata": {},
   "outputs": [],
   "source": [
    "feature_df = df.select(\"userId\").distinct()\n",
    "col_names = []"
   ]
  },
  {
   "cell_type": "code",
   "execution_count": 302,
   "metadata": {},
   "outputs": [],
   "source": [
    "feature_df = feature_df.join(df.select(\"userId\", \"device_classVec\"), on=\"userId\")"
   ]
  },
  {
   "cell_type": "code",
   "execution_count": 303,
   "metadata": {},
   "outputs": [
    {
     "name": "stdout",
     "output_type": "stream",
     "text": [
      "+------+---------------+\n",
      "|userId|device_classVec|\n",
      "+------+---------------+\n",
      "|100010|  (5,[3],[1.0])|\n",
      "|200002|  (5,[3],[1.0])|\n",
      "|   296|  (5,[1],[1.0])|\n",
      "|   125|  (5,[1],[1.0])|\n",
      "|   124|  (5,[1],[1.0])|\n",
      "|    51|  (5,[0],[1.0])|\n",
      "|     7|  (5,[0],[1.0])|\n",
      "|200037|  (5,[3],[1.0])|\n",
      "|   169|  (5,[1],[1.0])|\n",
      "|   205|  (5,[1],[1.0])|\n",
      "|   272|  (5,[0],[1.0])|\n",
      "|    15|  (5,[0],[1.0])|\n",
      "|   232|  (5,[1],[1.0])|\n",
      "|   234|  (5,[0],[1.0])|\n",
      "|   282|  (5,[0],[1.0])|\n",
      "|    54|  (5,[0],[1.0])|\n",
      "|   155|  (5,[1],[1.0])|\n",
      "|200043|  (5,[1],[1.0])|\n",
      "|100014|  (5,[0],[1.0])|\n",
      "|   132|  (5,[1],[1.0])|\n",
      "+------+---------------+\n",
      "only showing top 20 rows\n",
      "\n"
     ]
    }
   ],
   "source": [
    "feature_df.show()"
   ]
  },
  {
   "cell_type": "markdown",
   "metadata": {},
   "source": [
    "### Session counts for each user"
   ]
  },
  {
   "cell_type": "code",
   "execution_count": 96,
   "metadata": {},
   "outputs": [
    {
     "name": "stdout",
     "output_type": "stream",
     "text": [
      "+------+-------------+\n",
      "|userId|session_count|\n",
      "+------+-------------+\n",
      "|200002|            5|\n",
      "|   296|            5|\n",
      "|100010|            2|\n",
      "|   125|            3|\n",
      "|     7|           15|\n",
      "|   124|           17|\n",
      "|    51|            5|\n",
      "|200037|            7|\n",
      "|   205|            5|\n",
      "|   169|            8|\n",
      "|   272|            2|\n",
      "|   282|           29|\n",
      "|    15|           18|\n",
      "|    54|            8|\n",
      "|   234|           26|\n",
      "|   232|           23|\n",
      "|200043|           12|\n",
      "|   155|            4|\n",
      "|100014|            4|\n",
      "|   154|            4|\n",
      "+------+-------------+\n",
      "only showing top 20 rows\n",
      "\n"
     ]
    }
   ],
   "source": [
    "session_counts = df.groupby('userId').agg(countDistinct('sessionId').alias('session_count'))\n",
    "session_counts.show()"
   ]
  },
  {
   "cell_type": "code",
   "execution_count": 97,
   "metadata": {},
   "outputs": [],
   "source": [
    "feature_df = feature_df.join(session_counts, on=\"userId\")\n",
    "col_names.append(\"session_count\")"
   ]
  },
  {
   "cell_type": "code",
   "execution_count": 98,
   "metadata": {},
   "outputs": [
    {
     "name": "stdout",
     "output_type": "stream",
     "text": [
      "+------+-------------+\n",
      "|userId|session_count|\n",
      "+------+-------------+\n",
      "|100010|            2|\n",
      "|200002|            5|\n",
      "|   296|            5|\n",
      "|   125|            3|\n",
      "|   124|           17|\n",
      "|    51|            5|\n",
      "|     7|           15|\n",
      "|200037|            7|\n",
      "|   169|            8|\n",
      "|   205|            5|\n",
      "|   272|            2|\n",
      "|    15|           18|\n",
      "|   232|           23|\n",
      "|   234|           26|\n",
      "|   282|           29|\n",
      "|    54|            8|\n",
      "|   155|            4|\n",
      "|200043|           12|\n",
      "|100014|            4|\n",
      "|   132|            2|\n",
      "+------+-------------+\n",
      "only showing top 20 rows\n",
      "\n"
     ]
    }
   ],
   "source": [
    "feature_df.show()"
   ]
  },
  {
   "cell_type": "markdown",
   "metadata": {},
   "source": [
    "### Counts of each event action (page) per user"
   ]
  },
  {
   "cell_type": "code",
   "execution_count": 99,
   "metadata": {},
   "outputs": [],
   "source": [
    "pages = df.select('page').distinct().sort('page')\n",
    "pages_list = [r.page for r in pages.collect()]\n",
    "page_counts = df.groupby('userId').pivot('page', pages_list).count()"
   ]
  },
  {
   "cell_type": "code",
   "execution_count": 100,
   "metadata": {},
   "outputs": [],
   "source": [
    "# Drop the \"Cancel\" page column\n",
    "page_counts = page_counts.drop(\"Cancel\")\n",
    "\n",
    "# Fill NaNs with 0 - This will inherently transform \"Cancellation Confirmation\" into \"churn\"\n",
    "page_counts = page_counts.fillna(value=0)\n",
    "\n",
    "# Rename Cancellation Confirmation column to churn\n",
    "page_counts = page_counts.withColumnRenamed(\"Cancellation Confirmation\", \"Churn\")"
   ]
  },
  {
   "cell_type": "code",
   "execution_count": 101,
   "metadata": {},
   "outputs": [
    {
     "data": {
      "text/html": [
       "<div>\n",
       "<style scoped>\n",
       "    .dataframe tbody tr th:only-of-type {\n",
       "        vertical-align: middle;\n",
       "    }\n",
       "\n",
       "    .dataframe tbody tr th {\n",
       "        vertical-align: top;\n",
       "    }\n",
       "\n",
       "    .dataframe thead th {\n",
       "        text-align: right;\n",
       "    }\n",
       "</style>\n",
       "<table border=\"1\" class=\"dataframe\">\n",
       "  <thead>\n",
       "    <tr style=\"text-align: right;\">\n",
       "      <th></th>\n",
       "      <th>userId</th>\n",
       "      <th>About</th>\n",
       "      <th>Add Friend</th>\n",
       "      <th>Add to Playlist</th>\n",
       "      <th>Churn</th>\n",
       "      <th>Downgrade</th>\n",
       "      <th>Error</th>\n",
       "      <th>Help</th>\n",
       "      <th>Home</th>\n",
       "      <th>Logout</th>\n",
       "      <th>NextSong</th>\n",
       "      <th>Roll Advert</th>\n",
       "      <th>Save Settings</th>\n",
       "      <th>Settings</th>\n",
       "      <th>Submit Downgrade</th>\n",
       "      <th>Submit Upgrade</th>\n",
       "      <th>Thumbs Down</th>\n",
       "      <th>Thumbs Up</th>\n",
       "      <th>Upgrade</th>\n",
       "    </tr>\n",
       "  </thead>\n",
       "  <tbody>\n",
       "    <tr>\n",
       "      <th>0</th>\n",
       "      <td>200002</td>\n",
       "      <td>1</td>\n",
       "      <td>2</td>\n",
       "      <td>6</td>\n",
       "      <td>1</td>\n",
       "      <td>3</td>\n",
       "      <td>0</td>\n",
       "      <td>1</td>\n",
       "      <td>23</td>\n",
       "      <td>11</td>\n",
       "      <td>310</td>\n",
       "      <td>11</td>\n",
       "      <td>0</td>\n",
       "      <td>2</td>\n",
       "      <td>0</td>\n",
       "      <td>1</td>\n",
       "      <td>5</td>\n",
       "      <td>15</td>\n",
       "      <td>2</td>\n",
       "    </tr>\n",
       "    <tr>\n",
       "      <th>1</th>\n",
       "      <td>100010</td>\n",
       "      <td>0</td>\n",
       "      <td>3</td>\n",
       "      <td>1</td>\n",
       "      <td>1</td>\n",
       "      <td>0</td>\n",
       "      <td>0</td>\n",
       "      <td>0</td>\n",
       "      <td>3</td>\n",
       "      <td>1</td>\n",
       "      <td>96</td>\n",
       "      <td>22</td>\n",
       "      <td>0</td>\n",
       "      <td>0</td>\n",
       "      <td>0</td>\n",
       "      <td>0</td>\n",
       "      <td>3</td>\n",
       "      <td>4</td>\n",
       "      <td>2</td>\n",
       "    </tr>\n",
       "    <tr>\n",
       "      <th>2</th>\n",
       "      <td>296</td>\n",
       "      <td>0</td>\n",
       "      <td>2</td>\n",
       "      <td>3</td>\n",
       "      <td>1</td>\n",
       "      <td>1</td>\n",
       "      <td>0</td>\n",
       "      <td>2</td>\n",
       "      <td>7</td>\n",
       "      <td>3</td>\n",
       "      <td>112</td>\n",
       "      <td>9</td>\n",
       "      <td>0</td>\n",
       "      <td>1</td>\n",
       "      <td>0</td>\n",
       "      <td>1</td>\n",
       "      <td>0</td>\n",
       "      <td>8</td>\n",
       "      <td>1</td>\n",
       "    </tr>\n",
       "    <tr>\n",
       "      <th>3</th>\n",
       "      <td>125</td>\n",
       "      <td>0</td>\n",
       "      <td>3</td>\n",
       "      <td>2</td>\n",
       "      <td>0</td>\n",
       "      <td>0</td>\n",
       "      <td>0</td>\n",
       "      <td>2</td>\n",
       "      <td>2</td>\n",
       "      <td>0</td>\n",
       "      <td>62</td>\n",
       "      <td>6</td>\n",
       "      <td>0</td>\n",
       "      <td>3</td>\n",
       "      <td>0</td>\n",
       "      <td>0</td>\n",
       "      <td>1</td>\n",
       "      <td>3</td>\n",
       "      <td>0</td>\n",
       "    </tr>\n",
       "    <tr>\n",
       "      <th>4</th>\n",
       "      <td>51</td>\n",
       "      <td>0</td>\n",
       "      <td>3</td>\n",
       "      <td>8</td>\n",
       "      <td>1</td>\n",
       "      <td>4</td>\n",
       "      <td>2</td>\n",
       "      <td>0</td>\n",
       "      <td>17</td>\n",
       "      <td>6</td>\n",
       "      <td>266</td>\n",
       "      <td>1</td>\n",
       "      <td>0</td>\n",
       "      <td>2</td>\n",
       "      <td>0</td>\n",
       "      <td>0</td>\n",
       "      <td>1</td>\n",
       "      <td>16</td>\n",
       "      <td>0</td>\n",
       "    </tr>\n",
       "  </tbody>\n",
       "</table>\n",
       "</div>"
      ],
      "text/plain": [
       "   userId  About  Add Friend  Add to Playlist  Churn  Downgrade  Error  Help  \\\n",
       "0  200002      1           2                6      1          3      0     1   \n",
       "1  100010      0           3                1      1          0      0     0   \n",
       "2     296      0           2                3      1          1      0     2   \n",
       "3     125      0           3                2      0          0      0     2   \n",
       "4      51      0           3                8      1          4      2     0   \n",
       "\n",
       "   Home  Logout  NextSong  Roll Advert  Save Settings  Settings  \\\n",
       "0    23      11       310           11              0         2   \n",
       "1     3       1        96           22              0         0   \n",
       "2     7       3       112            9              0         1   \n",
       "3     2       0        62            6              0         3   \n",
       "4    17       6       266            1              0         2   \n",
       "\n",
       "   Submit Downgrade  Submit Upgrade  Thumbs Down  Thumbs Up  Upgrade  \n",
       "0                 0               1            5         15        2  \n",
       "1                 0               0            3          4        2  \n",
       "2                 0               1            0          8        1  \n",
       "3                 0               0            1          3        0  \n",
       "4                 0               0            1         16        0  "
      ]
     },
     "execution_count": 101,
     "metadata": {},
     "output_type": "execute_result"
    }
   ],
   "source": [
    "page_counts.toPandas().head()"
   ]
  },
  {
   "cell_type": "code",
   "execution_count": 102,
   "metadata": {},
   "outputs": [],
   "source": [
    "# Join these feature columns to our feature dataframe\n",
    "feature_df = feature_df.join(page_counts, on=\"userId\")\n",
    "col_names.extend(list(page_counts.toPandas().columns))"
   ]
  },
  {
   "cell_type": "code",
   "execution_count": 137,
   "metadata": {},
   "outputs": [
    {
     "data": {
      "text/plain": [
       "[]"
      ]
     },
     "execution_count": 137,
     "metadata": {},
     "output_type": "execute_result"
    }
   ],
   "source": [
    "col_names"
   ]
  },
  {
   "cell_type": "markdown",
   "metadata": {},
   "source": [
    "### Time since registration"
   ]
  },
  {
   "cell_type": "code",
   "execution_count": 16,
   "metadata": {},
   "outputs": [],
   "source": [
    "user_ages = df.select([\"userId\", datediff(\"timestamp_dt\", \"registration_dt\")]).groupBy(\"userId\").max().select(\"userId\", col(\"max(datediff(timestamp_dt, registration_dt))\").alias(\"age\"))"
   ]
  },
  {
   "cell_type": "code",
   "execution_count": 111,
   "metadata": {},
   "outputs": [],
   "source": [
    "feature_df = feature_df.join(user_ages, on='userId')\n",
    "col_names.append(\"age\")"
   ]
  },
  {
   "cell_type": "markdown",
   "metadata": {},
   "source": [
    "### Number of events"
   ]
  },
  {
   "cell_type": "code",
   "execution_count": 18,
   "metadata": {},
   "outputs": [],
   "source": [
    "user_number_events = df.groupBy(\"userId\").count().select(\"userId\", col(\"count\").alias(\"num_events\"))\n",
    "feature_df = feature_df.join(user_number_events, on=\"userId\")\n",
    "col_names.append(\"num_events\")"
   ]
  },
  {
   "cell_type": "markdown",
   "metadata": {},
   "source": [
    "## Combine everything into a function"
   ]
  },
  {
   "cell_type": "code",
   "execution_count": 326,
   "metadata": {},
   "outputs": [],
   "source": [
    "def extract_features(df):\n",
    "    \"\"\"\n",
    "    Create a vector Assembler of the features.\n",
    "    \"\"\"\n",
    "    feature_df = df.select(\"userId\").distinct()\n",
    "    col_names = []\n",
    "    \n",
    "    ts_dt_udf = udf(lambda x: x//1000, LongType())\n",
    "    df = df.withColumn(\"registration_dt\", ts_dt_udf(df.registration).cast(\"timestamp\"))\n",
    "    df = df.withColumn(\"timestamp_dt\", ts_dt_udf(df.ts).cast(\"timestamp\"))\n",
    "    \n",
    "    # Session Counts\n",
    "    session_counts = df.groupby('userId').agg(countDistinct('sessionId').alias('session_count'))\n",
    "    \n",
    "    feature_df = feature_df.join(session_counts, on=\"userId\")\n",
    "    col_names.append(\"session_count\")\n",
    "\n",
    "    \n",
    "    # Page Counts\n",
    "    pages = df.select('page').distinct().sort('page')\n",
    "    pages_list = [r.page for r in pages.collect()]\n",
    "    page_counts = df.groupby('userId').pivot('page', pages_list).count()\n",
    "    \n",
    "    # Drop the \"Cancel\" page column\n",
    "    # Fill NaNs with 0 - This will inherently transform \"Cancellation Confirmation\" column into \"label\" \n",
    "    # with 1 as churned and 0 as non churned\n",
    "    page_counts = page_counts.drop(\"Cancel\")\n",
    "    page_counts = page_counts.fillna(value=0)\n",
    "    page_counts = page_counts.withColumnRenamed(\"Cancellation Confirmation\", \"label\")\n",
    "    \n",
    "    # Join these feature columns to our feature dataframe\n",
    "    feature_df = feature_df.join(page_counts, on=\"userId\")\n",
    "    \n",
    "    # Normalize by session counts\n",
    "    cut_columns = {'userId', 'session_count', 'label'}\n",
    "    remaining_cols = sorted(list(set(feature_df.columns) - cut_columns))\n",
    "    for column in remaining_cols:\n",
    "        feature_df = feature_df.withColumn(column, col(column) / feature_df.session_count)\n",
    "    col_names.extend(remaining_cols)\n",
    "    \n",
    "    \n",
    "    #col_names.extend(list(page_counts.toPandas().columns))\n",
    "\n",
    "    \n",
    "    # Time since registration\n",
    "    user_ages = df.select([\"userId\", datediff(\"timestamp_dt\", \"registration_dt\")]).groupBy(\"userId\").max().select(\"userId\", col(\"max(datediff(timestamp_dt, registration_dt))\").alias(\"age\"))    \n",
    "    feature_df = feature_df.join(user_ages, on=\"userId\")\n",
    "    col_names.append(\"age\")\n",
    "    \n",
    "    # Total number of events \n",
    "    user_number_events = df.groupBy(\"userId\").count().select(\"userId\", col(\"count\").alias(\"num_events\"))\n",
    "    feature_df = feature_df.join(user_number_events, on=\"userId\")\n",
    "    col_names.append(\"num_events\")\n",
    "    \n",
    "    # Include device categorical variable\n",
    "    device_udf = udf(lambda x: str(re.findall(r'\\((.*?)\\)', x)[0].split(\";\")[0].split()[0]) if x is not None else None, StringType())\n",
    "    df = df.withColumn(\"device\", device_udf(df.userAgent))\n",
    "\n",
    "    df_device = df.select([\"userId\", \"device\"]).distinct()\n",
    "    df_device = StringIndexer(inputCol = \"device\", outputCol=\"device_index\").fit(df_device).transform(df_device)\n",
    "    df_device = OneHotEncoderEstimator(inputCols=[stringIndexer.getOutputCol()], outputCols=[\"device_classVec\"]).fit(df_device).transform(df_device)\n",
    "    feature_df = feature_df.join(df_device.select(\"userId\", \"device_classVec\"), on=\"userId\")\n",
    "    col_names.append(\"device_classVec\")\n",
    "    # Remove user_id string from input columns\n",
    "    # col_names = list(set(col_names)-{'userId', 'sessionCount', 'label'})\n",
    "    print(col_names)\n",
    "    # Assemble the vector\n",
    "    assembler = VectorAssembler(inputCols=col_names, outputCol='features')\n",
    "    \n",
    "    return assembler.transform(feature_df), col_names"
   ]
  },
  {
   "cell_type": "code",
   "execution_count": 327,
   "metadata": {},
   "outputs": [
    {
     "name": "stdout",
     "output_type": "stream",
     "text": [
      "['session_count', 'About', 'Add Friend', 'Add to Playlist', 'Downgrade', 'Error', 'Help', 'Home', 'Logout', 'NextSong', 'Roll Advert', 'Save Settings', 'Settings', 'Submit Downgrade', 'Submit Upgrade', 'Thumbs Down', 'Thumbs Up', 'Upgrade', 'age', 'num_events', 'device_classVec']\n"
     ]
    }
   ],
   "source": [
    "# Extract features\n",
    "feature_df, col_names = extract_features(df)"
   ]
  },
  {
   "cell_type": "code",
   "execution_count": 328,
   "metadata": {},
   "outputs": [
    {
     "name": "stdout",
     "output_type": "stream",
     "text": [
      "root\n",
      " |-- userId: string (nullable = true)\n",
      " |-- session_count: long (nullable = false)\n",
      " |-- About: double (nullable = true)\n",
      " |-- Add Friend: double (nullable = true)\n",
      " |-- Add to Playlist: double (nullable = true)\n",
      " |-- label: long (nullable = true)\n",
      " |-- Downgrade: double (nullable = true)\n",
      " |-- Error: double (nullable = true)\n",
      " |-- Help: double (nullable = true)\n",
      " |-- Home: double (nullable = true)\n",
      " |-- Logout: double (nullable = true)\n",
      " |-- NextSong: double (nullable = true)\n",
      " |-- Roll Advert: double (nullable = true)\n",
      " |-- Save Settings: double (nullable = true)\n",
      " |-- Settings: double (nullable = true)\n",
      " |-- Submit Downgrade: double (nullable = true)\n",
      " |-- Submit Upgrade: double (nullable = true)\n",
      " |-- Thumbs Down: double (nullable = true)\n",
      " |-- Thumbs Up: double (nullable = true)\n",
      " |-- Upgrade: double (nullable = true)\n",
      " |-- age: integer (nullable = true)\n",
      " |-- num_events: long (nullable = false)\n",
      " |-- device_classVec: vector (nullable = true)\n",
      " |-- features: vector (nullable = true)\n",
      "\n"
     ]
    }
   ],
   "source": [
    "feature_df.printSchema()"
   ]
  },
  {
   "cell_type": "code",
   "execution_count": 329,
   "metadata": {},
   "outputs": [
    {
     "data": {
      "text/plain": [
       "[Row(userId='100010', session_count=2, About=0.0, Add Friend=1.5, Add to Playlist=0.5, label=1, Downgrade=0.0, Error=0.0, Help=0.0, Home=1.5, Logout=0.5, NextSong=48.0, Roll Advert=11.0, Save Settings=0.0, Settings=0.0, Submit Downgrade=0.0, Submit Upgrade=0.0, Thumbs Down=1.5, Thumbs Up=2.0, Upgrade=1.0, age=14, num_events=137, device_classVec=SparseVector(5, {3: 1.0}), features=SparseVector(25, {0: 2.0, 2: 1.5, 3: 0.5, 7: 1.5, 8: 0.5, 9: 48.0, 10: 11.0, 15: 1.5, 16: 2.0, 17: 1.0, 18: 14.0, 19: 137.0, 23: 1.0}))]"
      ]
     },
     "execution_count": 329,
     "metadata": {},
     "output_type": "execute_result"
    }
   ],
   "source": [
    "feature_df.head(1)"
   ]
  },
  {
   "cell_type": "markdown",
   "metadata": {},
   "source": [
    "# Modeling\n",
    "Split the full dataset into train, test, and validation sets. Test out several of the machine learning methods you learned. Evaluate the accuracy of the various models, tuning parameters as necessary. Determine your winning model based on test accuracy and report results on the validation set. Since the churned users are a fairly small subset, I suggest using F1 score as the metric to optimize."
   ]
  },
  {
   "cell_type": "code",
   "execution_count": 330,
   "metadata": {},
   "outputs": [
    {
     "name": "stdout",
     "output_type": "stream",
     "text": [
      "+-----+-----+\n",
      "|label|count|\n",
      "+-----+-----+\n",
      "|    0|  349|\n",
      "|    1|   99|\n",
      "+-----+-----+\n",
      "\n"
     ]
    }
   ],
   "source": [
    "feature_df.groupBy(\"label\").count().show()"
   ]
  },
  {
   "cell_type": "code",
   "execution_count": 331,
   "metadata": {},
   "outputs": [],
   "source": [
    "train, test = feature_df.randomSplit([0.8, 0.2], 42)"
   ]
  },
  {
   "cell_type": "code",
   "execution_count": 332,
   "metadata": {},
   "outputs": [
    {
     "name": "stdout",
     "output_type": "stream",
     "text": [
      "+-----+-----+\n",
      "|label|count|\n",
      "+-----+-----+\n",
      "|    0|  275|\n",
      "|    1|   87|\n",
      "+-----+-----+\n",
      "\n"
     ]
    }
   ],
   "source": [
    "train.groupBy(\"label\").count().show()"
   ]
  },
  {
   "cell_type": "code",
   "execution_count": 333,
   "metadata": {},
   "outputs": [
    {
     "name": "stdout",
     "output_type": "stream",
     "text": [
      "+-----+-----+\n",
      "|label|count|\n",
      "+-----+-----+\n",
      "|    0|   74|\n",
      "|    1|   12|\n",
      "+-----+-----+\n",
      "\n"
     ]
    }
   ],
   "source": [
    "test.groupBy(\"label\").count().show()"
   ]
  },
  {
   "cell_type": "markdown",
   "metadata": {},
   "source": [
    "## Logistic Regression"
   ]
  },
  {
   "cell_type": "code",
   "execution_count": 364,
   "metadata": {},
   "outputs": [],
   "source": [
    "def get_metrics(res):\n",
    "    \"\"\"Given a results vector returns accuracy and f1-score\"\"\"\n",
    "    total = res.count()\n",
    "    \n",
    "    tp = res.where((res.label==1) & (res.prediction==1)).count()\n",
    "    tn = res.where((res.label==0) & (res.prediction==0)).count()\n",
    "    \n",
    "    fp = res.where((res.label==0) & (res.prediction==1)).count()\n",
    "    fn = res.where((res.label==1) & (res.prediction==0)).count()\n",
    "        \n",
    "    accuracy = (1.0*tp + tn) / total\n",
    "    precision = 1.0*tp / (tp + fp)\n",
    "    recall = 1.0*tp / (tp + fn)\n",
    "    f1 = 2.0 * (precision * recall) / (precision + recall)\n",
    "    \n",
    "    print('Accuracy: ', round(accuracy, 2))\n",
    "    print('Precision: ', round(precision, 2))\n",
    "    print('Recall: ', round(recall, 2))\n",
    "    print('F1-Score: ', round(f1, 2))"
   ]
  },
  {
   "cell_type": "code",
   "execution_count": 361,
   "metadata": {},
   "outputs": [],
   "source": [
    "lr =  LogisticRegression(labelCol=\"label\", featuresCol=\"features\", maxIter=30, regParam=0.0, elasticNetParam=0)\n",
    "model = lr.fit(train)"
   ]
  },
  {
   "cell_type": "code",
   "execution_count": 362,
   "metadata": {},
   "outputs": [],
   "source": [
    "test_predictions = model.transform(test)"
   ]
  },
  {
   "cell_type": "code",
   "execution_count": 365,
   "metadata": {},
   "outputs": [
    {
     "name": "stdout",
     "output_type": "stream",
     "text": [
      "Accuracy:  0.84\n",
      "Precision:  0.43\n",
      "Recall:  0.5\n",
      "F1-Score:  0.46\n"
     ]
    }
   ],
   "source": [
    "get_metrics(test_predictions)"
   ]
  },
  {
   "cell_type": "code",
   "execution_count": 382,
   "metadata": {},
   "outputs": [],
   "source": [
    "paramGrid = ParamGridBuilder()\\\n",
    "    .addGrid(lr.regParam, [0.1, 0.01]) \\\n",
    "    .addGrid(lr.fitIntercept, [False, True])\\\n",
    "    .addGrid(lr.elasticNetParam, [0.0, 0.5, 1.0])\\\n",
    "    .build()\n",
    "\n",
    "crossval = CrossValidator(estimator=lr,\n",
    "                          estimatorParamMaps=paramGrid,\n",
    "                          evaluator=BinaryClassificationEvaluator(),\n",
    "                          numFolds=3)"
   ]
  },
  {
   "cell_type": "code",
   "execution_count": null,
   "metadata": {},
   "outputs": [],
   "source": [
    "cvModel = crossval.fit(train)"
   ]
  },
  {
   "cell_type": "code",
   "execution_count": null,
   "metadata": {},
   "outputs": [],
   "source": [
    "predictions = cvModel.transform(test)"
   ]
  },
  {
   "cell_type": "code",
   "execution_count": null,
   "metadata": {},
   "outputs": [],
   "source": [
    "get_metrics(predictions)"
   ]
  },
  {
   "cell_type": "code",
   "execution_count": null,
   "metadata": {},
   "outputs": [],
   "source": [
    "print(\"Elastic Net Parameter:{}\".format(cvModel.bestModel._java_obj.getElasticNetParam()))\n",
    "print(\"Fit Intercept Parameter:{}\".format(cvModel.bestModel._java_obj.getFitIntercept()))\n",
    "print(\"Regularization Parameter:{}\".format(cvModel.bestModel._java_obj.getRegParam()))"
   ]
  },
  {
   "cell_type": "markdown",
   "metadata": {},
   "source": [
    "## Decision Tree"
   ]
  },
  {
   "cell_type": "code",
   "execution_count": 339,
   "metadata": {},
   "outputs": [
    {
     "name": "stdout",
     "output_type": "stream",
     "text": [
      "Accuracy:  0.86\n",
      "Precision:  0.5\n",
      "Recall:  0.33\n",
      "F1-Score:  0.4\n"
     ]
    }
   ],
   "source": [
    "decision_tree_model = DecisionTreeClassifier(labelCol=\"label\", featuresCol=\"features\")\n",
    "dt_model = decision_tree_model.fit(train)\n",
    "results_dt = dt_model.transform(test)\n",
    "get_metrics(results_dt)"
   ]
  },
  {
   "cell_type": "markdown",
   "metadata": {},
   "source": [
    "## Random Forest"
   ]
  },
  {
   "cell_type": "code",
   "execution_count": 340,
   "metadata": {},
   "outputs": [
    {
     "name": "stdout",
     "output_type": "stream",
     "text": [
      "Accuracy:  0.86\n",
      "Precision:  0.5\n",
      "Recall:  0.33\n",
      "F1-Score:  0.4\n"
     ]
    }
   ],
   "source": [
    "rf = RandomForestClassifier(labelCol=\"label\", featuresCol=\"features\")\n",
    "rf_model = rf.fit(train)\n",
    "results_rf = rf_model.transform(test)\n",
    "get_metrics(results_dt)"
   ]
  },
  {
   "cell_type": "markdown",
   "metadata": {},
   "source": [
    "## Gradient Boosted Trees"
   ]
  },
  {
   "cell_type": "code",
   "execution_count": 341,
   "metadata": {},
   "outputs": [
    {
     "name": "stdout",
     "output_type": "stream",
     "text": [
      "Accuracy:  0.85\n",
      "Precision:  0.44\n",
      "Recall:  0.33\n",
      "F1-Score:  0.38\n"
     ]
    }
   ],
   "source": [
    "from pyspark.ml.classification import GBTClassifier\n",
    "\n",
    "gbt = GBTClassifier(labelCol=\"label\", featuresCol=\"features\", maxIter=10)\n",
    "gbt_model = gbt.fit(train)\n",
    "results_gbt = gbt_model.transform(test)\n",
    "get_metrics(results_gbt)"
   ]
  },
  {
   "cell_type": "markdown",
   "metadata": {},
   "source": [
    "## Fine tuning"
   ]
  },
  {
   "cell_type": "code",
   "execution_count": 342,
   "metadata": {},
   "outputs": [],
   "source": [
    "rf_paramGrid = ParamGridBuilder() \\\n",
    "                .addGrid(rf.maxDepth, [3,7]) \\\n",
    "                .addGrid(rf.minInstancesPerNode, [3, 5]) \\\n",
    "                .addGrid(rf.numTrees, [10, 20, 30, 40]) \\\n",
    "                .build()"
   ]
  },
  {
   "cell_type": "code",
   "execution_count": 343,
   "metadata": {},
   "outputs": [],
   "source": [
    "rf_crossval = CrossValidator(estimator = rf,\n",
    "                             estimatorParamMaps=rf_paramGrid,\n",
    "                             evaluator = BinaryClassificationEvaluator(),\n",
    "                             numFolds=3)"
   ]
  },
  {
   "cell_type": "code",
   "execution_count": 344,
   "metadata": {},
   "outputs": [],
   "source": [
    "rf_cross_model = rf_crossval.fit(train)"
   ]
  },
  {
   "cell_type": "code",
   "execution_count": 345,
   "metadata": {},
   "outputs": [],
   "source": [
    "results_rf_cross = rf_cross_model.transform(test)"
   ]
  },
  {
   "cell_type": "code",
   "execution_count": 346,
   "metadata": {},
   "outputs": [
    {
     "data": {
      "text/plain": [
       "[0.7078496917695946,\n",
       " 0.6311182916158642,\n",
       " 0.7030986688146883,\n",
       " 0.6169236129794381,\n",
       " 0.6981606744956262,\n",
       " 0.6948514272543397,\n",
       " 0.6847484890567417,\n",
       " 0.6761847235148204,\n",
       " 0.690249622591856,\n",
       " 0.7071814025697523,\n",
       " 0.6785053432504891,\n",
       " 0.6973630462708132]"
      ]
     },
     "execution_count": 346,
     "metadata": {},
     "output_type": "execute_result"
    }
   ],
   "source": [
    "rf_cross_model.avgMetrics"
   ]
  },
  {
   "cell_type": "code",
   "execution_count": 347,
   "metadata": {},
   "outputs": [
    {
     "name": "stdout",
     "output_type": "stream",
     "text": [
      "Accuracy:  0.87\n",
      "Precision:  0.6\n",
      "Recall:  0.25\n",
      "F1-Score:  0.35\n"
     ]
    }
   ],
   "source": [
    "get_metrics(results_rf_cross)"
   ]
  },
  {
   "cell_type": "markdown",
   "metadata": {},
   "source": [
    "# Final Steps\n",
    "Clean up your code, adding comments and renaming variables to make the code easier to read and maintain. Refer to the Spark Project Overview page and Data Scientist Capstone Project Rubric to make sure you are including all components of the capstone project and meet all expectations. Remember, this includes thorough documentation in a README file in a Github repository, as well as a web app or blog post."
   ]
  },
  {
   "cell_type": "code",
   "execution_count": null,
   "metadata": {},
   "outputs": [],
   "source": []
  }
 ],
 "metadata": {
  "kernelspec": {
   "display_name": "Python 3",
   "language": "python",
   "name": "python3"
  },
  "language_info": {
   "codemirror_mode": {
    "name": "ipython",
    "version": 3
   },
   "file_extension": ".py",
   "mimetype": "text/x-python",
   "name": "python",
   "nbconvert_exporter": "python",
   "pygments_lexer": "ipython3",
   "version": "3.5.2"
  }
 },
 "nbformat": 4,
 "nbformat_minor": 2
}
